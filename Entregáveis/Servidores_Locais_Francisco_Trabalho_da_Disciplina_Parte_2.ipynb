{
 "cells": [
  {
   "cell_type": "markdown",
   "metadata": {
    "id": "mYBYoyHcJzoy"
   },
   "source": [
    "**1) Bibliotecas**"
   ]
  },
  {
   "cell_type": "code",
   "execution_count": 1,
   "metadata": {
    "colab": {
     "base_uri": "https://localhost:8080/"
    },
    "id": "9QYtUdIsRMjU",
    "outputId": "54db569e-1cdd-434c-803a-2f9d798480d7"
   },
   "outputs": [
    {
     "name": "stdout",
     "output_type": "stream",
     "text": [
      "Python 3.10.12\n"
     ]
    }
   ],
   "source": [
    "# exibir a versão do python utilizada pelo notebook\n",
    "!python --version"
   ]
  },
  {
   "cell_type": "code",
   "execution_count": 2,
   "metadata": {
    "id": "lvd45-98ROLU"
   },
   "outputs": [],
   "source": [
    "# biblioteca do python feita para o MongoDB\n",
    "!python -m pip install -q pymongo[srv]"
   ]
  },
  {
   "cell_type": "code",
   "execution_count": 3,
   "metadata": {
    "id": "22HCwr06LCIT"
   },
   "outputs": [],
   "source": [
    "# biblioteca do python feita para o MySQL\n",
    "!python -m pip install -q PyMySQL"
   ]
  },
  {
   "cell_type": "code",
   "execution_count": 4,
   "metadata": {
    "id": "22HCwr06LCIT"
   },
   "outputs": [],
   "source": [
    "# biblioteca do python feita para o Pandas Dataframe\n",
    "!python -m pip install -q pandas"
   ]
  },
  {
   "cell_type": "code",
   "execution_count": 5,
   "metadata": {
    "id": "22HCwr06LCIT"
   },
   "outputs": [],
   "source": [
    "# biblioteca do python feita para o Seaborn\n",
    "!python -m pip install -q seaborn"
   ]
  },
  {
   "cell_type": "code",
   "execution_count": 6,
   "metadata": {
    "id": "GPas_elDdmHk"
   },
   "outputs": [],
   "source": [
    "import pymongo\n",
    "from pymongo import MongoClient\n",
    "import datetime\n",
    "import time\n",
    "import json\n",
    "import os\n",
    "import pymysql\n",
    "import pandas as pd\n",
    "import seaborn as sns\n",
    "import matplotlib.pyplot as plt\n",
    "import numpy as np\n",
    "import time\n",
    "import warnings\n",
    "warnings.filterwarnings('ignore')"
   ]
  },
  {
   "cell_type": "code",
   "execution_count": 7,
   "metadata": {
    "id": "OV17pBktWAnZ"
   },
   "outputs": [],
   "source": [
    "pd.set_option('display.max_columns', None)"
   ]
  },
  {
   "cell_type": "code",
   "execution_count": 8,
   "metadata": {
    "id": "hYVPl4dfWAZJ"
   },
   "outputs": [],
   "source": [
    "pd.set_option('max_colwidth', None)"
   ]
  },
  {
   "cell_type": "code",
   "execution_count": 9,
   "metadata": {},
   "outputs": [],
   "source": [
    "iteracoes = 200"
   ]
  },
  {
   "cell_type": "markdown",
   "metadata": {
    "id": "aycgHOfje2fR"
   },
   "source": [
    "**2) Conectar Google Drive**"
   ]
  },
  {
   "cell_type": "code",
   "execution_count": 10,
   "metadata": {
    "colab": {
     "base_uri": "https://localhost:8080/"
    },
    "id": "Kji4iypve3XH",
    "outputId": "73f1bc4e-da92-42ca-ee5c-894c21f2004b"
   },
   "outputs": [],
   "source": [
    "#from google.colab import drive\n",
    "#drive.mount('/content/drive')"
   ]
  },
  {
   "cell_type": "code",
   "execution_count": 11,
   "metadata": {
    "id": "amI3O6_qfJwx"
   },
   "outputs": [],
   "source": [
    "#os.chdir(\"/content/drive/MyDrive/Databases/Mestrado\")"
   ]
  },
  {
   "cell_type": "markdown",
   "metadata": {
    "id": "qoKPsJMzJpCT"
   },
   "source": [
    "**3) MongoDB Localhost**"
   ]
  },
  {
   "cell_type": "markdown",
   "metadata": {
    "id": "0Q1WClB8SeTQ"
   },
   "source": [
    "**3.1) Conectar com o Banco de Dados**"
   ]
  },
  {
   "cell_type": "code",
   "execution_count": 12,
   "metadata": {
    "colab": {
     "base_uri": "https://localhost:8080/"
    },
    "id": "gi2aJjpQRWA7",
    "outputId": "62d59138-310c-436d-91f7-3e5473b00f94"
   },
   "outputs": [],
   "source": [
    "def ConnectMongoDBClient()->any:\n",
    "    # uri (uniform resource identifier) defines the connection parameters\n",
    "    uri = \"mongodb://localhost:27017/\"\n",
    "    # start client to connect to MongoDB server\n",
    "    clientMongoDB = MongoClient(uri)\n",
    "    return clientMongoDB"
   ]
  },
  {
   "cell_type": "code",
   "execution_count": 13,
   "metadata": {},
   "outputs": [
    {
     "name": "stdout",
     "output_type": "stream",
     "text": [
      "You successfully connected to MongoDB!\n"
     ]
    }
   ],
   "source": [
    "clientMongoDB = ConnectMongoDBClient() # Loop\n",
    "try:\n",
    "  clientMongoDB.admin.command('ping')\n",
    "  print(\"You successfully connected to MongoDB!\")\n",
    "except Exception as e:\n",
    "  print(e)"
   ]
  },
  {
   "cell_type": "code",
   "execution_count": 14,
   "metadata": {
    "id": "D84oLjzaObjK"
   },
   "outputs": [],
   "source": [
    "def DisconnectMongoDBClient(client):\n",
    "        client.close()"
   ]
  },
  {
   "cell_type": "markdown",
   "metadata": {
    "id": "1AypPyI6YuPW"
   },
   "source": [
    "**3.2) Mostrar todas as bases de dados**"
   ]
  },
  {
   "cell_type": "code",
   "execution_count": 15,
   "metadata": {
    "colab": {
     "base_uri": "https://localhost:8080/"
    },
    "id": "92HbMSKGU4ZO",
    "outputId": "738793bb-4a5b-49ce-f0f1-2ca2817a99fc"
   },
   "outputs": [
    {
     "name": "stdout",
     "output_type": "stream",
     "text": [
      "['admin', 'config', 'local', 'sensores']\n"
     ]
    }
   ],
   "source": [
    "print(clientMongoDB.list_database_names())"
   ]
  },
  {
   "cell_type": "markdown",
   "metadata": {
    "id": "QBpjV1jafmuu"
   },
   "source": [
    "**3.3) Criar a base de dados e as collections**"
   ]
  },
  {
   "cell_type": "code",
   "execution_count": 16,
   "metadata": {
    "id": "5TOUtEXsirF-"
   },
   "outputs": [],
   "source": [
    "def CreateMongoDatabaseCollections()->any:\n",
    "    mydb = clientMongoDB['trabalho_parte_1']\n",
    "    collectionClassificacaoNPS = mydb[\"ClassificacaoNPS\"]\n",
    "    collectionLocalizacaoTransporte = mydb[\"LocalizacaoTransporte\"]\n",
    "    collectionPesquisaSatisfacaoCliente = mydb[\"PesquisaSatisfacaoCliente\"]\n",
    "    return collectionClassificacaoNPS, collectionLocalizacaoTransporte, collectionPesquisaSatisfacaoCliente"
   ]
  },
  {
   "cell_type": "code",
   "execution_count": 17,
   "metadata": {},
   "outputs": [],
   "source": [
    "collectionClassificacaoNPS, collectionLocalizacaoTransporte, collectionPesquisaSatisfacaoCliente = CreateMongoDatabaseCollections() # Loop"
   ]
  },
  {
   "cell_type": "markdown",
   "metadata": {
    "id": "wbVgFw5Gbcmq"
   },
   "source": [
    "**3.4) Inserir os documentos (Create)**"
   ]
  },
  {
   "cell_type": "code",
   "execution_count": 18,
   "metadata": {
    "id": "Yq21qHdQccEI"
   },
   "outputs": [],
   "source": [
    "def ReadJSONFile(jsonfile)->any:\n",
    "  try:\n",
    "    with open(jsonfile) as file:\n",
    "      file_data = json.load(file)    \n",
    "  except Exception as error:\n",
    "    print(\"An exception occurred:\", error)\n",
    "  return file_data"
   ]
  },
  {
   "cell_type": "markdown",
   "metadata": {
    "id": "kxN_5DYJ4m4L"
   },
   "source": [
    "**3.4.1) Insere documentos na collection ClassificacaoNPS**"
   ]
  },
  {
   "cell_type": "code",
   "execution_count": 19,
   "metadata": {
    "colab": {
     "base_uri": "https://localhost:8080/"
    },
    "id": "aWon_K-Ldfc_",
    "outputId": "158d801e-18c6-470c-e1bb-7af34ec9e8f8"
   },
   "outputs": [],
   "source": [
    "def insertCollectionClassificacaoNPS(collectionClassificacaoNPS)->any:\n",
    "    file_data_ClassificacaoNPS = ReadJSONFile('./ClassificacaoNPS.json')\n",
    "    InsertCollectionClassificacaoNPSStart = time.time()\n",
    "    collectionClassificacaoNPS.insert_many(file_data_ClassificacaoNPS)\n",
    "    InsertCollectionClassificacaoNPSEnd = time.time()\n",
    "    timeDifInsertCollectionClassificacaoNPS = round(InsertCollectionClassificacaoNPSEnd - InsertCollectionClassificacaoNPSStart,3)\n",
    "    return (timeDifInsertCollectionClassificacaoNPS)"
   ]
  },
  {
   "cell_type": "code",
   "execution_count": 20,
   "metadata": {},
   "outputs": [
    {
     "name": "stdout",
     "output_type": "stream",
     "text": [
      "Tempo para inserir na collection ClassificacaoNPS: 0.012 segundos\n",
      "\n",
      "\n"
     ]
    }
   ],
   "source": [
    "timeDifInsertCollectionClassificacaoNPS = insertCollectionClassificacaoNPS(collectionClassificacaoNPS)  # Loop\n",
    "print(f\"Tempo para inserir na collection ClassificacaoNPS: {timeDifInsertCollectionClassificacaoNPS} segundos\")\n",
    "print(\"\\n\")"
   ]
  },
  {
   "cell_type": "markdown",
   "metadata": {
    "id": "jCJ9vjsH4xJB"
   },
   "source": [
    "**3.4.2) Insere documentos na collection LocalizacaoTransporte**"
   ]
  },
  {
   "cell_type": "code",
   "execution_count": 21,
   "metadata": {
    "colab": {
     "base_uri": "https://localhost:8080/"
    },
    "id": "qPp_7c8rdfNo",
    "outputId": "60075614-dffc-4126-ef4d-eaa59dd6c951"
   },
   "outputs": [],
   "source": [
    "def insertCollectionLocalizacaoTransporte(collectionLocalizacaoTransporte)->any:\n",
    "    file_data_LocalizacaoTransporte = ReadJSONFile('./LocalizacaoTransporte.json')\n",
    "    InsertCollectionLocalizacaoTransporteStart = time.time()\n",
    "    collectionLocalizacaoTransporte.insert_many(file_data_LocalizacaoTransporte)\n",
    "    InsertCollectionLocalizacaoTransporteEnd = time.time()\n",
    "    timeDifInsertCollectionLocalizacaoTransporte = round(InsertCollectionLocalizacaoTransporteEnd - InsertCollectionLocalizacaoTransporteStart,3)\n",
    "    return (timeDifInsertCollectionLocalizacaoTransporte)"
   ]
  },
  {
   "cell_type": "code",
   "execution_count": 22,
   "metadata": {},
   "outputs": [
    {
     "name": "stdout",
     "output_type": "stream",
     "text": [
      "Tempo para inserir na collection LocalizacaoTransporte: 0.017 segundos\n",
      "\n",
      "\n"
     ]
    }
   ],
   "source": [
    "timeDifInsertCollectionLocalizacaoTransporte = insertCollectionLocalizacaoTransporte(collectionLocalizacaoTransporte)  # Loop\n",
    "print(f\"Tempo para inserir na collection LocalizacaoTransporte: {timeDifInsertCollectionLocalizacaoTransporte} segundos\")\n",
    "print(\"\\n\")"
   ]
  },
  {
   "cell_type": "markdown",
   "metadata": {
    "id": "vRnI3MMJ42Ez"
   },
   "source": [
    "**3.4.3) Insere documentos na collection PesquisaSatisfacaoCliente**"
   ]
  },
  {
   "cell_type": "code",
   "execution_count": 23,
   "metadata": {
    "colab": {
     "base_uri": "https://localhost:8080/"
    },
    "id": "T3t2bR2cde5n",
    "outputId": "7834b1b1-78e4-4538-d456-66db8df5ff07"
   },
   "outputs": [],
   "source": [
    "def insertCollectionPesquisaSatisfacaoCliente(collectionPesquisaSatisfacaoCliente)->any:\n",
    "    file_data_PesquisaSatisfacaoCliente = ReadJSONFile('./PesquisaSatisfacaoCliente.json')\n",
    "    InsertCollectionPesquisaSatisfacaoClienteStart = time.time()\n",
    "    collectionPesquisaSatisfacaoCliente.insert_many(file_data_PesquisaSatisfacaoCliente)\n",
    "    InsertCollectionPesquisaSatisfacaoClienteEnd = time.time()\n",
    "    timeDifInsertCollectionPesquisaSatisfacaoCliente = round(InsertCollectionPesquisaSatisfacaoClienteEnd - InsertCollectionPesquisaSatisfacaoClienteStart,3)\n",
    "    return (timeDifInsertCollectionPesquisaSatisfacaoCliente)"
   ]
  },
  {
   "cell_type": "code",
   "execution_count": 24,
   "metadata": {},
   "outputs": [
    {
     "name": "stdout",
     "output_type": "stream",
     "text": [
      "Tempo para inserir na collection PesquisaSatisfacaoCliente: 0.019 segundos\n",
      "\n",
      "\n"
     ]
    }
   ],
   "source": [
    "timeDifInsertCollectionPesquisaSatisfacaoCliente = insertCollectionPesquisaSatisfacaoCliente(collectionPesquisaSatisfacaoCliente)  # Loop\n",
    "print(f\"Tempo para inserir na collection PesquisaSatisfacaoCliente: {timeDifInsertCollectionPesquisaSatisfacaoCliente} segundos\")\n",
    "print(\"\\n\")"
   ]
  },
  {
   "cell_type": "markdown",
   "metadata": {
    "id": "2PSkq_jL47Cx"
   },
   "source": [
    "**3.4.4) Tempo total de inserção nas collections**"
   ]
  },
  {
   "cell_type": "code",
   "execution_count": 25,
   "metadata": {
    "colab": {
     "base_uri": "https://localhost:8080/"
    },
    "id": "9LtYTrMjjWQs",
    "outputId": "3aa00573-d0e4-4f02-aa55-b16ca6008fb7"
   },
   "outputs": [
    {
     "name": "stdout",
     "output_type": "stream",
     "text": [
      "Tempo total para inserir nas collections do MongoDB:: 0.048 segundos\n",
      "\n",
      "\n"
     ]
    }
   ],
   "source": [
    "totalTimeInsertMongo = timeDifInsertCollectionClassificacaoNPS + timeDifInsertCollectionLocalizacaoTransporte + timeDifInsertCollectionPesquisaSatisfacaoCliente\n",
    "print(f\"Tempo total para inserir nas collections do MongoDB:: {round(totalTimeInsertMongo,3)} segundos\")\n",
    "print(\"\\n\")"
   ]
  },
  {
   "cell_type": "markdown",
   "metadata": {
    "id": "dcoSnAwLi6u5"
   },
   "source": [
    "**3.5) Listar os documentos (Read)**"
   ]
  },
  {
   "cell_type": "markdown",
   "metadata": {
    "id": "2Y5cxt9PEaMA"
   },
   "source": [
    "**3.5.1) Converter os campos de data de string para ISODate**"
   ]
  },
  {
   "cell_type": "code",
   "execution_count": 26,
   "metadata": {
    "id": "URQWnKkg-bfU"
   },
   "outputs": [],
   "source": [
    "def UpdateToISODateCollection(collection)->None:\n",
    "  collection.update_many(\n",
    "      {},\n",
    "      [\n",
    "          {\"$set\": {\"datahora\": {\"$dateFromString\": {\"dateString\": \"$datahora\"}}}}\n",
    "      ]\n",
    "  )"
   ]
  },
  {
   "cell_type": "code",
   "execution_count": 27,
   "metadata": {
    "id": "RcqP9I_W_Tc2"
   },
   "outputs": [],
   "source": [
    "UpdateToISODateCollection(collectionLocalizacaoTransporte) # Loop"
   ]
  },
  {
   "cell_type": "code",
   "execution_count": 28,
   "metadata": {
    "id": "WR6wBiCPDT26"
   },
   "outputs": [],
   "source": [
    "UpdateToISODateCollection(collectionPesquisaSatisfacaoCliente) # Loop"
   ]
  },
  {
   "cell_type": "markdown",
   "metadata": {
    "id": "2Y5cxt9PEaMA"
   },
   "source": [
    "**3.5.1) Criar indices para os campos de pesquisa**"
   ]
  },
  {
   "cell_type": "code",
   "execution_count": 29,
   "metadata": {},
   "outputs": [],
   "source": [
    "# def CriarIndiceMongoDB(collection, campo)->any:        \n",
    "#     resp = collection.create_index([(campo, 1)])\n",
    "#     return resp"
   ]
  },
  {
   "cell_type": "code",
   "execution_count": 30,
   "metadata": {},
   "outputs": [],
   "source": [
    "# indexLocalizacaoTransporteEmpresa = CriarIndiceMongoDB(collectionLocalizacaoTransporte,\"empresa\") # Loop\n",
    "# try:\n",
    "#     print (\"index response:\", indexLocalizacaoTransporteEmpresa)\n",
    "# except Exception as e:\n",
    "#     print(e)"
   ]
  },
  {
   "cell_type": "code",
   "execution_count": 31,
   "metadata": {},
   "outputs": [],
   "source": [
    "# indexLocalizacaoTransporteLinha = CriarIndiceMongoDB(collectionLocalizacaoTransporte,\"linha\") # Loop\n",
    "# try:\n",
    "#     print (\"index response:\", indexLocalizacaoTransporteLinha)\n",
    "# except Exception as e:\n",
    "#     print(e)"
   ]
  },
  {
   "cell_type": "code",
   "execution_count": 32,
   "metadata": {},
   "outputs": [],
   "source": [
    "# indexLocalizacaoTransporteDatahora = CriarIndiceMongoDB(collectionLocalizacaoTransporte,\"datahora\") # Loop\n",
    "# try:\n",
    "#     print (\"index response:\", indexLocalizacaoTransporteDatahora)\n",
    "# except Exception as e:\n",
    "#     print(e)"
   ]
  },
  {
   "cell_type": "code",
   "execution_count": 33,
   "metadata": {},
   "outputs": [],
   "source": [
    "# indexPesquisaSatisfacaoClienteEmpresa = CriarIndiceMongoDB(collectionPesquisaSatisfacaoCliente,\"empresa\") # Loop\n",
    "# try:\n",
    "#     print (\"index response:\", indexPesquisaSatisfacaoClienteEmpresa)\n",
    "# except Exception as e:\n",
    "#     print(e)"
   ]
  },
  {
   "cell_type": "code",
   "execution_count": 34,
   "metadata": {},
   "outputs": [],
   "source": [
    "# indexPesquisaSatisfacaoClienteNota = CriarIndiceMongoDB(collectionPesquisaSatisfacaoCliente,\"nota\") # Loop\n",
    "# try:\n",
    "#     print (\"index response:\", indexPesquisaSatisfacaoClienteNota)\n",
    "# except Exception as e:\n",
    "#     print(e)"
   ]
  },
  {
   "cell_type": "markdown",
   "metadata": {
    "id": "_8MvcoW3f3Cm"
   },
   "source": [
    "**3.5.2) Listar todos os documentos da coleção (Lookup PesquisaSatisfacaoCliente e ClassificacaoNPS)**"
   ]
  },
  {
   "cell_type": "code",
   "execution_count": 35,
   "metadata": {
    "id": "QR9sH6GshNxf"
   },
   "outputs": [],
   "source": [
    "def FindOnCollection(collection, isLookup)->None:\n",
    "        FindOnCollectionStart = time.time()\n",
    "        if isLookup and collection.name == \"PesquisaSatisfacaoCliente\":\n",
    "            result = collection.aggregate([{'$lookup': {'from': 'ClassificacaoNPS', 'localField': 'nota', 'foreignField': 'nota', 'as': 'classificacaoNPS'}}])\n",
    "        else:\n",
    "            result = collection.find()\n",
    "        if collection.name == \"LocalizacaoTransporte\" and result:\n",
    "            for doc in result:\n",
    "                _id = doc['_id']\n",
    "                empresa = doc['empresa']\n",
    "                linha = doc['linha']\n",
    "                latitude = doc['latitude']\n",
    "                longitude = doc['longitude']\n",
    "                datahora = doc['datahora']\n",
    "                print(f\" id: {_id}\\n empresa: {empresa}\\n linha: {linha}\\n latitude: {latitude}\\n longitude: {longitude}\\n datahora: {datahora}\\n\")\n",
    "        elif collection.name == \"PesquisaSatisfacaoCliente\" and result:\n",
    "            for doc in result:\n",
    "                _id = doc['_id']\n",
    "                empresa = doc['empresa']\n",
    "                linha = doc['linha']\n",
    "                nota = doc['nota']\n",
    "                if isLookup:\n",
    "                    classificacao = '(' + doc['classificacaoNPS'][0]['classificacao'] + ')'\n",
    "                else:\n",
    "                    classificacao = \"\"\n",
    "                datahora = doc['datahora']\n",
    "                print(f\" id: {_id}\\n empresa: {empresa}\\n linha: {linha}\\n nota: {nota} {classificacao}\\n datahora: {datahora}\\n\")\n",
    "        else:\n",
    "            print(\"No documents found.\")\n",
    "            print(\"\\n\")\n",
    "        FindOnCollectionEnd = time.time()\n",
    "        print(f\"Tempo de busca na colleção: {round(FindOnCollectionEnd - FindOnCollectionStart,4)} segundos\")"
   ]
  },
  {
   "cell_type": "code",
   "execution_count": 36,
   "metadata": {
    "id": "Ofz8eeEXOBJX"
   },
   "outputs": [],
   "source": [
    "#FindOnCollection(collectionPesquisaSatisfacaoCliente,True)"
   ]
  },
  {
   "cell_type": "markdown",
   "metadata": {
    "id": "Z3w7tqcShOFf"
   },
   "source": [
    "**3.5.3) Questão 1 - Qual é a localização do transporte de interesse em tempo real?**"
   ]
  },
  {
   "cell_type": "code",
   "execution_count": 37,
   "metadata": {
    "id": "1z4FPHoTho5X"
   },
   "outputs": [],
   "source": [
    "def Question1MongoDB(collection, empresa, linha, datahora)->float:        \n",
    "        d = datetime.datetime.strptime(datahora, \"%Y-%m-%dT%H:%M:%S.%fZ\")\n",
    "        Question1Start = time.time()\n",
    "        doc = collection.find_one({\"empresa\": empresa, \"linha\": linha, \"datahora\": d})        \n",
    "        Question1End = time.time()\n",
    "        timeDif = round(Question1End - Question1Start,3)        \n",
    "        return timeDif, doc"
   ]
  },
  {
   "cell_type": "code",
   "execution_count": 38,
   "metadata": {
    "colab": {
     "base_uri": "https://localhost:8080/"
    },
    "id": "U1Wf-u4FO-XQ",
    "outputId": "ab373290-7d82-4765-b72a-830a6e51275c"
   },
   "outputs": [
    {
     "name": "stdout",
     "output_type": "stream",
     "text": [
      "<<< Questão 1 >>> Qual é a localização do transporte de interesse em tempo real?\n",
      "Empresa: Viação Bonança\n",
      "Linha: São Vicente / Bandeirantes\n",
      "Latitude: -6.4071\n",
      "Longitude: 94.4551\n",
      "Data/Hora: 2023-10-18 01:39:37.316000\n",
      "Tempo da Questão 1: 0.001 segundos\n",
      "\n",
      "\n"
     ]
    }
   ],
   "source": [
    "timeDifQuestion1Mongo, doc = Question1MongoDB(collectionLocalizacaoTransporte, \"Viação Bonança\", \"São Vicente / Bandeirantes\", \"2023-10-18T01:39:37.316Z\") # Loop\n",
    "print(\"<<< Questão 1 >>> Qual é a localização do transporte de interesse em tempo real?\")\n",
    "if doc is not None:\n",
    "    empresa = doc['empresa']\n",
    "    linha = doc['linha']\n",
    "    latitude = doc['latitude']\n",
    "    longitude = doc['longitude']\n",
    "    datahora = doc['datahora']\n",
    "    print(f\"Empresa: {empresa}\\nLinha: {linha}\\nLatitude: {latitude}\\nLongitude: {longitude}\\nData/Hora: {datahora}\")\n",
    "else:\n",
    "    print(\"No documents found.\")\n",
    "print(f\"Tempo da Questão 1: {timeDifQuestion1Mongo} segundos\")\n",
    "print(\"\\n\")"
   ]
  },
  {
   "cell_type": "markdown",
   "metadata": {
    "id": "YtHXRnUuPIt1"
   },
   "source": [
    "**3.5.4) Questão 2 - Qual linha teve sua localização mais compartilhada?**"
   ]
  },
  {
   "cell_type": "code",
   "execution_count": 39,
   "metadata": {
    "id": "TGXXnyurPrTx"
   },
   "outputs": [],
   "source": [
    "def Question2MongoDB(collection)->float:\n",
    "        Question2Start = time.time()\n",
    "        result_cursor = collection.aggregate([{\"$group\":{\"_id\":\"$linha\",\"count\":{\"$sum\":1}}},{\"$sort\":{\"count\":-1}},{\"$limit\":1}])        \n",
    "        Question2End = time.time()\n",
    "        timeDif = round(Question2End - Question2Start,2)        \n",
    "        return timeDif, result_cursor"
   ]
  },
  {
   "cell_type": "code",
   "execution_count": 40,
   "metadata": {
    "colab": {
     "base_uri": "https://localhost:8080/"
    },
    "id": "efyKDT9DPwAf",
    "outputId": "14d965d1-723d-46b8-c477-050be3055457"
   },
   "outputs": [
    {
     "name": "stdout",
     "output_type": "stream",
     "text": [
      "<<< Questão 2 >>> Qual linha teve sua localização mais compartilhada?\n",
      "A linha que teve sua localização mais compartilhada foi:\n",
      "{'_id': 'Primavera / Isabel Tavares', 'count': 95}\n",
      "Tempo da Questão 2: 0.0 segundos\n",
      "\n",
      "\n"
     ]
    }
   ],
   "source": [
    "timeDifQuestion2Mongo, result_cursor = Question2MongoDB(collectionLocalizacaoTransporte) # Loop\n",
    "print(\"<<< Questão 2 >>> Qual linha teve sua localização mais compartilhada?\")\n",
    "if result_cursor is not None:\n",
    "    print(f\"A linha que teve sua localização mais compartilhada foi:\")\n",
    "    for doc in result_cursor:\n",
    "        print(doc)\n",
    "else:\n",
    "    print(\"No documents found.\")\n",
    "print(f\"Tempo da Questão 2: {timeDifQuestion2Mongo} segundos\")\n",
    "print(\"\\n\")"
   ]
  },
  {
   "cell_type": "markdown",
   "metadata": {
    "id": "b84O52QwQB88"
   },
   "source": [
    "**3.5.5) Questão 3 - Qual empresa teve a localização de seus ônibus mais compartilhada?**"
   ]
  },
  {
   "cell_type": "code",
   "execution_count": 41,
   "metadata": {
    "id": "FTayk62iQSr1"
   },
   "outputs": [],
   "source": [
    "def Question3MongoDB(collection)->float:\n",
    "    Question3Start = time.time()\n",
    "    result_cursor = collection.aggregate([{\"$group\":{\"_id\":\"$empresa\",\"count\":{\"$sum\":1}}},{\"$sort\":{\"count\":-1}},{\"$limit\":1}])    \n",
    "    Question3End = time.time()\n",
    "    timeDif = round(Question3End - Question3Start,3)    \n",
    "    return timeDif, result_cursor"
   ]
  },
  {
   "cell_type": "code",
   "execution_count": 42,
   "metadata": {
    "colab": {
     "base_uri": "https://localhost:8080/"
    },
    "id": "OMbgpC5lQa0H",
    "outputId": "d00b33da-a8a8-4c4e-9538-871ab4f1dddf"
   },
   "outputs": [
    {
     "name": "stdout",
     "output_type": "stream",
     "text": [
      "<<< Questão 3 >>> Qual empresa teve a localização de seus ônibus mais compartilhada?\n",
      "A empresa que teve sua localização mais compartilhada foi:\n",
      "{'_id': 'T.C.L. - Transportes Coletivos Léo', 'count': 511}\n",
      "Tempo da Questão 3: 0.003 segundos\n",
      "\n",
      "\n"
     ]
    }
   ],
   "source": [
    "timeDifQuestion3Mongo, result_cursor = Question3MongoDB(collectionLocalizacaoTransporte) # Loop\n",
    "print(\"<<< Questão 3 >>> Qual empresa teve a localização de seus ônibus mais compartilhada?\")\n",
    "if result_cursor is not None:\n",
    "    print(f\"A empresa que teve sua localização mais compartilhada foi:\")\n",
    "    for doc in result_cursor:\n",
    "        print(doc)\n",
    "else:\n",
    "    print(\"No documents found.\")\n",
    "print(f\"Tempo da Questão 3: {timeDifQuestion3Mongo} segundos\")\n",
    "print(\"\\n\")"
   ]
  },
  {
   "cell_type": "markdown",
   "metadata": {
    "id": "oFjHdT_wQlbY"
   },
   "source": [
    "**3.5.6) Questão 4 - Qual horário concentrou o maior volume de compartilhamentos?**\n",
    "\n",
    "---\n",
    "\n"
   ]
  },
  {
   "cell_type": "code",
   "execution_count": 43,
   "metadata": {
    "id": "5q6rWMNSQr-_"
   },
   "outputs": [],
   "source": [
    "def Question4MongoDB(collection)->float:\n",
    "        Question4Start = time.time()\n",
    "        result_cursor = collection.aggregate([{\"$project\":{\"hour\":{\"$hour\":\"$datahora\"}}},{\"$group\":{\"_id\":\"$hour\",\"count\":{\"$sum\":1}}},{\"$sort\":{\"count\":-1}},{\"$limit\":1}])        \n",
    "        Question4End = time.time()\n",
    "        timeDif = round(Question4End - Question4Start,3)\n",
    "        return timeDif, result_cursor"
   ]
  },
  {
   "cell_type": "code",
   "execution_count": 44,
   "metadata": {
    "colab": {
     "base_uri": "https://localhost:8080/"
    },
    "id": "NLNE2_BjQxPX",
    "outputId": "c8ce75a6-c4cb-46e7-f6a4-7563d5872507"
   },
   "outputs": [
    {
     "name": "stdout",
     "output_type": "stream",
     "text": [
      "<<< Questão 4 >>> Qual horário concentrou o maior volume de compartilhamentos?\n",
      "O horário que concentrou o maior volume de compartilhamentos foi:\n",
      "{'_id': 19, 'count': 53}\n",
      "Tempo da Questão 4: 0.003 segundos\n",
      "\n",
      "\n"
     ]
    }
   ],
   "source": [
    "timeDifQuestion4Mongo, result_cursor = Question4MongoDB(collectionLocalizacaoTransporte) # Loop\n",
    "print(\"<<< Questão 4 >>> Qual horário concentrou o maior volume de compartilhamentos?\")\n",
    "if result_cursor is not None:\n",
    "    print(f\"O horário que concentrou o maior volume de compartilhamentos foi:\")\n",
    "    for doc in result_cursor:\n",
    "        print(doc)\n",
    "else:\n",
    "    print(\"No documents found.\")\n",
    "print(f\"Tempo da Questão 4: {timeDifQuestion4Mongo} segundos\")\n",
    "print(\"\\n\")"
   ]
  },
  {
   "cell_type": "markdown",
   "metadata": {
    "id": "Mrke97SqRCO0"
   },
   "source": [
    "**3.5.7) Questão 5 - Qual empresa obteve o maior total de pontos na pesquisa de satisfação de seus clientes?**"
   ]
  },
  {
   "cell_type": "code",
   "execution_count": 45,
   "metadata": {
    "id": "joi49o9CRMQX"
   },
   "outputs": [],
   "source": [
    "def Question5MongoDB(collection)->float:\n",
    "        Question5Start = time.time()\n",
    "        result_cursor = collection.aggregate([{\"$group\":{\"_id\":\"$empresa\",\"totalNota\":{\"$sum\":\"$nota\"}}},{\"$sort\":{\"totalNota\":-1}},{\"$limit\":1}])        \n",
    "        Question5End = time.time()\n",
    "        timeDif = round(Question5End - Question5Start,3)        \n",
    "        return timeDif, result_cursor"
   ]
  },
  {
   "cell_type": "code",
   "execution_count": 46,
   "metadata": {
    "colab": {
     "base_uri": "https://localhost:8080/"
    },
    "id": "8QxhQaUrRRWH",
    "outputId": "c94404fe-6110-40bd-ccf0-f8f4a809870a"
   },
   "outputs": [
    {
     "name": "stdout",
     "output_type": "stream",
     "text": [
      "<<< Questão 5 >>> Qual empresa obteve o maior total de pontos na pesquisa de satisfação de seus clientes?\n",
      "A empresa que obteve o maior total de pontos foi:\n",
      "{'_id': 'T.C.L. - Transportes Coletivos Léo', 'totalNota': 2953}\n",
      "Tempo da Questão 5: 0.002 segundos\n",
      "\n",
      "\n"
     ]
    }
   ],
   "source": [
    "timeDifQuestion5Mongo, result_cursor = Question5MongoDB(collectionPesquisaSatisfacaoCliente) # Loop\n",
    "print(\"<<< Questão 5 >>> Qual empresa obteve o maior total de pontos na pesquisa de satisfação de seus clientes?\")\n",
    "if result_cursor is not None:\n",
    "    print(f\"A empresa que obteve o maior total de pontos foi:\")\n",
    "    for doc in result_cursor:\n",
    "        print(doc)\n",
    "else:\n",
    "    print(\"No documents found.\")\n",
    "print(f\"Tempo da Questão 5: {timeDifQuestion5Mongo} segundos\")\n",
    "print(\"\\n\")    "
   ]
  },
  {
   "cell_type": "markdown",
   "metadata": {
    "id": "VVxUcFg5FBel"
   },
   "source": [
    "**3.5.8) Tempo total de leitura das collections**"
   ]
  },
  {
   "cell_type": "code",
   "execution_count": 47,
   "metadata": {
    "colab": {
     "base_uri": "https://localhost:8080/"
    },
    "id": "MTuXSQb3Rr5V",
    "outputId": "8845024c-38a3-4205-8fa8-05c83f31d7ec"
   },
   "outputs": [
    {
     "name": "stdout",
     "output_type": "stream",
     "text": [
      "Tempo total para leitura das Questões no MongoDB: 0.009 segundos\n",
      "\n",
      "\n"
     ]
    }
   ],
   "source": [
    "totalTimeFindMongo = timeDifQuestion1Mongo + timeDifQuestion2Mongo + timeDifQuestion3Mongo + timeDifQuestion4Mongo + timeDifQuestion5Mongo\n",
    "print(f\"Tempo total para leitura das Questões no MongoDB: {round(totalTimeFindMongo,3)} segundos\")\n",
    "print(\"\\n\")"
   ]
  },
  {
   "cell_type": "markdown",
   "metadata": {
    "id": "lujrqm4okGrF"
   },
   "source": [
    "**3.6) Atualizar os documentos (Update)**"
   ]
  },
  {
   "cell_type": "code",
   "execution_count": 48,
   "metadata": {
    "id": "On2OJmP_nIxy"
   },
   "outputs": [],
   "source": [
    "def UpdateCollection(collection)->None:\n",
    "        collection.update_many(\n",
    "          {\"empresa\": \"Sereno Tur\" },\n",
    "              {\n",
    "                  \"$set\": { \"empresa\" : \"Viação Bonança\" }\n",
    "              }\n",
    "        )"
   ]
  },
  {
   "cell_type": "markdown",
   "metadata": {
    "id": "hoy2ZoUkFobX"
   },
   "source": [
    "**3.6.1) Atualiza documentos na collection LocalizacaoTransporte**"
   ]
  },
  {
   "cell_type": "code",
   "execution_count": 49,
   "metadata": {
    "colab": {
     "base_uri": "https://localhost:8080/"
    },
    "id": "0nspEuiok-ga",
    "outputId": "e36a5250-09d3-4b81-a682-10db1c347ac8"
   },
   "outputs": [],
   "source": [
    "def updateCollectionLocalizacaoTransporte(collectionLocalizacaoTransporte)->any:\n",
    "    UpdateCollectionLocalizacaoTransporteStart = time.time()\n",
    "    UpdateCollection(collectionLocalizacaoTransporte)\n",
    "    UpdateCollectionLocalizacaoTransporteEnd = time.time()\n",
    "    timeDifUpdateCollectionLocalizacaoTransporte = round(UpdateCollectionLocalizacaoTransporteEnd - UpdateCollectionLocalizacaoTransporteStart,3)    \n",
    "    return timeDifUpdateCollectionLocalizacaoTransporte"
   ]
  },
  {
   "cell_type": "code",
   "execution_count": 50,
   "metadata": {},
   "outputs": [
    {
     "name": "stdout",
     "output_type": "stream",
     "text": [
      "Tempo para atualizar a collection LocalizacaoTransporte: 0.003 segundos\n",
      "\n",
      "\n"
     ]
    }
   ],
   "source": [
    "timeDifUpdateCollectionLocalizacaoTransporte = updateCollectionLocalizacaoTransporte(collectionLocalizacaoTransporte) # Loop\n",
    "print(f\"Tempo para atualizar a collection LocalizacaoTransporte: {timeDifUpdateCollectionLocalizacaoTransporte} segundos\")\n",
    "print(\"\\n\")"
   ]
  },
  {
   "cell_type": "markdown",
   "metadata": {
    "id": "c8Ma_zvaFwhZ"
   },
   "source": [
    "**3.6.2) Atualiza documentos na collection PesquisaSatisfacaoCliente**"
   ]
  },
  {
   "cell_type": "code",
   "execution_count": 51,
   "metadata": {
    "colab": {
     "base_uri": "https://localhost:8080/"
    },
    "id": "7hq1LDbwTxpA",
    "outputId": "413521f4-412b-4935-e643-b6371d5a3aef"
   },
   "outputs": [],
   "source": [
    "def updateCollectionPesquisaSatisfacaoCliente(collectionPesquisaSatisfacaoCliente)->any:\n",
    "    UpdateCollectionPesquisaSatisfacaoClienteStart = time.time()\n",
    "    UpdateCollection(collectionPesquisaSatisfacaoCliente)\n",
    "    UpdateCollectionPesquisaSatisfacaoClienteEnd = time.time()\n",
    "    timeDifUpdateCollectionPesquisaSatisfacaoCliente = round(UpdateCollectionPesquisaSatisfacaoClienteEnd - UpdateCollectionPesquisaSatisfacaoClienteStart,3)\n",
    "    return timeDifUpdateCollectionPesquisaSatisfacaoCliente"
   ]
  },
  {
   "cell_type": "code",
   "execution_count": 52,
   "metadata": {},
   "outputs": [
    {
     "name": "stdout",
     "output_type": "stream",
     "text": [
      "Tempo para atualizar a collection PesquisaSatisfacaoCliente: 0.003 segundos\n",
      "\n",
      "\n"
     ]
    }
   ],
   "source": [
    "timeDifUpdateCollectionPesquisaSatisfacaoCliente = updateCollectionPesquisaSatisfacaoCliente(collectionPesquisaSatisfacaoCliente) # Loop\n",
    "print(f\"Tempo para atualizar a collection PesquisaSatisfacaoCliente: {timeDifUpdateCollectionPesquisaSatisfacaoCliente} segundos\")\n",
    "print(\"\\n\")"
   ]
  },
  {
   "cell_type": "markdown",
   "metadata": {
    "id": "PtFoU_9NFL56"
   },
   "source": [
    "**3.6.3) Tempo total de atualização das collections**"
   ]
  },
  {
   "cell_type": "code",
   "execution_count": 53,
   "metadata": {
    "colab": {
     "base_uri": "https://localhost:8080/"
    },
    "id": "QzKGMAbwFci-",
    "outputId": "8406802d-0e0c-4f5f-c66a-67acdc355af5"
   },
   "outputs": [
    {
     "name": "stdout",
     "output_type": "stream",
     "text": [
      "Tempo total para atualização das collections no MongoDB: 0.006 segundos\n",
      "\n",
      "\n"
     ]
    }
   ],
   "source": [
    "totalTimeUpdateMongo = timeDifUpdateCollectionLocalizacaoTransporte + timeDifUpdateCollectionPesquisaSatisfacaoCliente\n",
    "print(f\"Tempo total para atualização das collections no MongoDB: {round(totalTimeUpdateMongo,3)} segundos\")\n",
    "print(\"\\n\")"
   ]
  },
  {
   "cell_type": "markdown",
   "metadata": {
    "id": "mFFpe9zSlF9P"
   },
   "source": [
    "**3.7) Deletar os documentos (Delete)**"
   ]
  },
  {
   "cell_type": "code",
   "execution_count": 54,
   "metadata": {
    "id": "9_inyJykpoNB"
   },
   "outputs": [],
   "source": [
    "def DeleteDocumentsCollection(collection)->None:\n",
    "        collection.delete_many({})\n",
    "        collection.drop()"
   ]
  },
  {
   "cell_type": "markdown",
   "metadata": {
    "id": "cxeM2K6mHedt"
   },
   "source": [
    "**3.7.1) Deleta documentos na collection ClassificacaoNPS**"
   ]
  },
  {
   "cell_type": "code",
   "execution_count": 55,
   "metadata": {
    "colab": {
     "base_uri": "https://localhost:8080/"
    },
    "id": "vVE3VbYslLEp",
    "outputId": "7e01d953-7390-4d66-ba71-4ad54d61e297"
   },
   "outputs": [],
   "source": [
    "def deleteCollectionClassificacaoNPSS(collectionClassificacaoNPS)->any:\n",
    "    DeleteCollectionClassificacaoNPSStart = time.time()\n",
    "    DeleteDocumentsCollection(collectionClassificacaoNPS)\n",
    "    DeleteCollectionClassificacaoNPSEnd = time.time()\n",
    "    timeDifDeleteCollectionClassificacaoNPS = round(DeleteCollectionClassificacaoNPSEnd - DeleteCollectionClassificacaoNPSStart,3)\n",
    "    return timeDifDeleteCollectionClassificacaoNPS"
   ]
  },
  {
   "cell_type": "code",
   "execution_count": 56,
   "metadata": {},
   "outputs": [
    {
     "name": "stdout",
     "output_type": "stream",
     "text": [
      "Tempo para excluir na collection ClassificacaoNPS: 0.002 segundos\n",
      "\n",
      "\n"
     ]
    }
   ],
   "source": [
    "timeDifDeleteCollectionClassificacaoNPS = deleteCollectionClassificacaoNPSS(collectionClassificacaoNPS) # Loop\n",
    "print(f\"Tempo para excluir na collection ClassificacaoNPS: {timeDifDeleteCollectionClassificacaoNPS} segundos\")\n",
    "print(\"\\n\")"
   ]
  },
  {
   "cell_type": "markdown",
   "metadata": {
    "id": "jPAi6KxDH016"
   },
   "source": [
    "**3.7.2) Deleta documentos na collection LocalizacaoTransporte**"
   ]
  },
  {
   "cell_type": "code",
   "execution_count": 57,
   "metadata": {
    "colab": {
     "base_uri": "https://localhost:8080/"
    },
    "id": "mrIuappjliDb",
    "outputId": "8c827d67-2e4b-42f3-d9f8-2f35468e7106"
   },
   "outputs": [],
   "source": [
    "def deleteCollectionLocalizacaoTransporte(collectionLocalizacaoTransporte)->any:\n",
    "    DeleteCollectionLocalizacaoTransporteStart = time.time()\n",
    "    DeleteDocumentsCollection(collectionLocalizacaoTransporte)\n",
    "    DeleteCollectionLocalizacaoTransporteEnd = time.time()\n",
    "    timeDifDeleteCollectionLocalizacaoTransporte = round(DeleteCollectionLocalizacaoTransporteEnd - DeleteCollectionLocalizacaoTransporteStart,3)\n",
    "    return timeDifDeleteCollectionLocalizacaoTransporte"
   ]
  },
  {
   "cell_type": "code",
   "execution_count": 58,
   "metadata": {},
   "outputs": [
    {
     "name": "stdout",
     "output_type": "stream",
     "text": [
      "Tempo para excluir na collection LocalizacaoTransporte: 0.008 segundos\n",
      "\n",
      "\n"
     ]
    }
   ],
   "source": [
    "timeDifDeleteCollectionLocalizacaoTransporte = deleteCollectionLocalizacaoTransporte(collectionLocalizacaoTransporte) # Loop\n",
    "print(f\"Tempo para excluir na collection LocalizacaoTransporte: {timeDifDeleteCollectionLocalizacaoTransporte} segundos\")\n",
    "print(\"\\n\")"
   ]
  },
  {
   "cell_type": "markdown",
   "metadata": {
    "id": "6hRXAtR-H5cx"
   },
   "source": [
    "**3.7.3) Deleta documentos na collection PesquisaSatisfacaoCliente**"
   ]
  },
  {
   "cell_type": "code",
   "execution_count": 59,
   "metadata": {
    "colab": {
     "base_uri": "https://localhost:8080/"
    },
    "id": "C804d8C-lh9b",
    "outputId": "9cd67b7b-233c-4b28-c1a8-d56ea886ea8a"
   },
   "outputs": [],
   "source": [
    "def deleteCollectionPesquisaSatisfacaoCliente(collectionPesquisaSatisfacaoCliente)->any:\n",
    "    DeleteCollectionPesquisaSatisfacaoClienteStart = time.time()\n",
    "    DeleteDocumentsCollection(collectionPesquisaSatisfacaoCliente)\n",
    "    DeleteCollectionPesquisaSatisfacaoClienteEnd = time.time()\n",
    "    timeDifDeleteCollectionPesquisaSatisfacaoCliente = round(DeleteCollectionPesquisaSatisfacaoClienteEnd - DeleteCollectionPesquisaSatisfacaoClienteStart,3)\n",
    "    return timeDifDeleteCollectionPesquisaSatisfacaoCliente"
   ]
  },
  {
   "cell_type": "code",
   "execution_count": 60,
   "metadata": {},
   "outputs": [
    {
     "name": "stdout",
     "output_type": "stream",
     "text": [
      "Tempo para excluir na collection PesquisaSatisfacaoCliente: 0.009 segundos\n",
      "\n",
      "\n"
     ]
    }
   ],
   "source": [
    "timeDifDeleteCollectionPesquisaSatisfacaoCliente = deleteCollectionPesquisaSatisfacaoCliente(collectionPesquisaSatisfacaoCliente) # Loop\n",
    "print(f\"Tempo para excluir na collection PesquisaSatisfacaoCliente: {timeDifDeleteCollectionPesquisaSatisfacaoCliente} segundos\")\n",
    "print(\"\\n\")"
   ]
  },
  {
   "cell_type": "markdown",
   "metadata": {
    "id": "BZO8YlXxIQrE"
   },
   "source": [
    "**3.7.4) Tempo total de exclusão nas collections**"
   ]
  },
  {
   "cell_type": "code",
   "execution_count": 61,
   "metadata": {
    "colab": {
     "base_uri": "https://localhost:8080/"
    },
    "id": "j-I-HgUAlRhh",
    "outputId": "2433a6d8-75d8-474d-d626-cc3d8b4719f5"
   },
   "outputs": [
    {
     "name": "stdout",
     "output_type": "stream",
     "text": [
      "Tempo total para exclusão dos documentos no MongoDB: 0.019 segundos\n",
      "\n",
      "\n"
     ]
    }
   ],
   "source": [
    "totalTimeDeleteMongo = timeDifDeleteCollectionClassificacaoNPS + timeDifDeleteCollectionLocalizacaoTransporte + timeDifDeleteCollectionPesquisaSatisfacaoCliente\n",
    "print(f\"Tempo total para exclusão dos documentos no MongoDB: {round(totalTimeDeleteMongo,3)} segundos\")\n",
    "print(\"\\n\")"
   ]
  },
  {
   "cell_type": "markdown",
   "metadata": {
    "id": "TzODKsP5Ozw9"
   },
   "source": [
    "**3.8) Desconectar do Banco de Dados**"
   ]
  },
  {
   "cell_type": "code",
   "execution_count": 62,
   "metadata": {
    "id": "smNolonJOu_Y"
   },
   "outputs": [],
   "source": [
    "DisconnectMongoDBClient(clientMongoDB) # Loop"
   ]
  },
  {
   "cell_type": "markdown",
   "metadata": {
    "id": "7v-8o-iuEKla"
   },
   "source": [
    "**3.9) Performance do MongoDB**"
   ]
  },
  {
   "cell_type": "code",
   "execution_count": 63,
   "metadata": {},
   "outputs": [],
   "source": [
    "clientMongoDB = ConnectMongoDBClient();\n",
    "collectionClassificacaoNPS, collectionLocalizacaoTransporte, collectionPesquisaSatisfacaoCliente = CreateMongoDatabaseCollections()"
   ]
  },
  {
   "cell_type": "code",
   "execution_count": 64,
   "metadata": {},
   "outputs": [],
   "source": [
    "def stressTestMongoDB(iteracoes)->any:\n",
    "    listTotalTimeInsertMongo = []\n",
    "    listTotalTimeFindMongo = []\n",
    "    listTotalTimeUpdateMongo = []\n",
    "    listTotalTimeDeleteMongo = []\n",
    "    try:\n",
    "        for i in range(iteracoes):         \n",
    "            # MongoDB Create\n",
    "            timeDifInsertCollectionClassificacaoNPS = insertCollectionClassificacaoNPS(collectionClassificacaoNPS)  # Loop\n",
    "            timeDifInsertCollectionLocalizacaoTransporte = insertCollectionLocalizacaoTransporte(collectionLocalizacaoTransporte)  # Loop\n",
    "            timeDifInsertCollectionPesquisaSatisfacaoCliente = insertCollectionPesquisaSatisfacaoCliente(collectionPesquisaSatisfacaoCliente)  # Loop    \n",
    "            totalTimeInsertMongo = timeDifInsertCollectionClassificacaoNPS + timeDifInsertCollectionLocalizacaoTransporte + timeDifInsertCollectionPesquisaSatisfacaoCliente        \n",
    "            listTotalTimeInsertMongo.append(round(totalTimeInsertMongo,3))\n",
    "            # MongoDB Read\n",
    "            UpdateToISODateCollection(collectionLocalizacaoTransporte) # Loop\n",
    "            UpdateToISODateCollection(collectionPesquisaSatisfacaoCliente) # Loop\n",
    "            #CriarIndiceMongoDB(collectionLocalizacaoTransporte,\"empresa\") # Loop\n",
    "            #CriarIndiceMongoDB(collectionLocalizacaoTransporte,\"linha\") # Loop\n",
    "            #CriarIndiceMongoDB(collectionLocalizacaoTransporte,\"datahora\") # Loop\n",
    "            #CriarIndiceMongoDB(collectionPesquisaSatisfacaoCliente,\"empresa\") # Loop\n",
    "            #CriarIndiceMongoDB(collectionPesquisaSatisfacaoCliente,\"nota\") # Loop\n",
    "            timeDifQuestion1Mongo, doc = Question1MongoDB(collectionLocalizacaoTransporte, \"Viação Bonança\", \"São Vicente / Bandeirantes\", \"2023-10-18T01:39:37.316Z\") # Loop\n",
    "            timeDifQuestion2Mongo, result_cursor = Question2MongoDB(collectionLocalizacaoTransporte) # Loop\n",
    "            timeDifQuestion3Mongo, result_cursor = Question3MongoDB(collectionLocalizacaoTransporte) # Loop\n",
    "            timeDifQuestion4Mongo, result_cursor = Question4MongoDB(collectionLocalizacaoTransporte) # Loop\n",
    "            timeDifQuestion5Mongo, result_cursor = Question5MongoDB(collectionPesquisaSatisfacaoCliente) # Loop\n",
    "            totalTimeFindMongo = timeDifQuestion1Mongo + timeDifQuestion2Mongo + timeDifQuestion3Mongo + timeDifQuestion4Mongo + timeDifQuestion5Mongo\n",
    "            listTotalTimeFindMongo.append(round(totalTimeFindMongo,3))\n",
    "            # MongoDB Update\n",
    "            timeDifUpdateCollectionLocalizacaoTransporte = updateCollectionLocalizacaoTransporte(collectionLocalizacaoTransporte) # Loop\n",
    "            timeDifUpdateCollectionPesquisaSatisfacaoCliente = updateCollectionPesquisaSatisfacaoCliente(collectionPesquisaSatisfacaoCliente) # Loop\n",
    "            totalTimeUpdateMongo = timeDifUpdateCollectionLocalizacaoTransporte + timeDifUpdateCollectionPesquisaSatisfacaoCliente\n",
    "            listTotalTimeUpdateMongo.append(round(totalTimeUpdateMongo,3))\n",
    "            # MongoDB Delete\n",
    "            timeDifDeleteCollectionClassificacaoNPS = deleteCollectionClassificacaoNPSS(collectionClassificacaoNPS) # Loop\n",
    "            timeDifDeleteCollectionLocalizacaoTransporte = deleteCollectionLocalizacaoTransporte(collectionLocalizacaoTransporte) # Loop\n",
    "            timeDifDeleteCollectionPesquisaSatisfacaoCliente = deleteCollectionPesquisaSatisfacaoCliente(collectionPesquisaSatisfacaoCliente) # Loop\n",
    "            totalTimeDeleteMongo = timeDifDeleteCollectionClassificacaoNPS + timeDifDeleteCollectionLocalizacaoTransporte + timeDifDeleteCollectionPesquisaSatisfacaoCliente\n",
    "            listTotalTimeDeleteMongo.append(round(totalTimeDeleteMongo,3))\n",
    "        print (*listTotalTimeInsertMongo, sep=\",\")\n",
    "    except Exception as e:\n",
    "        print(e)\n",
    "    return listTotalTimeInsertMongo, listTotalTimeFindMongo, listTotalTimeUpdateMongo, listTotalTimeDeleteMongo"
   ]
  },
  {
   "cell_type": "code",
   "execution_count": 65,
   "metadata": {},
   "outputs": [
    {
     "name": "stdout",
     "output_type": "stream",
     "text": [
      "0.046,0.05,0.043,0.052,0.043,0.037,0.046,0.035,0.046,0.05,0.044,0.043,0.066,0.042,0.032,0.033,0.032,0.032,0.053,0.059,0.053,0.052,0.056,0.036,0.036,0.032,0.032,0.042,0.044,0.042,0.041,0.045,0.042,0.035,0.07,0.05,0.041,0.041,0.046,0.064,0.043,0.039,0.055,0.045,0.044,0.032,0.034,0.038,0.038,0.036,0.033,0.034,0.034,0.043,0.05,0.044,0.04,0.039,0.039,0.037,0.032,0.037,0.038,0.039,0.032,0.038,0.039,0.083,0.036,0.045,0.043,0.036,0.034,0.045,0.061,0.079,0.047,0.054,0.042,0.04,0.038,0.039,0.035,0.035,0.032,0.035,0.033,0.034,0.037,0.032,0.031,0.031,0.032,0.04,0.037,0.037,0.033,0.039,0.036,0.043,0.037,0.031,0.036,0.04,0.046,0.038,0.038,0.032,0.035,0.037,0.031,0.032,0.045,0.032,0.038,0.036,0.04,0.04,0.041,0.046,0.041,0.047,0.036,0.032,0.031,0.044,0.032,0.034,0.032,0.032,0.032,0.032,0.033,0.036,0.038,0.033,0.036,0.039,0.035,0.034,0.034,0.036,0.103,0.038,0.039,0.032,0.033,0.033,0.032,0.033,0.033,0.036,0.034,0.037,0.054,0.038,0.038,0.037,0.038,0.04,0.042,0.045,0.041,0.048,0.055,0.038,0.032,0.033,0.037,0.034,0.035,0.033,0.032,0.032,0.032,0.033,0.031,0.039,0.038,0.066,0.038,0.038,0.037,0.035,0.038,0.033,0.037,0.035,0.033,0.033,0.034,0.035,0.033,0.062,0.032,0.044,0.058,0.038,0.062,0.034\n"
     ]
    }
   ],
   "source": [
    "listTotalTimeInsertMongo, listTotalTimeFindMongo, listTotalTimeUpdateMongo, listTotalTimeDeleteMongo = stressTestMongoDB(iteracoes)"
   ]
  },
  {
   "cell_type": "code",
   "execution_count": 66,
   "metadata": {},
   "outputs": [],
   "source": [
    "DisconnectMongoDBClient(clientMongoDB)"
   ]
  },
  {
   "cell_type": "code",
   "execution_count": 67,
   "metadata": {
    "colab": {
     "base_uri": "https://localhost:8080/"
    },
    "id": "LH6cM9O9ES9y",
    "outputId": "429e68c2-3ef8-4ad9-ade7-bfe482f20bc9"
   },
   "outputs": [
    {
     "name": "stdout",
     "output_type": "stream",
     "text": [
      "Tempos totais em segundos para inserir nas collections do MongoDB\n",
      "[0.046, 0.05, 0.043, 0.052, 0.043, 0.037, 0.046, 0.035, 0.046, 0.05, 0.044, 0.043, 0.066, 0.042, 0.032, 0.033, 0.032, 0.032, 0.053, 0.059, 0.053, 0.052, 0.056, 0.036, 0.036, 0.032, 0.032, 0.042, 0.044, 0.042, 0.041, 0.045, 0.042, 0.035, 0.07, 0.05, 0.041, 0.041, 0.046, 0.064, 0.043, 0.039, 0.055, 0.045, 0.044, 0.032, 0.034, 0.038, 0.038, 0.036, 0.033, 0.034, 0.034, 0.043, 0.05, 0.044, 0.04, 0.039, 0.039, 0.037, 0.032, 0.037, 0.038, 0.039, 0.032, 0.038, 0.039, 0.083, 0.036, 0.045, 0.043, 0.036, 0.034, 0.045, 0.061, 0.079, 0.047, 0.054, 0.042, 0.04, 0.038, 0.039, 0.035, 0.035, 0.032, 0.035, 0.033, 0.034, 0.037, 0.032, 0.031, 0.031, 0.032, 0.04, 0.037, 0.037, 0.033, 0.039, 0.036, 0.043, 0.037, 0.031, 0.036, 0.04, 0.046, 0.038, 0.038, 0.032, 0.035, 0.037, 0.031, 0.032, 0.045, 0.032, 0.038, 0.036, 0.04, 0.04, 0.041, 0.046, 0.041, 0.047, 0.036, 0.032, 0.031, 0.044, 0.032, 0.034, 0.032, 0.032, 0.032, 0.032, 0.033, 0.036, 0.038, 0.033, 0.036, 0.039, 0.035, 0.034, 0.034, 0.036, 0.103, 0.038, 0.039, 0.032, 0.033, 0.033, 0.032, 0.033, 0.033, 0.036, 0.034, 0.037, 0.054, 0.038, 0.038, 0.037, 0.038, 0.04, 0.042, 0.045, 0.041, 0.048, 0.055, 0.038, 0.032, 0.033, 0.037, 0.034, 0.035, 0.033, 0.032, 0.032, 0.032, 0.033, 0.031, 0.039, 0.038, 0.066, 0.038, 0.038, 0.037, 0.035, 0.038, 0.033, 0.037, 0.035, 0.033, 0.033, 0.034, 0.035, 0.033, 0.062, 0.032, 0.044, 0.058, 0.038, 0.062, 0.034]\n",
      "\n",
      "\n"
     ]
    }
   ],
   "source": [
    "#Tempo total de inserção nas collections\n",
    "print(f\"Tempos totais em segundos para inserir nas collections do MongoDB\")\n",
    "print (listTotalTimeInsertMongo)\n",
    "print(\"\\n\")"
   ]
  },
  {
   "cell_type": "code",
   "execution_count": 68,
   "metadata": {
    "colab": {
     "base_uri": "https://localhost:8080/"
    },
    "id": "FXS9VXhGES0S",
    "outputId": "774afc36-15cf-44d6-c4d9-662a969fb3d7"
   },
   "outputs": [
    {
     "name": "stdout",
     "output_type": "stream",
     "text": [
      "Tempos totais em segundos para leitura das Questões no MongoDB\n",
      "0.006,0.008,0.005,0.005,0.005,0.006,0.004,0.008,0.008,0.005,0.004,0.004,0.004,0.004,0.005,0.004,0.004,0.004,0.01,0.01,0.011,0.013,0.005,0.005,0.004,0.004,0.006,0.005,0.007,0.005,0.007,0.006,0.004,0.004,0.005,0.005,0.005,0.005,0.006,0.005,0.005,0.006,0.005,0.005,0.004,0.005,0.005,0.005,0.004,0.004,0.004,0.004,0.009,0.005,0.005,0.006,0.005,0.005,0.006,0.004,0.004,0.004,0.005,0.004,0.004,0.006,0.004,0.005,0.004,0.005,0.004,0.004,0.004,0.004,0.004,0.005,0.008,0.005,0.005,0.005,0.005,0.004,0.005,0.004,0.004,0.004,0.004,0.004,0.004,0.004,0.004,0.004,0.004,0.005,0.005,0.004,0.005,0.005,0.004,0.004,0.004,0.004,0.005,0.004,0.006,0.005,0.004,0.004,0.004,0.004,0.005,0.004,0.004,0.006,0.005,0.005,0.006,0.005,0.007,0.005,0.005,0.005,0.004,0.004,0.004,0.004,0.005,0.004,0.004,0.004,0.004,0.004,0.004,0.004,0.004,0.005,0.004,0.004,0.004,0.004,0.004,0.004,0.005,0.005,0.004,0.004,0.004,0.004,0.004,0.004,0.004,0.004,0.004,0.007,0.005,0.004,0.005,0.005,0.006,0.005,0.012,0.005,0.005,0.005,0.005,0.004,0.004,0.004,0.004,0.005,0.004,0.004,0.004,0.004,0.005,0.004,0.004,0.005,0.005,0.005,0.005,0.004,0.004,0.005,0.004,0.005,0.004,0.004,0.004,0.004,0.004,0.004,0.004,0.004,0.005,0.005,0.005,0.006,0.004,0.005\n",
      "\n",
      "\n"
     ]
    }
   ],
   "source": [
    "#Tempo total de leitura das collections\n",
    "print(f\"Tempos totais em segundos para leitura das Questões no MongoDB\")\n",
    "print (*listTotalTimeFindMongo, sep=\",\")\n",
    "print(\"\\n\")"
   ]
  },
  {
   "cell_type": "code",
   "execution_count": 69,
   "metadata": {
    "colab": {
     "base_uri": "https://localhost:8080/"
    },
    "id": "3X6W2xDTESxG",
    "outputId": "11245ae2-0f39-4dbe-bea9-5f779e0009a3"
   },
   "outputs": [
    {
     "name": "stdout",
     "output_type": "stream",
     "text": [
      "Tempos totais em segundos para atualização das collections no MongoDB\n",
      "0.006,0.006,0.006,0.006,0.005,0.007,0.004,0.011,0.006,0.006,0.004,0.004,0.004,0.004,0.004,0.004,0.004,0.004,0.008,0.007,0.009,0.011,0.005,0.004,0.004,0.004,0.006,0.005,0.006,0.006,0.006,0.006,0.004,0.004,0.006,0.006,0.006,0.006,0.006,0.006,0.005,0.007,0.006,0.006,0.004,0.007,0.005,0.004,0.004,0.004,0.004,0.004,0.006,0.006,0.006,0.006,0.005,0.006,0.006,0.004,0.004,0.005,0.006,0.004,0.004,0.005,0.004,0.004,0.004,0.005,0.004,0.004,0.004,0.004,0.004,0.021,0.007,0.005,0.006,0.004,0.004,0.004,0.004,0.004,0.004,0.004,0.004,0.004,0.004,0.004,0.004,0.004,0.004,0.005,0.004,0.004,0.004,0.004,0.004,0.004,0.004,0.004,0.004,0.004,0.005,0.005,0.004,0.004,0.004,0.004,0.004,0.004,0.004,0.006,0.005,0.004,0.006,0.006,0.007,0.005,0.006,0.004,0.004,0.004,0.004,0.004,0.005,0.004,0.004,0.004,0.004,0.004,0.004,0.004,0.004,0.004,0.004,0.004,0.004,0.004,0.004,0.004,0.005,0.004,0.004,0.004,0.004,0.004,0.004,0.004,0.004,0.004,0.004,0.005,0.006,0.004,0.005,0.004,0.006,0.005,0.007,0.005,0.006,0.005,0.004,0.004,0.004,0.004,0.004,0.004,0.004,0.004,0.004,0.004,0.004,0.004,0.004,0.006,0.005,0.005,0.006,0.004,0.004,0.005,0.004,0.006,0.004,0.004,0.004,0.004,0.004,0.004,0.004,0.004,0.005,0.004,0.004,0.008,0.004,0.006\n",
      "\n",
      "\n"
     ]
    }
   ],
   "source": [
    "#Tempo total de atualização das collections\n",
    "print(f\"Tempos totais em segundos para atualização das collections no MongoDB\")\n",
    "print (*listTotalTimeUpdateMongo, sep=\",\")\n",
    "print(\"\\n\")"
   ]
  },
  {
   "cell_type": "code",
   "execution_count": 70,
   "metadata": {
    "colab": {
     "base_uri": "https://localhost:8080/"
    },
    "id": "ObLXrqTaERlg",
    "outputId": "d0c9a41f-8726-438b-a456-d69d2b0b389a"
   },
   "outputs": [
    {
     "name": "stdout",
     "output_type": "stream",
     "text": [
      "Tempos totais em segundos para exclusão dos documentos no MongoDB\n",
      "0.018,0.019,0.018,0.018,0.014,0.019,0.012,0.023,0.019,0.018,0.012,0.011,0.011,0.011,0.011,0.011,0.011,0.011,0.022,0.024,0.02,0.035,0.013,0.011,0.011,0.012,0.017,0.018,0.017,0.018,0.018,0.018,0.011,0.011,0.019,0.016,0.019,0.016,0.022,0.017,0.016,0.024,0.016,0.016,0.011,0.019,0.015,0.014,0.011,0.011,0.011,0.011,0.017,0.018,0.019,0.017,0.015,0.015,0.017,0.011,0.011,0.014,0.015,0.011,0.015,0.015,0.011,0.013,0.011,0.017,0.012,0.011,0.014,0.012,0.012,0.063,0.019,0.015,0.018,0.015,0.015,0.012,0.013,0.011,0.011,0.011,0.011,0.012,0.011,0.011,0.011,0.011,0.013,0.015,0.014,0.011,0.013,0.013,0.014,0.013,0.011,0.011,0.013,0.014,0.015,0.014,0.011,0.011,0.012,0.011,0.013,0.011,0.011,0.014,0.014,0.014,0.016,0.016,0.022,0.015,0.018,0.014,0.011,0.011,0.011,0.011,0.014,0.011,0.011,0.012,0.013,0.012,0.011,0.013,0.011,0.015,0.011,0.011,0.011,0.011,0.013,0.011,0.015,0.017,0.012,0.011,0.011,0.011,0.011,0.011,0.012,0.011,0.012,0.016,0.016,0.015,0.014,0.015,0.016,0.017,0.018,0.017,0.015,0.014,0.014,0.012,0.011,0.011,0.011,0.014,0.011,0.012,0.011,0.012,0.011,0.011,0.013,0.016,0.014,0.014,0.015,0.013,0.011,0.014,0.011,0.012,0.012,0.011,0.011,0.013,0.012,0.011,0.011,0.011,0.014,0.014,0.014,0.014,0.011,0.015\n",
      "\n",
      "\n"
     ]
    }
   ],
   "source": [
    "#Tempo total de exclusão das collections\n",
    "print(f\"Tempos totais em segundos para exclusão dos documentos no MongoDB\")\n",
    "print (*listTotalTimeDeleteMongo, sep=\",\")\n",
    "print(\"\\n\")"
   ]
  },
  {
   "cell_type": "markdown",
   "metadata": {
    "id": "qFdNcLtTLzpQ"
   },
   "source": [
    "**4) MySQL Localhost**"
   ]
  },
  {
   "cell_type": "markdown",
   "metadata": {
    "id": "hmbywH4eL-mL"
   },
   "source": [
    "**4.1) Conectar com o Banco de Dados**"
   ]
  },
  {
   "cell_type": "code",
   "execution_count": 71,
   "metadata": {
    "id": "tZGpCahlMBm0"
   },
   "outputs": [],
   "source": [
    "def CreateMySQLClient(_host, _user, _password, _bd)->pymysql:\n",
    "    # Create a new client and connect to the server\n",
    "    client = pymysql.connect(\n",
    "        host=_host,\n",
    "        user=_user,\n",
    "        password=_password,\n",
    "        db=_bd,\n",
    "        charset=\"utf8\"\n",
    "        )\n",
    "    return client"
   ]
  },
  {
   "cell_type": "code",
   "execution_count": 72,
   "metadata": {
    "colab": {
     "base_uri": "https://localhost:8080/"
    },
    "id": "-tqeSyzOMF5T",
    "outputId": "68c5ea6c-1214-4bda-bd4c-961596f172f5"
   },
   "outputs": [
    {
     "name": "stdout",
     "output_type": "stream",
     "text": [
      "You successfully connected to MySQL!\n"
     ]
    }
   ],
   "source": [
    "host=\"localhost\"\n",
    "user=\"root\"\n",
    "password=\"linux-00\"\n",
    "bd=\"projeto_mestrado\"\n",
    "\n",
    "clientMySQL = CreateMySQLClient(host, user, password, bd) # Loop\n",
    "# Send a ping to confirm a successful connection\n",
    "try:\n",
    "    if (clientMySQL.open):\n",
    "        print(\"You successfully connected to MySQL!\")\n",
    "    else:\n",
    "        print(\"Not connected to MySQL\")\n",
    "except Exception as e:\n",
    "    print(e)\n",
    "cursorMySQL = clientMySQL.cursor() # Loop"
   ]
  },
  {
   "cell_type": "code",
   "execution_count": 73,
   "metadata": {
    "id": "2ancBQ0EPop3"
   },
   "outputs": [],
   "source": [
    "def DisconnectMySQLClient (client, cursor):\n",
    "        cursor.close()\n",
    "        client.close()"
   ]
  },
  {
   "cell_type": "markdown",
   "metadata": {
    "id": "xOPm6PYwQQqy"
   },
   "source": [
    "**4.2) Mostrar todas as bases de dados**"
   ]
  },
  {
   "cell_type": "code",
   "execution_count": 74,
   "metadata": {
    "id": "j01W_zzCQaKI"
   },
   "outputs": [],
   "source": [
    "def MostrarBases(cursor)->None:\n",
    "        cursor.execute(\"\"\"show databases\n",
    "                       \"\"\")\n",
    "        for value in cursor:\n",
    "            print(value)\n",
    "        print(\"\\n\")"
   ]
  },
  {
   "cell_type": "code",
   "execution_count": 75,
   "metadata": {
    "colab": {
     "base_uri": "https://localhost:8080/"
    },
    "id": "NUbQKcfSRImA",
    "outputId": "01c43b42-a13d-4cdd-af47-a6f0b4d367bf"
   },
   "outputs": [
    {
     "name": "stdout",
     "output_type": "stream",
     "text": [
      "('exercicios_em_aula',)\n",
      "('information_schema',)\n",
      "('mysql',)\n",
      "('performance_schema',)\n",
      "('projeto_mestrado',)\n",
      "('sys',)\n",
      "\n",
      "\n"
     ]
    }
   ],
   "source": [
    "MostrarBases(cursorMySQL)"
   ]
  },
  {
   "cell_type": "markdown",
   "metadata": {
    "id": "sJbzTJo1Uc62"
   },
   "source": [
    "**4.3) Escolher a base de dados**"
   ]
  },
  {
   "cell_type": "code",
   "execution_count": 76,
   "metadata": {
    "id": "LkbQC4W-Uluf"
   },
   "outputs": [],
   "source": [
    "def EscolherBD(cursor)->None:\n",
    "        cursor.execute(\"\"\"use projeto_mestrado\n",
    "                       \"\"\")"
   ]
  },
  {
   "cell_type": "code",
   "execution_count": 77,
   "metadata": {
    "id": "3dcA_Om2U00N"
   },
   "outputs": [],
   "source": [
    "EscolherBD(cursorMySQL) # Loop"
   ]
  },
  {
   "cell_type": "markdown",
   "metadata": {
    "id": "6IaUV9LiRrGu"
   },
   "source": [
    "**4.4) Mostrar todas as tabelas da base de dados**"
   ]
  },
  {
   "cell_type": "code",
   "execution_count": 78,
   "metadata": {
    "id": "MdiVHrDmR1Hj"
   },
   "outputs": [],
   "source": [
    "def MostrarTabelas(cursor)->None:\n",
    "        cursor.execute(\"\"\"show tables\n",
    "                       \"\"\")\n",
    "        for value in cursor:\n",
    "            print(value)\n",
    "        print(\"\\n\")"
   ]
  },
  {
   "cell_type": "code",
   "execution_count": 79,
   "metadata": {
    "colab": {
     "base_uri": "https://localhost:8080/"
    },
    "id": "dS69fkdER0pu",
    "outputId": "60e658d0-5ce5-4801-dbca-a7e6d977b0d7"
   },
   "outputs": [
    {
     "name": "stdout",
     "output_type": "stream",
     "text": [
      "\n",
      "\n"
     ]
    }
   ],
   "source": [
    "MostrarTabelas(cursorMySQL)"
   ]
  },
  {
   "cell_type": "markdown",
   "metadata": {
    "id": "z-LvwmZGVZ7E"
   },
   "source": [
    "**4.5) Preparar a base de dados**"
   ]
  },
  {
   "cell_type": "markdown",
   "metadata": {
    "id": "jplxUOqiY7mY"
   },
   "source": [
    "**4.5.1) Carregar o modelo físico da base de dados**"
   ]
  },
  {
   "cell_type": "code",
   "execution_count": 80,
   "metadata": {
    "id": "h94fHMwjVphG"
   },
   "outputs": [],
   "source": [
    "MySQL_DDL_File = open(\"./MySQL-DDL\", \"r\")\n",
    "scriptDDL = MySQL_DDL_File.read()\n",
    "MySQL_DDL_File.close()"
   ]
  },
  {
   "cell_type": "code",
   "execution_count": 81,
   "metadata": {
    "id": "zmtjxRwBa8rP"
   },
   "outputs": [],
   "source": [
    "scriptDDL_list = scriptDDL.replace(\"\\n\",\"\").split(\";\")\n",
    "scriptDDL_list = scriptDDL_list[:-1]"
   ]
  },
  {
   "cell_type": "markdown",
   "metadata": {
    "id": "qyOsSAl-ZIGI"
   },
   "source": [
    "**4.5.2) Aplicar o modelo físico na base de dados**"
   ]
  },
  {
   "cell_type": "code",
   "execution_count": 82,
   "metadata": {
    "id": "rMvNRPNkZw_j"
   },
   "outputs": [],
   "source": [
    "def ExecutarScriptDDL(client, cursor, scriptDDL)->None:\n",
    "      for script in scriptDDL:\n",
    "        cursor.execute(script)\n",
    "      client.commit()"
   ]
  },
  {
   "cell_type": "code",
   "execution_count": 83,
   "metadata": {
    "id": "sJcUSYJNZ3Oa"
   },
   "outputs": [],
   "source": [
    "ExecutarScriptDDL(clientMySQL,cursorMySQL,scriptDDL_list)"
   ]
  },
  {
   "cell_type": "code",
   "execution_count": 84,
   "metadata": {
    "colab": {
     "base_uri": "https://localhost:8080/"
    },
    "id": "xRl21NipVgRr",
    "outputId": "b05802bb-bac0-4b11-9226-599363f524a1"
   },
   "outputs": [
    {
     "name": "stdout",
     "output_type": "stream",
     "text": [
      "('ClassificacaoNPS',)\n",
      "('Empresa',)\n",
      "('Linha',)\n",
      "('PesquisaSatisfacao',)\n",
      "('Posicao',)\n",
      "\n",
      "\n"
     ]
    }
   ],
   "source": [
    "MostrarTabelas(cursorMySQL)"
   ]
  },
  {
   "cell_type": "markdown",
   "metadata": {
    "id": "mu3GGkdMmEZu"
   },
   "source": [
    "**4.5.3) Gerar DML de inserção para as tabelas**"
   ]
  },
  {
   "cell_type": "markdown",
   "metadata": {
    "id": "cN55qlw4C370"
   },
   "source": [
    "**4.5.3.1) Script de inserção de dados na tabela ClassificacaoNPS**"
   ]
  },
  {
   "cell_type": "code",
   "execution_count": 85,
   "metadata": {
    "id": "orqF9T4vmLaV"
   },
   "outputs": [],
   "source": [
    "df_ClassificacaoNPS = pd.read_json(\"./ClassificacaoNPS.json\")"
   ]
  },
  {
   "cell_type": "code",
   "execution_count": 86,
   "metadata": {
    "colab": {
     "base_uri": "https://localhost:8080/",
     "height": 206
    },
    "id": "jlY6X-M2DfRt",
    "outputId": "345729f5-a10a-43cb-f67f-5477f494b031"
   },
   "outputs": [
    {
     "data": {
      "text/html": [
       "<div>\n",
       "<style scoped>\n",
       "    .dataframe tbody tr th:only-of-type {\n",
       "        vertical-align: middle;\n",
       "    }\n",
       "\n",
       "    .dataframe tbody tr th {\n",
       "        vertical-align: top;\n",
       "    }\n",
       "\n",
       "    .dataframe thead th {\n",
       "        text-align: right;\n",
       "    }\n",
       "</style>\n",
       "<table border=\"1\" class=\"dataframe\">\n",
       "  <thead>\n",
       "    <tr style=\"text-align: right;\">\n",
       "      <th></th>\n",
       "      <th>nota</th>\n",
       "      <th>classificacao</th>\n",
       "    </tr>\n",
       "  </thead>\n",
       "  <tbody>\n",
       "    <tr>\n",
       "      <th>0</th>\n",
       "      <td>4</td>\n",
       "      <td>Detrator</td>\n",
       "    </tr>\n",
       "    <tr>\n",
       "      <th>1</th>\n",
       "      <td>8</td>\n",
       "      <td>Neutro</td>\n",
       "    </tr>\n",
       "    <tr>\n",
       "      <th>2</th>\n",
       "      <td>0</td>\n",
       "      <td>Detrator</td>\n",
       "    </tr>\n",
       "    <tr>\n",
       "      <th>3</th>\n",
       "      <td>2</td>\n",
       "      <td>Detrator</td>\n",
       "    </tr>\n",
       "    <tr>\n",
       "      <th>4</th>\n",
       "      <td>1</td>\n",
       "      <td>Detrator</td>\n",
       "    </tr>\n",
       "  </tbody>\n",
       "</table>\n",
       "</div>"
      ],
      "text/plain": [
       "   nota classificacao\n",
       "0     4      Detrator\n",
       "1     8        Neutro\n",
       "2     0      Detrator\n",
       "3     2      Detrator\n",
       "4     1      Detrator"
      ]
     },
     "execution_count": 86,
     "metadata": {},
     "output_type": "execute_result"
    }
   ],
   "source": [
    "df_ClassificacaoNPS.head(5)"
   ]
  },
  {
   "cell_type": "code",
   "execution_count": 87,
   "metadata": {
    "id": "cKEj5fQfmLXr"
   },
   "outputs": [],
   "source": [
    "df_ClassificacaoNPS = df_ClassificacaoNPS.sort_values(by=['nota'], ascending=True).reset_index()"
   ]
  },
  {
   "cell_type": "code",
   "execution_count": 88,
   "metadata": {
    "id": "SbLtH-bvmLVY"
   },
   "outputs": [],
   "source": [
    "df_ClassificacaoNPS = df_ClassificacaoNPS.drop(['index'], axis=1)"
   ]
  },
  {
   "cell_type": "code",
   "execution_count": 89,
   "metadata": {
    "id": "IjdJLcbFmLS7"
   },
   "outputs": [],
   "source": [
    "df_ClassificacaoNPS.insert(0, 'id', range(1, 1 + len(df_ClassificacaoNPS)))"
   ]
  },
  {
   "cell_type": "code",
   "execution_count": 90,
   "metadata": {
    "id": "CI_s2rIzmLQS"
   },
   "outputs": [],
   "source": [
    "df_ClassificacaoNPS['sql_command'] = '(' + df_ClassificacaoNPS['id'].astype(str) + ', ' + df_ClassificacaoNPS['nota'].astype(str) + ', ' + '\"' + df_ClassificacaoNPS['classificacao'].astype(str) + '\"' + '),'"
   ]
  },
  {
   "cell_type": "code",
   "execution_count": 91,
   "metadata": {
    "id": "XIEsLm_jmLNX"
   },
   "outputs": [],
   "source": [
    "df_ClassificacaoNPS.iloc[-1:] = df_ClassificacaoNPS.iloc[-1, df_ClassificacaoNPS.columns.get_loc('sql_command')].replace(\"),\",\");\")"
   ]
  },
  {
   "cell_type": "code",
   "execution_count": 92,
   "metadata": {
    "colab": {
     "base_uri": "https://localhost:8080/"
    },
    "id": "0B4mhDDKmLIE",
    "outputId": "7603070b-6732-48e7-dc94-a1a7768d134e"
   },
   "outputs": [
    {
     "name": "stdout",
     "output_type": "stream",
     "text": [
      "insert into ClassificacaoNPS (IdClassificacao, Nota, Classificacao) values \n",
      "  (1, 0, \"Detrator\"),\n",
      "  (2, 1, \"Detrator\"),\n",
      "  (3, 2, \"Detrator\"),\n",
      "  (4, 3, \"Detrator\"),\n",
      "  (5, 4, \"Detrator\"),\n",
      "  (6, 5, \"Detrator\"),\n",
      "  (7, 6, \"Detrator\"),\n",
      "    (8, 7, \"Neutro\"),\n",
      "    (9, 8, \"Neutro\"),\n",
      " (10, 9, \"Promotor\"),\n",
      "(11, 10, \"Promotor\");\n"
     ]
    }
   ],
   "source": [
    "print ('insert into ClassificacaoNPS (IdClassificacao, Nota, Classificacao) values ')\n",
    "print(df_ClassificacaoNPS['sql_command'].to_string(index=False))"
   ]
  },
  {
   "cell_type": "markdown",
   "metadata": {
    "id": "Q3v_x4NTFNEo"
   },
   "source": [
    "**4.5.3.2) Script de inserção de dados na tabela Posicao**"
   ]
  },
  {
   "cell_type": "code",
   "execution_count": 93,
   "metadata": {
    "id": "nz8FQxdvE16u"
   },
   "outputs": [],
   "source": [
    "df_LocalizacaoTransporte = pd.read_json(\"./LocalizacaoTransporte.json\")"
   ]
  },
  {
   "cell_type": "code",
   "execution_count": 94,
   "metadata": {
    "colab": {
     "base_uri": "https://localhost:8080/",
     "height": 206
    },
    "id": "iVnEFU92E14J",
    "outputId": "f47cd3db-6935-4121-cf1d-888a615d8cf6"
   },
   "outputs": [
    {
     "data": {
      "text/html": [
       "<div>\n",
       "<style scoped>\n",
       "    .dataframe tbody tr th:only-of-type {\n",
       "        vertical-align: middle;\n",
       "    }\n",
       "\n",
       "    .dataframe tbody tr th {\n",
       "        vertical-align: top;\n",
       "    }\n",
       "\n",
       "    .dataframe thead th {\n",
       "        text-align: right;\n",
       "    }\n",
       "</style>\n",
       "<table border=\"1\" class=\"dataframe\">\n",
       "  <thead>\n",
       "    <tr style=\"text-align: right;\">\n",
       "      <th></th>\n",
       "      <th>empresa</th>\n",
       "      <th>linha</th>\n",
       "      <th>latitude</th>\n",
       "      <th>longitude</th>\n",
       "      <th>datahora</th>\n",
       "    </tr>\n",
       "  </thead>\n",
       "  <tbody>\n",
       "    <tr>\n",
       "      <th>0</th>\n",
       "      <td>Viação Bonança</td>\n",
       "      <td>Sol Nascente / Chácara Paraíso</td>\n",
       "      <td>6.6809</td>\n",
       "      <td>-117.4420</td>\n",
       "      <td>2023-10-18T18:37:01.932Z</td>\n",
       "    </tr>\n",
       "    <tr>\n",
       "      <th>1</th>\n",
       "      <td>Viação Bonança</td>\n",
       "      <td>Santa Clara / Sol Nascente</td>\n",
       "      <td>-67.3001</td>\n",
       "      <td>-76.5232</td>\n",
       "      <td>2023-10-18T05:27:37.659Z</td>\n",
       "    </tr>\n",
       "    <tr>\n",
       "      <th>2</th>\n",
       "      <td>T.C.L. - Transportes Coletivos Léo</td>\n",
       "      <td>Ana Carrara / Taquara Preta</td>\n",
       "      <td>-27.4215</td>\n",
       "      <td>-17.2150</td>\n",
       "      <td>2023-10-18T08:02:20.217Z</td>\n",
       "    </tr>\n",
       "    <tr>\n",
       "      <th>3</th>\n",
       "      <td>T.C.L. - Transportes Coletivos Léo</td>\n",
       "      <td>Santa Clara / Sol Nascente</td>\n",
       "      <td>3.8245</td>\n",
       "      <td>-27.7471</td>\n",
       "      <td>2023-10-18T04:16:10.090Z</td>\n",
       "    </tr>\n",
       "    <tr>\n",
       "      <th>4</th>\n",
       "      <td>Sereno Tur</td>\n",
       "      <td>Ibraim Mendonça / Colinas</td>\n",
       "      <td>-85.5929</td>\n",
       "      <td>56.8131</td>\n",
       "      <td>2023-10-18T16:28:15.200Z</td>\n",
       "    </tr>\n",
       "  </tbody>\n",
       "</table>\n",
       "</div>"
      ],
      "text/plain": [
       "                              empresa                           linha  \\\n",
       "0                      Viação Bonança  Sol Nascente / Chácara Paraíso   \n",
       "1                      Viação Bonança      Santa Clara / Sol Nascente   \n",
       "2  T.C.L. - Transportes Coletivos Léo     Ana Carrara / Taquara Preta   \n",
       "3  T.C.L. - Transportes Coletivos Léo      Santa Clara / Sol Nascente   \n",
       "4                          Sereno Tur       Ibraim Mendonça / Colinas   \n",
       "\n",
       "   latitude  longitude                  datahora  \n",
       "0    6.6809  -117.4420  2023-10-18T18:37:01.932Z  \n",
       "1  -67.3001   -76.5232  2023-10-18T05:27:37.659Z  \n",
       "2  -27.4215   -17.2150  2023-10-18T08:02:20.217Z  \n",
       "3    3.8245   -27.7471  2023-10-18T04:16:10.090Z  \n",
       "4  -85.5929    56.8131  2023-10-18T16:28:15.200Z  "
      ]
     },
     "execution_count": 94,
     "metadata": {},
     "output_type": "execute_result"
    }
   ],
   "source": [
    "df_LocalizacaoTransporte.head(5)"
   ]
  },
  {
   "cell_type": "code",
   "execution_count": 95,
   "metadata": {
    "id": "HeHnyi9oE11I"
   },
   "outputs": [],
   "source": [
    "df_LocalizacaoTransporte = df_LocalizacaoTransporte.reset_index()"
   ]
  },
  {
   "cell_type": "code",
   "execution_count": 96,
   "metadata": {
    "id": "Zb-MeLvnmK_d"
   },
   "outputs": [],
   "source": [
    "df_LocalizacaoTransporte = df_LocalizacaoTransporte.drop(['index'], axis=1)"
   ]
  },
  {
   "cell_type": "code",
   "execution_count": 97,
   "metadata": {
    "id": "Cjlit0VWFl1P"
   },
   "outputs": [],
   "source": [
    "df_LocalizacaoTransporte.insert(0, 'id', range(1, 1 + len(df_LocalizacaoTransporte)))"
   ]
  },
  {
   "cell_type": "code",
   "execution_count": 98,
   "metadata": {
    "colab": {
     "base_uri": "https://localhost:8080/",
     "height": 424
    },
    "id": "hINoSjYxFlym",
    "outputId": "60f9624f-3cf7-4674-ef73-7618718f38f4"
   },
   "outputs": [
    {
     "data": {
      "text/html": [
       "<div>\n",
       "<style scoped>\n",
       "    .dataframe tbody tr th:only-of-type {\n",
       "        vertical-align: middle;\n",
       "    }\n",
       "\n",
       "    .dataframe tbody tr th {\n",
       "        vertical-align: top;\n",
       "    }\n",
       "\n",
       "    .dataframe thead th {\n",
       "        text-align: right;\n",
       "    }\n",
       "</style>\n",
       "<table border=\"1\" class=\"dataframe\">\n",
       "  <thead>\n",
       "    <tr style=\"text-align: right;\">\n",
       "      <th></th>\n",
       "      <th>id</th>\n",
       "      <th>empresa</th>\n",
       "      <th>linha</th>\n",
       "      <th>latitude</th>\n",
       "      <th>longitude</th>\n",
       "      <th>datahora</th>\n",
       "    </tr>\n",
       "  </thead>\n",
       "  <tbody>\n",
       "    <tr>\n",
       "      <th>499</th>\n",
       "      <td>500</td>\n",
       "      <td>Sereno Tur</td>\n",
       "      <td>São Vicente / Bandeirantes</td>\n",
       "      <td>-50.6620</td>\n",
       "      <td>-119.6091</td>\n",
       "      <td>2023-10-18T07:55:10.469Z</td>\n",
       "    </tr>\n",
       "    <tr>\n",
       "      <th>108</th>\n",
       "      <td>109</td>\n",
       "      <td>Sereno Tur</td>\n",
       "      <td>São Marcos / Hermenegildo Marote</td>\n",
       "      <td>-71.4433</td>\n",
       "      <td>124.4217</td>\n",
       "      <td>2023-10-18T08:52:54.882Z</td>\n",
       "    </tr>\n",
       "    <tr>\n",
       "      <th>738</th>\n",
       "      <td>739</td>\n",
       "      <td>Sereno Tur</td>\n",
       "      <td>Ibraim Mendonça / Colinas</td>\n",
       "      <td>-5.5231</td>\n",
       "      <td>67.4694</td>\n",
       "      <td>2023-10-18T11:15:17.397Z</td>\n",
       "    </tr>\n",
       "    <tr>\n",
       "      <th>849</th>\n",
       "      <td>850</td>\n",
       "      <td>Sereno Tur</td>\n",
       "      <td>Independência / Colinas</td>\n",
       "      <td>-34.6169</td>\n",
       "      <td>142.3226</td>\n",
       "      <td>2023-10-18T17:08:10.596Z</td>\n",
       "    </tr>\n",
       "    <tr>\n",
       "      <th>734</th>\n",
       "      <td>735</td>\n",
       "      <td>Sereno Tur</td>\n",
       "      <td>Sebastião Adolfo / Granjaria</td>\n",
       "      <td>-40.1518</td>\n",
       "      <td>14.5749</td>\n",
       "      <td>2023-10-18T14:59:17.307Z</td>\n",
       "    </tr>\n",
       "    <tr>\n",
       "      <th>...</th>\n",
       "      <td>...</td>\n",
       "      <td>...</td>\n",
       "      <td>...</td>\n",
       "      <td>...</td>\n",
       "      <td>...</td>\n",
       "      <td>...</td>\n",
       "    </tr>\n",
       "    <tr>\n",
       "      <th>201</th>\n",
       "      <td>202</td>\n",
       "      <td>Viação Bonança</td>\n",
       "      <td>Dico Leite / Alto Bairro Haidée</td>\n",
       "      <td>39.9218</td>\n",
       "      <td>-171.8313</td>\n",
       "      <td>2023-10-18T13:00:15.102Z</td>\n",
       "    </tr>\n",
       "    <tr>\n",
       "      <th>202</th>\n",
       "      <td>203</td>\n",
       "      <td>Viação Bonança</td>\n",
       "      <td>São Marcos / Hermenegildo Marote</td>\n",
       "      <td>-69.3346</td>\n",
       "      <td>41.5437</td>\n",
       "      <td>2023-10-18T14:51:44.037Z</td>\n",
       "    </tr>\n",
       "    <tr>\n",
       "      <th>343</th>\n",
       "      <td>344</td>\n",
       "      <td>Viação Bonança</td>\n",
       "      <td>Independência / Colinas</td>\n",
       "      <td>41.1129</td>\n",
       "      <td>-78.8420</td>\n",
       "      <td>2023-10-17T23:29:23.320Z</td>\n",
       "    </tr>\n",
       "    <tr>\n",
       "      <th>208</th>\n",
       "      <td>209</td>\n",
       "      <td>Viação Bonança</td>\n",
       "      <td>São Vicente / Bandeirantes</td>\n",
       "      <td>-83.2342</td>\n",
       "      <td>76.9503</td>\n",
       "      <td>2023-10-18T17:37:00.575Z</td>\n",
       "    </tr>\n",
       "    <tr>\n",
       "      <th>0</th>\n",
       "      <td>1</td>\n",
       "      <td>Viação Bonança</td>\n",
       "      <td>Sol Nascente / Chácara Paraíso</td>\n",
       "      <td>6.6809</td>\n",
       "      <td>-117.4420</td>\n",
       "      <td>2023-10-18T18:37:01.932Z</td>\n",
       "    </tr>\n",
       "  </tbody>\n",
       "</table>\n",
       "<p>1000 rows × 6 columns</p>\n",
       "</div>"
      ],
      "text/plain": [
       "      id         empresa                             linha  latitude  \\\n",
       "499  500      Sereno Tur        São Vicente / Bandeirantes  -50.6620   \n",
       "108  109      Sereno Tur  São Marcos / Hermenegildo Marote  -71.4433   \n",
       "738  739      Sereno Tur         Ibraim Mendonça / Colinas   -5.5231   \n",
       "849  850      Sereno Tur           Independência / Colinas  -34.6169   \n",
       "734  735      Sereno Tur      Sebastião Adolfo / Granjaria  -40.1518   \n",
       "..   ...             ...                               ...       ...   \n",
       "201  202  Viação Bonança   Dico Leite / Alto Bairro Haidée   39.9218   \n",
       "202  203  Viação Bonança  São Marcos / Hermenegildo Marote  -69.3346   \n",
       "343  344  Viação Bonança           Independência / Colinas   41.1129   \n",
       "208  209  Viação Bonança        São Vicente / Bandeirantes  -83.2342   \n",
       "0      1  Viação Bonança    Sol Nascente / Chácara Paraíso    6.6809   \n",
       "\n",
       "     longitude                  datahora  \n",
       "499  -119.6091  2023-10-18T07:55:10.469Z  \n",
       "108   124.4217  2023-10-18T08:52:54.882Z  \n",
       "738    67.4694  2023-10-18T11:15:17.397Z  \n",
       "849   142.3226  2023-10-18T17:08:10.596Z  \n",
       "734    14.5749  2023-10-18T14:59:17.307Z  \n",
       "..         ...                       ...  \n",
       "201  -171.8313  2023-10-18T13:00:15.102Z  \n",
       "202    41.5437  2023-10-18T14:51:44.037Z  \n",
       "343   -78.8420  2023-10-17T23:29:23.320Z  \n",
       "208    76.9503  2023-10-18T17:37:00.575Z  \n",
       "0    -117.4420  2023-10-18T18:37:01.932Z  \n",
       "\n",
       "[1000 rows x 6 columns]"
      ]
     },
     "execution_count": 98,
     "metadata": {},
     "output_type": "execute_result"
    }
   ],
   "source": [
    "df_LocalizacaoTransporte.sort_values(by=['empresa'], ascending=True)"
   ]
  },
  {
   "cell_type": "code",
   "execution_count": 99,
   "metadata": {
    "id": "vpuL4yokFlv6"
   },
   "outputs": [],
   "source": [
    "df_LocalizacaoTransporte['idEmpresa'] = pd.factorize(df_LocalizacaoTransporte.empresa)[0]"
   ]
  },
  {
   "cell_type": "code",
   "execution_count": 100,
   "metadata": {
    "id": "5wYXzCMCFltV"
   },
   "outputs": [],
   "source": [
    "df_Empresa = df_LocalizacaoTransporte[['idEmpresa','empresa']]"
   ]
  },
  {
   "cell_type": "code",
   "execution_count": 101,
   "metadata": {
    "id": "a9kfTYvTFlq0"
   },
   "outputs": [],
   "source": [
    "df_Empresa = df_Empresa.drop_duplicates().reset_index(drop = True)"
   ]
  },
  {
   "cell_type": "code",
   "execution_count": 102,
   "metadata": {
    "colab": {
     "base_uri": "https://localhost:8080/",
     "height": 143
    },
    "id": "M9G6_UOOGLAZ",
    "outputId": "8a60dc9f-093f-4010-ccae-c6c297e59ba1"
   },
   "outputs": [
    {
     "data": {
      "text/html": [
       "<div>\n",
       "<style scoped>\n",
       "    .dataframe tbody tr th:only-of-type {\n",
       "        vertical-align: middle;\n",
       "    }\n",
       "\n",
       "    .dataframe tbody tr th {\n",
       "        vertical-align: top;\n",
       "    }\n",
       "\n",
       "    .dataframe thead th {\n",
       "        text-align: right;\n",
       "    }\n",
       "</style>\n",
       "<table border=\"1\" class=\"dataframe\">\n",
       "  <thead>\n",
       "    <tr style=\"text-align: right;\">\n",
       "      <th></th>\n",
       "      <th>idEmpresa</th>\n",
       "      <th>empresa</th>\n",
       "    </tr>\n",
       "  </thead>\n",
       "  <tbody>\n",
       "    <tr>\n",
       "      <th>0</th>\n",
       "      <td>0</td>\n",
       "      <td>Viação Bonança</td>\n",
       "    </tr>\n",
       "    <tr>\n",
       "      <th>1</th>\n",
       "      <td>1</td>\n",
       "      <td>T.C.L. - Transportes Coletivos Léo</td>\n",
       "    </tr>\n",
       "    <tr>\n",
       "      <th>2</th>\n",
       "      <td>2</td>\n",
       "      <td>Sereno Tur</td>\n",
       "    </tr>\n",
       "  </tbody>\n",
       "</table>\n",
       "</div>"
      ],
      "text/plain": [
       "   idEmpresa                             empresa\n",
       "0          0                      Viação Bonança\n",
       "1          1  T.C.L. - Transportes Coletivos Léo\n",
       "2          2                          Sereno Tur"
      ]
     },
     "execution_count": 102,
     "metadata": {},
     "output_type": "execute_result"
    }
   ],
   "source": [
    "df_Empresa"
   ]
  },
  {
   "cell_type": "code",
   "execution_count": 103,
   "metadata": {},
   "outputs": [],
   "source": [
    "df_Empresa_2 = df_Empresa.copy()"
   ]
  },
  {
   "cell_type": "code",
   "execution_count": 104,
   "metadata": {
    "colab": {
     "base_uri": "https://localhost:8080/",
     "height": 424
    },
    "id": "5m0avmPCGK9r",
    "outputId": "d9f660fd-7055-4fad-f351-86a6620e6a89"
   },
   "outputs": [
    {
     "data": {
      "text/html": [
       "<div>\n",
       "<style scoped>\n",
       "    .dataframe tbody tr th:only-of-type {\n",
       "        vertical-align: middle;\n",
       "    }\n",
       "\n",
       "    .dataframe tbody tr th {\n",
       "        vertical-align: top;\n",
       "    }\n",
       "\n",
       "    .dataframe thead th {\n",
       "        text-align: right;\n",
       "    }\n",
       "</style>\n",
       "<table border=\"1\" class=\"dataframe\">\n",
       "  <thead>\n",
       "    <tr style=\"text-align: right;\">\n",
       "      <th></th>\n",
       "      <th>id</th>\n",
       "      <th>empresa</th>\n",
       "      <th>linha</th>\n",
       "      <th>latitude</th>\n",
       "      <th>longitude</th>\n",
       "      <th>datahora</th>\n",
       "      <th>idEmpresa</th>\n",
       "    </tr>\n",
       "  </thead>\n",
       "  <tbody>\n",
       "    <tr>\n",
       "      <th>95</th>\n",
       "      <td>96</td>\n",
       "      <td>Viação Bonança</td>\n",
       "      <td>Ana Carrara / Taquara Preta</td>\n",
       "      <td>-19.3193</td>\n",
       "      <td>-26.8829</td>\n",
       "      <td>2023-10-18T16:26:24.350Z</td>\n",
       "      <td>0</td>\n",
       "    </tr>\n",
       "    <tr>\n",
       "      <th>780</th>\n",
       "      <td>781</td>\n",
       "      <td>Viação Bonança</td>\n",
       "      <td>Ana Carrara / Taquara Preta</td>\n",
       "      <td>16.1275</td>\n",
       "      <td>105.7139</td>\n",
       "      <td>2023-10-18T00:12:14.318Z</td>\n",
       "      <td>0</td>\n",
       "    </tr>\n",
       "    <tr>\n",
       "      <th>296</th>\n",
       "      <td>297</td>\n",
       "      <td>Viação Bonança</td>\n",
       "      <td>Ana Carrara / Taquara Preta</td>\n",
       "      <td>59.8379</td>\n",
       "      <td>-89.5570</td>\n",
       "      <td>2023-10-18T17:37:40.948Z</td>\n",
       "      <td>0</td>\n",
       "    </tr>\n",
       "    <tr>\n",
       "      <th>141</th>\n",
       "      <td>142</td>\n",
       "      <td>Viação Bonança</td>\n",
       "      <td>Ana Carrara / Taquara Preta</td>\n",
       "      <td>22.9931</td>\n",
       "      <td>149.7511</td>\n",
       "      <td>2023-10-18T17:29:51.610Z</td>\n",
       "      <td>0</td>\n",
       "    </tr>\n",
       "    <tr>\n",
       "      <th>787</th>\n",
       "      <td>788</td>\n",
       "      <td>Sereno Tur</td>\n",
       "      <td>Ana Carrara / Taquara Preta</td>\n",
       "      <td>79.3431</td>\n",
       "      <td>76.1220</td>\n",
       "      <td>2023-10-18T00:47:07.110Z</td>\n",
       "      <td>2</td>\n",
       "    </tr>\n",
       "    <tr>\n",
       "      <th>...</th>\n",
       "      <td>...</td>\n",
       "      <td>...</td>\n",
       "      <td>...</td>\n",
       "      <td>...</td>\n",
       "      <td>...</td>\n",
       "      <td>...</td>\n",
       "      <td>...</td>\n",
       "    </tr>\n",
       "    <tr>\n",
       "      <th>931</th>\n",
       "      <td>932</td>\n",
       "      <td>T.C.L. - Transportes Coletivos Léo</td>\n",
       "      <td>São Vicente / Leonardo</td>\n",
       "      <td>45.0141</td>\n",
       "      <td>6.5395</td>\n",
       "      <td>2023-10-18T11:11:15.527Z</td>\n",
       "      <td>1</td>\n",
       "    </tr>\n",
       "    <tr>\n",
       "      <th>636</th>\n",
       "      <td>637</td>\n",
       "      <td>Viação Bonança</td>\n",
       "      <td>São Vicente / Leonardo</td>\n",
       "      <td>-16.5554</td>\n",
       "      <td>139.9638</td>\n",
       "      <td>2023-10-18T03:13:02.939Z</td>\n",
       "      <td>0</td>\n",
       "    </tr>\n",
       "    <tr>\n",
       "      <th>634</th>\n",
       "      <td>635</td>\n",
       "      <td>T.C.L. - Transportes Coletivos Léo</td>\n",
       "      <td>São Vicente / Leonardo</td>\n",
       "      <td>-89.0243</td>\n",
       "      <td>68.5689</td>\n",
       "      <td>2023-10-18T06:19:08.083Z</td>\n",
       "      <td>1</td>\n",
       "    </tr>\n",
       "    <tr>\n",
       "      <th>626</th>\n",
       "      <td>627</td>\n",
       "      <td>Viação Bonança</td>\n",
       "      <td>São Vicente / Leonardo</td>\n",
       "      <td>21.6846</td>\n",
       "      <td>-172.2278</td>\n",
       "      <td>2023-10-18T05:38:24.816Z</td>\n",
       "      <td>0</td>\n",
       "    </tr>\n",
       "    <tr>\n",
       "      <th>821</th>\n",
       "      <td>822</td>\n",
       "      <td>T.C.L. - Transportes Coletivos Léo</td>\n",
       "      <td>São Vicente / Leonardo</td>\n",
       "      <td>-40.0536</td>\n",
       "      <td>176.8376</td>\n",
       "      <td>2023-10-18T04:06:56.258Z</td>\n",
       "      <td>1</td>\n",
       "    </tr>\n",
       "  </tbody>\n",
       "</table>\n",
       "<p>1000 rows × 7 columns</p>\n",
       "</div>"
      ],
      "text/plain": [
       "      id                             empresa                        linha  \\\n",
       "95    96                      Viação Bonança  Ana Carrara / Taquara Preta   \n",
       "780  781                      Viação Bonança  Ana Carrara / Taquara Preta   \n",
       "296  297                      Viação Bonança  Ana Carrara / Taquara Preta   \n",
       "141  142                      Viação Bonança  Ana Carrara / Taquara Preta   \n",
       "787  788                          Sereno Tur  Ana Carrara / Taquara Preta   \n",
       "..   ...                                 ...                          ...   \n",
       "931  932  T.C.L. - Transportes Coletivos Léo       São Vicente / Leonardo   \n",
       "636  637                      Viação Bonança       São Vicente / Leonardo   \n",
       "634  635  T.C.L. - Transportes Coletivos Léo       São Vicente / Leonardo   \n",
       "626  627                      Viação Bonança       São Vicente / Leonardo   \n",
       "821  822  T.C.L. - Transportes Coletivos Léo       São Vicente / Leonardo   \n",
       "\n",
       "     latitude  longitude                  datahora  idEmpresa  \n",
       "95   -19.3193   -26.8829  2023-10-18T16:26:24.350Z          0  \n",
       "780   16.1275   105.7139  2023-10-18T00:12:14.318Z          0  \n",
       "296   59.8379   -89.5570  2023-10-18T17:37:40.948Z          0  \n",
       "141   22.9931   149.7511  2023-10-18T17:29:51.610Z          0  \n",
       "787   79.3431    76.1220  2023-10-18T00:47:07.110Z          2  \n",
       "..        ...        ...                       ...        ...  \n",
       "931   45.0141     6.5395  2023-10-18T11:11:15.527Z          1  \n",
       "636  -16.5554   139.9638  2023-10-18T03:13:02.939Z          0  \n",
       "634  -89.0243    68.5689  2023-10-18T06:19:08.083Z          1  \n",
       "626   21.6846  -172.2278  2023-10-18T05:38:24.816Z          0  \n",
       "821  -40.0536   176.8376  2023-10-18T04:06:56.258Z          1  \n",
       "\n",
       "[1000 rows x 7 columns]"
      ]
     },
     "execution_count": 104,
     "metadata": {},
     "output_type": "execute_result"
    }
   ],
   "source": [
    "df_LocalizacaoTransporte.sort_values(by=['linha'], ascending=True)"
   ]
  },
  {
   "cell_type": "code",
   "execution_count": 105,
   "metadata": {
    "id": "rO8r53ZPGV04"
   },
   "outputs": [],
   "source": [
    "df_LocalizacaoTransporte['idLinha'] = pd.factorize(df_LocalizacaoTransporte.linha)[0]"
   ]
  },
  {
   "cell_type": "code",
   "execution_count": 106,
   "metadata": {
    "id": "lU6rcZUgGVx-"
   },
   "outputs": [],
   "source": [
    "df_Linha = df_LocalizacaoTransporte[['idLinha','linha']]"
   ]
  },
  {
   "cell_type": "code",
   "execution_count": 107,
   "metadata": {
    "id": "WcbKQwV2GVvP"
   },
   "outputs": [],
   "source": [
    "df_Linha = df_Linha.drop_duplicates().reset_index(drop = True)"
   ]
  },
  {
   "cell_type": "code",
   "execution_count": 108,
   "metadata": {
    "colab": {
     "base_uri": "https://localhost:8080/",
     "height": 426
    },
    "id": "hey24oCkFlnz",
    "outputId": "337c4a81-10df-4136-ff30-6d57cb5b686b"
   },
   "outputs": [
    {
     "data": {
      "text/html": [
       "<div>\n",
       "<style scoped>\n",
       "    .dataframe tbody tr th:only-of-type {\n",
       "        vertical-align: middle;\n",
       "    }\n",
       "\n",
       "    .dataframe tbody tr th {\n",
       "        vertical-align: top;\n",
       "    }\n",
       "\n",
       "    .dataframe thead th {\n",
       "        text-align: right;\n",
       "    }\n",
       "</style>\n",
       "<table border=\"1\" class=\"dataframe\">\n",
       "  <thead>\n",
       "    <tr style=\"text-align: right;\">\n",
       "      <th></th>\n",
       "      <th>idLinha</th>\n",
       "      <th>linha</th>\n",
       "    </tr>\n",
       "  </thead>\n",
       "  <tbody>\n",
       "    <tr>\n",
       "      <th>0</th>\n",
       "      <td>0</td>\n",
       "      <td>Sol Nascente / Chácara Paraíso</td>\n",
       "    </tr>\n",
       "    <tr>\n",
       "      <th>1</th>\n",
       "      <td>1</td>\n",
       "      <td>Santa Clara / Sol Nascente</td>\n",
       "    </tr>\n",
       "    <tr>\n",
       "      <th>2</th>\n",
       "      <td>2</td>\n",
       "      <td>Ana Carrara / Taquara Preta</td>\n",
       "    </tr>\n",
       "    <tr>\n",
       "      <th>3</th>\n",
       "      <td>3</td>\n",
       "      <td>Ibraim Mendonça / Colinas</td>\n",
       "    </tr>\n",
       "    <tr>\n",
       "      <th>4</th>\n",
       "      <td>4</td>\n",
       "      <td>Sebastião Adolfo / Granjaria</td>\n",
       "    </tr>\n",
       "    <tr>\n",
       "      <th>5</th>\n",
       "      <td>5</td>\n",
       "      <td>Independência / Colinas</td>\n",
       "    </tr>\n",
       "    <tr>\n",
       "      <th>6</th>\n",
       "      <td>6</td>\n",
       "      <td>Dico Leite / Alto Bairro Haidée</td>\n",
       "    </tr>\n",
       "    <tr>\n",
       "      <th>7</th>\n",
       "      <td>7</td>\n",
       "      <td>Primavera / Isabel Tavares</td>\n",
       "    </tr>\n",
       "    <tr>\n",
       "      <th>8</th>\n",
       "      <td>8</td>\n",
       "      <td>São Vicente / Leonardo</td>\n",
       "    </tr>\n",
       "    <tr>\n",
       "      <th>9</th>\n",
       "      <td>9</td>\n",
       "      <td>São Marcos / Hermenegildo Marote</td>\n",
       "    </tr>\n",
       "    <tr>\n",
       "      <th>10</th>\n",
       "      <td>10</td>\n",
       "      <td>São Diniz / Taquara Preta</td>\n",
       "    </tr>\n",
       "    <tr>\n",
       "      <th>11</th>\n",
       "      <td>11</td>\n",
       "      <td>São Vicente / Bandeirantes</td>\n",
       "    </tr>\n",
       "  </tbody>\n",
       "</table>\n",
       "</div>"
      ],
      "text/plain": [
       "    idLinha                             linha\n",
       "0         0    Sol Nascente / Chácara Paraíso\n",
       "1         1        Santa Clara / Sol Nascente\n",
       "2         2       Ana Carrara / Taquara Preta\n",
       "3         3         Ibraim Mendonça / Colinas\n",
       "4         4      Sebastião Adolfo / Granjaria\n",
       "5         5           Independência / Colinas\n",
       "6         6   Dico Leite / Alto Bairro Haidée\n",
       "7         7        Primavera / Isabel Tavares\n",
       "8         8            São Vicente / Leonardo\n",
       "9         9  São Marcos / Hermenegildo Marote\n",
       "10       10         São Diniz / Taquara Preta\n",
       "11       11        São Vicente / Bandeirantes"
      ]
     },
     "execution_count": 108,
     "metadata": {},
     "output_type": "execute_result"
    }
   ],
   "source": [
    "df_Linha"
   ]
  },
  {
   "cell_type": "code",
   "execution_count": 109,
   "metadata": {},
   "outputs": [],
   "source": [
    "df_Linha_2 = df_Linha.copy()"
   ]
  },
  {
   "cell_type": "code",
   "execution_count": 110,
   "metadata": {
    "id": "hs-JGQwOGolY"
   },
   "outputs": [],
   "source": [
    "df_LocalizacaoTransporte = df_LocalizacaoTransporte.drop(['empresa', 'linha'], axis=1)"
   ]
  },
  {
   "cell_type": "code",
   "execution_count": 111,
   "metadata": {
    "colab": {
     "base_uri": "https://localhost:8080/",
     "height": 424
    },
    "id": "3OqDAeSGjFKL",
    "outputId": "357c02ab-1e50-44da-8176-76f15437b32e"
   },
   "outputs": [
    {
     "data": {
      "text/html": [
       "<div>\n",
       "<style scoped>\n",
       "    .dataframe tbody tr th:only-of-type {\n",
       "        vertical-align: middle;\n",
       "    }\n",
       "\n",
       "    .dataframe tbody tr th {\n",
       "        vertical-align: top;\n",
       "    }\n",
       "\n",
       "    .dataframe thead th {\n",
       "        text-align: right;\n",
       "    }\n",
       "</style>\n",
       "<table border=\"1\" class=\"dataframe\">\n",
       "  <thead>\n",
       "    <tr style=\"text-align: right;\">\n",
       "      <th></th>\n",
       "      <th>id</th>\n",
       "      <th>latitude</th>\n",
       "      <th>longitude</th>\n",
       "      <th>datahora</th>\n",
       "      <th>idEmpresa</th>\n",
       "      <th>idLinha</th>\n",
       "    </tr>\n",
       "  </thead>\n",
       "  <tbody>\n",
       "    <tr>\n",
       "      <th>0</th>\n",
       "      <td>1</td>\n",
       "      <td>6.6809</td>\n",
       "      <td>-117.4420</td>\n",
       "      <td>2023-10-18T18:37:01.932Z</td>\n",
       "      <td>0</td>\n",
       "      <td>0</td>\n",
       "    </tr>\n",
       "    <tr>\n",
       "      <th>1</th>\n",
       "      <td>2</td>\n",
       "      <td>-67.3001</td>\n",
       "      <td>-76.5232</td>\n",
       "      <td>2023-10-18T05:27:37.659Z</td>\n",
       "      <td>0</td>\n",
       "      <td>1</td>\n",
       "    </tr>\n",
       "    <tr>\n",
       "      <th>2</th>\n",
       "      <td>3</td>\n",
       "      <td>-27.4215</td>\n",
       "      <td>-17.2150</td>\n",
       "      <td>2023-10-18T08:02:20.217Z</td>\n",
       "      <td>1</td>\n",
       "      <td>2</td>\n",
       "    </tr>\n",
       "    <tr>\n",
       "      <th>3</th>\n",
       "      <td>4</td>\n",
       "      <td>3.8245</td>\n",
       "      <td>-27.7471</td>\n",
       "      <td>2023-10-18T04:16:10.090Z</td>\n",
       "      <td>1</td>\n",
       "      <td>1</td>\n",
       "    </tr>\n",
       "    <tr>\n",
       "      <th>4</th>\n",
       "      <td>5</td>\n",
       "      <td>-85.5929</td>\n",
       "      <td>56.8131</td>\n",
       "      <td>2023-10-18T16:28:15.200Z</td>\n",
       "      <td>2</td>\n",
       "      <td>3</td>\n",
       "    </tr>\n",
       "    <tr>\n",
       "      <th>...</th>\n",
       "      <td>...</td>\n",
       "      <td>...</td>\n",
       "      <td>...</td>\n",
       "      <td>...</td>\n",
       "      <td>...</td>\n",
       "      <td>...</td>\n",
       "    </tr>\n",
       "    <tr>\n",
       "      <th>995</th>\n",
       "      <td>996</td>\n",
       "      <td>11.6688</td>\n",
       "      <td>-0.1164</td>\n",
       "      <td>2023-10-18T16:03:16.742Z</td>\n",
       "      <td>0</td>\n",
       "      <td>2</td>\n",
       "    </tr>\n",
       "    <tr>\n",
       "      <th>996</th>\n",
       "      <td>997</td>\n",
       "      <td>-34.5809</td>\n",
       "      <td>175.5182</td>\n",
       "      <td>2023-10-18T08:33:10.807Z</td>\n",
       "      <td>1</td>\n",
       "      <td>9</td>\n",
       "    </tr>\n",
       "    <tr>\n",
       "      <th>997</th>\n",
       "      <td>998</td>\n",
       "      <td>33.7310</td>\n",
       "      <td>167.0642</td>\n",
       "      <td>2023-10-18T08:37:10.526Z</td>\n",
       "      <td>2</td>\n",
       "      <td>5</td>\n",
       "    </tr>\n",
       "    <tr>\n",
       "      <th>998</th>\n",
       "      <td>999</td>\n",
       "      <td>-51.9033</td>\n",
       "      <td>106.7999</td>\n",
       "      <td>2023-10-18T08:17:57.256Z</td>\n",
       "      <td>2</td>\n",
       "      <td>5</td>\n",
       "    </tr>\n",
       "    <tr>\n",
       "      <th>999</th>\n",
       "      <td>1000</td>\n",
       "      <td>-83.1737</td>\n",
       "      <td>-82.4414</td>\n",
       "      <td>2023-10-17T21:51:20.722Z</td>\n",
       "      <td>1</td>\n",
       "      <td>11</td>\n",
       "    </tr>\n",
       "  </tbody>\n",
       "</table>\n",
       "<p>1000 rows × 6 columns</p>\n",
       "</div>"
      ],
      "text/plain": [
       "       id  latitude  longitude                  datahora  idEmpresa  idLinha\n",
       "0       1    6.6809  -117.4420  2023-10-18T18:37:01.932Z          0        0\n",
       "1       2  -67.3001   -76.5232  2023-10-18T05:27:37.659Z          0        1\n",
       "2       3  -27.4215   -17.2150  2023-10-18T08:02:20.217Z          1        2\n",
       "3       4    3.8245   -27.7471  2023-10-18T04:16:10.090Z          1        1\n",
       "4       5  -85.5929    56.8131  2023-10-18T16:28:15.200Z          2        3\n",
       "..    ...       ...        ...                       ...        ...      ...\n",
       "995   996   11.6688    -0.1164  2023-10-18T16:03:16.742Z          0        2\n",
       "996   997  -34.5809   175.5182  2023-10-18T08:33:10.807Z          1        9\n",
       "997   998   33.7310   167.0642  2023-10-18T08:37:10.526Z          2        5\n",
       "998   999  -51.9033   106.7999  2023-10-18T08:17:57.256Z          2        5\n",
       "999  1000  -83.1737   -82.4414  2023-10-17T21:51:20.722Z          1       11\n",
       "\n",
       "[1000 rows x 6 columns]"
      ]
     },
     "execution_count": 111,
     "metadata": {},
     "output_type": "execute_result"
    }
   ],
   "source": [
    "df_LocalizacaoTransporte"
   ]
  },
  {
   "cell_type": "code",
   "execution_count": 112,
   "metadata": {
    "id": "puvmV4A1Goiu"
   },
   "outputs": [],
   "source": [
    "df_LocalizacaoTransporte = df_LocalizacaoTransporte.astype({'datahora':'string'})"
   ]
  },
  {
   "cell_type": "code",
   "execution_count": 113,
   "metadata": {
    "id": "5IeXUTWdGtU2"
   },
   "outputs": [],
   "source": [
    "df_LocalizacaoTransporte['datahora'] = pd.to_datetime(df_LocalizacaoTransporte['datahora']).dt.tz_convert(None)"
   ]
  },
  {
   "cell_type": "code",
   "execution_count": 114,
   "metadata": {
    "id": "TZfgtlC4G8Pr"
   },
   "outputs": [],
   "source": [
    "df_LocalizacaoTransporte = df_LocalizacaoTransporte.astype({'datahora':'string'})"
   ]
  },
  {
   "cell_type": "code",
   "execution_count": 115,
   "metadata": {
    "id": "EdVQKeG7HOzz"
   },
   "outputs": [],
   "source": [
    "df_LocalizacaoTransporte['sql_command'] = '(' + df_LocalizacaoTransporte['id'].astype(str) + ', ' + \"'\" + df_LocalizacaoTransporte['datahora'].astype(str) + \"'\" + ', ' + df_LocalizacaoTransporte['idEmpresa'].astype(str) + ', ' + df_LocalizacaoTransporte['idLinha'].astype(str) + ', ' + \"'\" + df_LocalizacaoTransporte['latitude'].astype(str) + \"'\" + ', ' + \"'\" + df_LocalizacaoTransporte['longitude'].astype(str) + \"'\" + '),'"
   ]
  },
  {
   "cell_type": "code",
   "execution_count": 116,
   "metadata": {
    "id": "cki2OVxnHOw_"
   },
   "outputs": [],
   "source": [
    "df_LocalizacaoTransporte.iloc[-1:] = df_LocalizacaoTransporte.iloc[-1, df_LocalizacaoTransporte.columns.get_loc('sql_command')].replace(\"),\",\");\")"
   ]
  },
  {
   "cell_type": "code",
   "execution_count": 117,
   "metadata": {
    "colab": {
     "base_uri": "https://localhost:8080/"
    },
    "id": "rUwA-xNvHdW6",
    "outputId": "da7b50d1-4276-40a4-b8a0-6582694ecc08"
   },
   "outputs": [],
   "source": [
    "#print ('insert into Posicao (IdPosicao, DataHora, IdEmpresa, IdLinha, Latitude, Longitude) values ')\n",
    "#print(df_LocalizacaoTransporte['sql_command'].to_string(index=False))"
   ]
  },
  {
   "cell_type": "markdown",
   "metadata": {
    "id": "dWgDsVYwHv0Y"
   },
   "source": [
    "**4.5.3.3) Script de inserção de dados na tabela Empresa**"
   ]
  },
  {
   "cell_type": "code",
   "execution_count": 118,
   "metadata": {
    "id": "hjM9PlJLHdUS"
   },
   "outputs": [],
   "source": [
    "df_Empresa['sql_command'] = '(' + df_Empresa['idEmpresa'].astype(str) + ', '  + '\"' + df_Empresa['empresa'].astype(str) + '\"' + '),'"
   ]
  },
  {
   "cell_type": "code",
   "execution_count": 119,
   "metadata": {
    "id": "pNb1YlUHG8NJ"
   },
   "outputs": [],
   "source": [
    "df_Empresa.iloc[-1:] = df_Empresa.iloc[-1, df_Empresa.columns.get_loc('sql_command')].replace(\"),\",\");\")"
   ]
  },
  {
   "cell_type": "code",
   "execution_count": 120,
   "metadata": {
    "colab": {
     "base_uri": "https://localhost:8080/"
    },
    "id": "6oRNkSyUIVlm",
    "outputId": "ade4ceec-067b-41d9-c627-d970fd3d1f9d"
   },
   "outputs": [
    {
     "name": "stdout",
     "output_type": "stream",
     "text": [
      "insert into Empresa (IdEmpresa, Nome) values \n",
      "                    (0, \"Viação Bonança\"),\n",
      "(1, \"T.C.L. - Transportes Coletivos Léo\"),\n",
      "                        (2, \"Sereno Tur\");\n"
     ]
    }
   ],
   "source": [
    "print ('insert into Empresa (IdEmpresa, Nome) values ')\n",
    "print(df_Empresa['sql_command'].to_string(index=False))"
   ]
  },
  {
   "cell_type": "markdown",
   "metadata": {
    "id": "I__Co2XsIKXz"
   },
   "source": [
    "**4.5.3.4) Script de inserção de dados na tabela Linha**"
   ]
  },
  {
   "cell_type": "code",
   "execution_count": 121,
   "metadata": {
    "id": "dTIcH8FuINf0"
   },
   "outputs": [],
   "source": [
    "df_Linha['sql_command'] = '(' + df_Linha['idLinha'].astype(str) + ', '  + '\"' + df_Linha['linha'].astype(str) + '\"' + '),'"
   ]
  },
  {
   "cell_type": "code",
   "execution_count": 122,
   "metadata": {
    "id": "xSq5iDM9INdK"
   },
   "outputs": [],
   "source": [
    "df_Linha.iloc[-1:] = df_Linha.iloc[-1, df_Linha.columns.get_loc('sql_command')].replace(\"),\",\");\")"
   ]
  },
  {
   "cell_type": "code",
   "execution_count": 123,
   "metadata": {
    "colab": {
     "base_uri": "https://localhost:8080/"
    },
    "id": "OEQ18G97IdkQ",
    "outputId": "3653aaa7-f329-4297-f95b-4edec9bd5db7"
   },
   "outputs": [
    {
     "name": "stdout",
     "output_type": "stream",
     "text": [
      "insert into Linha (IdLinha, Nome) values \n",
      "  (0, \"Sol Nascente / Chácara Paraíso\"),\n",
      "      (1, \"Santa Clara / Sol Nascente\"),\n",
      "     (2, \"Ana Carrara / Taquara Preta\"),\n",
      "       (3, \"Ibraim Mendonça / Colinas\"),\n",
      "    (4, \"Sebastião Adolfo / Granjaria\"),\n",
      "         (5, \"Independência / Colinas\"),\n",
      " (6, \"Dico Leite / Alto Bairro Haidée\"),\n",
      "      (7, \"Primavera / Isabel Tavares\"),\n",
      "          (8, \"São Vicente / Leonardo\"),\n",
      "(9, \"São Marcos / Hermenegildo Marote\"),\n",
      "      (10, \"São Diniz / Taquara Preta\"),\n",
      "     (11, \"São Vicente / Bandeirantes\");\n"
     ]
    }
   ],
   "source": [
    "print ('insert into Linha (IdLinha, Nome) values ')\n",
    "print(df_Linha['sql_command'].to_string(index=False))"
   ]
  },
  {
   "cell_type": "markdown",
   "metadata": {
    "id": "jS87-oXKIyJl"
   },
   "source": [
    "**4.5.3.5) Script de inserção de dados na tabela PesquisaSatisfacao**"
   ]
  },
  {
   "cell_type": "code",
   "execution_count": 124,
   "metadata": {
    "id": "rZ2gT0MiJEaj"
   },
   "outputs": [],
   "source": [
    "df_PesquisaSatisfacaoCliente = pd.read_json(\"./PesquisaSatisfacaoCliente.json\")"
   ]
  },
  {
   "cell_type": "code",
   "execution_count": 125,
   "metadata": {
    "colab": {
     "base_uri": "https://localhost:8080/",
     "height": 206
    },
    "id": "b3WL02D7JMNl",
    "outputId": "c06d98b3-19e8-4f90-9dd9-793a8706e5d3"
   },
   "outputs": [
    {
     "data": {
      "text/html": [
       "<div>\n",
       "<style scoped>\n",
       "    .dataframe tbody tr th:only-of-type {\n",
       "        vertical-align: middle;\n",
       "    }\n",
       "\n",
       "    .dataframe tbody tr th {\n",
       "        vertical-align: top;\n",
       "    }\n",
       "\n",
       "    .dataframe thead th {\n",
       "        text-align: right;\n",
       "    }\n",
       "</style>\n",
       "<table border=\"1\" class=\"dataframe\">\n",
       "  <thead>\n",
       "    <tr style=\"text-align: right;\">\n",
       "      <th></th>\n",
       "      <th>empresa</th>\n",
       "      <th>linha</th>\n",
       "      <th>nota</th>\n",
       "      <th>datahora</th>\n",
       "    </tr>\n",
       "  </thead>\n",
       "  <tbody>\n",
       "    <tr>\n",
       "      <th>0</th>\n",
       "      <td>T.C.L. - Transportes Coletivos Léo</td>\n",
       "      <td>Sebastião Adolfo / Granjaria</td>\n",
       "      <td>7</td>\n",
       "      <td>2023-10-18T06:59:12.767Z</td>\n",
       "    </tr>\n",
       "    <tr>\n",
       "      <th>1</th>\n",
       "      <td>Sereno Tur</td>\n",
       "      <td>Sol Nascente / Chácara Paraíso</td>\n",
       "      <td>2</td>\n",
       "      <td>2023-10-18T08:45:54.572Z</td>\n",
       "    </tr>\n",
       "    <tr>\n",
       "      <th>2</th>\n",
       "      <td>Sereno Tur</td>\n",
       "      <td>Sol Nascente / Chácara Paraíso</td>\n",
       "      <td>4</td>\n",
       "      <td>2023-10-18T00:32:48.213Z</td>\n",
       "    </tr>\n",
       "    <tr>\n",
       "      <th>3</th>\n",
       "      <td>T.C.L. - Transportes Coletivos Léo</td>\n",
       "      <td>Sebastião Adolfo / Granjaria</td>\n",
       "      <td>6</td>\n",
       "      <td>2023-10-18T11:34:27.581Z</td>\n",
       "    </tr>\n",
       "    <tr>\n",
       "      <th>4</th>\n",
       "      <td>Sereno Tur</td>\n",
       "      <td>Primavera / Isabel Tavares</td>\n",
       "      <td>7</td>\n",
       "      <td>2023-10-18T10:32:59.801Z</td>\n",
       "    </tr>\n",
       "  </tbody>\n",
       "</table>\n",
       "</div>"
      ],
      "text/plain": [
       "                              empresa                           linha  nota  \\\n",
       "0  T.C.L. - Transportes Coletivos Léo    Sebastião Adolfo / Granjaria     7   \n",
       "1                          Sereno Tur  Sol Nascente / Chácara Paraíso     2   \n",
       "2                          Sereno Tur  Sol Nascente / Chácara Paraíso     4   \n",
       "3  T.C.L. - Transportes Coletivos Léo    Sebastião Adolfo / Granjaria     6   \n",
       "4                          Sereno Tur      Primavera / Isabel Tavares     7   \n",
       "\n",
       "                   datahora  \n",
       "0  2023-10-18T06:59:12.767Z  \n",
       "1  2023-10-18T08:45:54.572Z  \n",
       "2  2023-10-18T00:32:48.213Z  \n",
       "3  2023-10-18T11:34:27.581Z  \n",
       "4  2023-10-18T10:32:59.801Z  "
      ]
     },
     "execution_count": 125,
     "metadata": {},
     "output_type": "execute_result"
    }
   ],
   "source": [
    "df_PesquisaSatisfacaoCliente.head(5)"
   ]
  },
  {
   "cell_type": "code",
   "execution_count": 126,
   "metadata": {
    "id": "3hn2WT2HKHdT"
   },
   "outputs": [],
   "source": [
    "df_PesquisaSatisfacaoCliente = df_PesquisaSatisfacaoCliente.reset_index()"
   ]
  },
  {
   "cell_type": "code",
   "execution_count": 127,
   "metadata": {
    "id": "1UxTlLelKHaS"
   },
   "outputs": [],
   "source": [
    "df_PesquisaSatisfacaoCliente = df_PesquisaSatisfacaoCliente.drop(['index'], axis=1)"
   ]
  },
  {
   "cell_type": "code",
   "execution_count": 128,
   "metadata": {
    "id": "NXzxDL_cKHW1"
   },
   "outputs": [],
   "source": [
    "df_PesquisaSatisfacaoCliente.insert(0, 'id', range(1, 1 + len(df_PesquisaSatisfacaoCliente)))"
   ]
  },
  {
   "cell_type": "code",
   "execution_count": 129,
   "metadata": {
    "id": "hLTW5ftVKHND"
   },
   "outputs": [],
   "source": [
    "df_PesquisaSatisfacaoCliente = pd.merge(df_PesquisaSatisfacaoCliente, df_Empresa_2, left_on='empresa', right_on='empresa')"
   ]
  },
  {
   "cell_type": "code",
   "execution_count": 130,
   "metadata": {
    "id": "rxqCKV-AKS6s"
   },
   "outputs": [],
   "source": [
    "df_PesquisaSatisfacaoCliente = pd.merge(df_PesquisaSatisfacaoCliente, df_Linha_2, left_on='linha', right_on='linha')"
   ]
  },
  {
   "cell_type": "code",
   "execution_count": 131,
   "metadata": {
    "id": "ReKfgHXCKS4M"
   },
   "outputs": [],
   "source": [
    "df_PesquisaSatisfacaoCliente = df_PesquisaSatisfacaoCliente.drop(['empresa', 'linha'], axis=1)"
   ]
  },
  {
   "cell_type": "code",
   "execution_count": 132,
   "metadata": {
    "id": "JrkLiQaUI4Qu"
   },
   "outputs": [],
   "source": [
    "df_PesquisaSatisfacaoCliente = df_PesquisaSatisfacaoCliente.astype({'datahora':'string'})"
   ]
  },
  {
   "cell_type": "code",
   "execution_count": 133,
   "metadata": {
    "id": "8F5lOYI9I4MR"
   },
   "outputs": [],
   "source": [
    "df_PesquisaSatisfacaoCliente['datahora'] = pd.to_datetime(df_PesquisaSatisfacaoCliente['datahora']).dt.tz_convert(None)"
   ]
  },
  {
   "cell_type": "code",
   "execution_count": 134,
   "metadata": {
    "id": "Tx-Sek0HI4Jz"
   },
   "outputs": [],
   "source": [
    "df_PesquisaSatisfacaoCliente = df_PesquisaSatisfacaoCliente.astype({'datahora':'string'})"
   ]
  },
  {
   "cell_type": "code",
   "execution_count": 135,
   "metadata": {
    "id": "uuTAHj94I4Ev"
   },
   "outputs": [],
   "source": [
    "df_PesquisaSatisfacaoCliente['sql_command'] = '(' + df_PesquisaSatisfacaoCliente['id'].astype(str) + ', ' + \"'\" + df_PesquisaSatisfacaoCliente['datahora'].astype(str) + \"'\" + ', ' + df_PesquisaSatisfacaoCliente['idEmpresa'].astype(str) + ', ' + df_PesquisaSatisfacaoCliente['idLinha'].astype(str) + ', ' + df_PesquisaSatisfacaoCliente['nota'].astype(str) + '),'"
   ]
  },
  {
   "cell_type": "code",
   "execution_count": 136,
   "metadata": {
    "id": "TF5EHdNuI4Bu"
   },
   "outputs": [],
   "source": [
    "df_PesquisaSatisfacaoCliente.iloc[-1:] = df_PesquisaSatisfacaoCliente.iloc[-1, df_PesquisaSatisfacaoCliente.columns.get_loc('sql_command')].replace(\"),\",\");\")"
   ]
  },
  {
   "cell_type": "code",
   "execution_count": 137,
   "metadata": {
    "colab": {
     "base_uri": "https://localhost:8080/"
    },
    "id": "1RyG5YmLI3-6",
    "outputId": "073f2d60-8645-41a4-ad77-ecfab6c8d7d9"
   },
   "outputs": [],
   "source": [
    "#print ('insert into PesquisaSatisfacao (IdPesquisa, DataHora, IdEmpresa, IdLinha, Nota) values ')\n",
    "#print(df_PesquisaSatisfacaoCliente['sql_command'].to_string(index=False))"
   ]
  },
  {
   "cell_type": "markdown",
   "metadata": {
    "id": "xKxxl3i6Mh4Y"
   },
   "source": [
    "**4.5.4) Aplicar DML de inserção para as tabelas (Create)**"
   ]
  },
  {
   "cell_type": "code",
   "execution_count": 138,
   "metadata": {
    "id": "rVuqqwg6OMZG"
   },
   "outputs": [],
   "source": [
    "def ExecutarInsert(client, cursor, scriptDML)->None:\n",
    "      cursor.execute(scriptDML)\n",
    "      client.commit()"
   ]
  },
  {
   "cell_type": "markdown",
   "metadata": {
    "id": "VXuAG-kEMqS_"
   },
   "source": [
    "**4.5.4.1) Script de inserção de dados na tabela ClassificacaoNPS**"
   ]
  },
  {
   "cell_type": "code",
   "execution_count": 139,
   "metadata": {
    "id": "M-VCRUwAO49P"
   },
   "outputs": [],
   "source": [
    "insert_ClassificacaoNPS = 'insert into ClassificacaoNPS (IdClassificacao, Nota, Classificacao) values ' + df_ClassificacaoNPS['sql_command'].to_string(index=False)"
   ]
  },
  {
   "cell_type": "code",
   "execution_count": 140,
   "metadata": {
    "id": "Ld7MgH_2PUap"
   },
   "outputs": [],
   "source": [
    "insert_ClassificacaoNPS = insert_ClassificacaoNPS.replace(\"\\n\",\"\")"
   ]
  },
  {
   "cell_type": "code",
   "execution_count": 141,
   "metadata": {
    "colab": {
     "base_uri": "https://localhost:8080/",
     "height": 52
    },
    "id": "PGHL8xbfOqxA",
    "outputId": "ca699eaa-f48e-43e3-de9b-580878b8b359"
   },
   "outputs": [
    {
     "data": {
      "text/plain": [
       "'insert into ClassificacaoNPS (IdClassificacao, Nota, Classificacao) values   (1, 0, \"Detrator\"),  (2, 1, \"Detrator\"),  (3, 2, \"Detrator\"),  (4, 3, \"Detrator\"),  (5, 4, \"Detrator\"),  (6, 5, \"Detrator\"),  (7, 6, \"Detrator\"),    (8, 7, \"Neutro\"),    (9, 8, \"Neutro\"), (10, 9, \"Promotor\"),(11, 10, \"Promotor\");'"
      ]
     },
     "execution_count": 141,
     "metadata": {},
     "output_type": "execute_result"
    }
   ],
   "source": [
    "insert_ClassificacaoNPS"
   ]
  },
  {
   "cell_type": "code",
   "execution_count": 142,
   "metadata": {
    "colab": {
     "base_uri": "https://localhost:8080/"
    },
    "id": "jwsC5ILNNO4F",
    "outputId": "23e8bbf6-6898-47f2-8c1a-dcca244fc7ae"
   },
   "outputs": [],
   "source": [
    "def insertRegistrosTabelaClassificacaoNPS(clientMySQL, cursorMySQL, insert_ClassificacaoNPS)->any:\n",
    "    InsertTabelaClassificacaoNPSStart = time.time()\n",
    "    ExecutarInsert(clientMySQL, cursorMySQL, insert_ClassificacaoNPS)\n",
    "    InsertTabelaClassificacaoNPSEnd = time.time()\n",
    "    timeDifInsertTabelaClassificacaoNPS = round(InsertTabelaClassificacaoNPSEnd - InsertTabelaClassificacaoNPSStart,3)\n",
    "    return timeDifInsertTabelaClassificacaoNPS"
   ]
  },
  {
   "cell_type": "code",
   "execution_count": 143,
   "metadata": {},
   "outputs": [
    {
     "name": "stdout",
     "output_type": "stream",
     "text": [
      "Tempo para inserir registros na tabela ClassificacaoNPS: 0.003 segundos\n",
      "\n",
      "\n"
     ]
    }
   ],
   "source": [
    "timeDifInsertTabelaClassificacaoNPS = insertRegistrosTabelaClassificacaoNPS(clientMySQL, cursorMySQL, insert_ClassificacaoNPS) # Loop\n",
    "print(f\"Tempo para inserir registros na tabela ClassificacaoNPS: {timeDifInsertTabelaClassificacaoNPS} segundos\")\n",
    "print(\"\\n\")"
   ]
  },
  {
   "cell_type": "markdown",
   "metadata": {
    "id": "VXuAG-kEMqS_"
   },
   "source": [
    "**4.5.4.2) Script de inserção de dados na tabela Empresa**"
   ]
  },
  {
   "cell_type": "code",
   "execution_count": 144,
   "metadata": {},
   "outputs": [],
   "source": [
    "insert_Empresa = 'insert into Empresa (IdEmpresa, Nome) values ' + df_Empresa['sql_command'].to_string(index=False)"
   ]
  },
  {
   "cell_type": "code",
   "execution_count": 145,
   "metadata": {},
   "outputs": [],
   "source": [
    "insertEmpresa = insert_Empresa.replace(\"\\n\",\"\")"
   ]
  },
  {
   "cell_type": "code",
   "execution_count": 146,
   "metadata": {},
   "outputs": [
    {
     "data": {
      "text/plain": [
       "'insert into Empresa (IdEmpresa, Nome) values                     (0, \"Viação Bonança\"),\\n(1, \"T.C.L. - Transportes Coletivos Léo\"),\\n                        (2, \"Sereno Tur\");'"
      ]
     },
     "execution_count": 146,
     "metadata": {},
     "output_type": "execute_result"
    }
   ],
   "source": [
    "insert_Empresa"
   ]
  },
  {
   "cell_type": "code",
   "execution_count": 147,
   "metadata": {},
   "outputs": [],
   "source": [
    "def insertRegistrosTabelaEmpresa(clientMySQL, cursorMySQL, insert_Empresa)->any:\n",
    "    InsertTabelaEmpresaStart = time.time()\n",
    "    ExecutarInsert(clientMySQL, cursorMySQL, insert_Empresa)\n",
    "    InsertTabelaEmpresaEnd = time.time()\n",
    "    timeDifInsertTabelaEmpresa = round(InsertTabelaEmpresaEnd - InsertTabelaEmpresaStart,3)\n",
    "    return timeDifInsertTabelaEmpresa"
   ]
  },
  {
   "cell_type": "code",
   "execution_count": 148,
   "metadata": {},
   "outputs": [
    {
     "name": "stdout",
     "output_type": "stream",
     "text": [
      "Tempo para inserir registros na tabela Empresa: 0.002 segundos\n",
      "\n",
      "\n"
     ]
    }
   ],
   "source": [
    "timeDifInsertTabelaEmpresa = insertRegistrosTabelaEmpresa(clientMySQL, cursorMySQL, insert_Empresa) # Loop\n",
    "print(f\"Tempo para inserir registros na tabela Empresa: {timeDifInsertTabelaEmpresa} segundos\")\n",
    "print(\"\\n\")"
   ]
  },
  {
   "cell_type": "markdown",
   "metadata": {
    "id": "VXuAG-kEMqS_"
   },
   "source": [
    "**4.5.4.3) Script de inserção de dados na tabela Linha**"
   ]
  },
  {
   "cell_type": "code",
   "execution_count": 149,
   "metadata": {},
   "outputs": [],
   "source": [
    "insert_Linha = 'insert into Linha (IdLinha, Nome) values ' + df_Linha['sql_command'].to_string(index=False)"
   ]
  },
  {
   "cell_type": "code",
   "execution_count": 150,
   "metadata": {},
   "outputs": [],
   "source": [
    "insert_Linha = insert_Linha.replace(\"\\n\",\"\")"
   ]
  },
  {
   "cell_type": "code",
   "execution_count": 151,
   "metadata": {},
   "outputs": [
    {
     "data": {
      "text/plain": [
       "'insert into Linha (IdLinha, Nome) values   (0, \"Sol Nascente / Chácara Paraíso\"),      (1, \"Santa Clara / Sol Nascente\"),     (2, \"Ana Carrara / Taquara Preta\"),       (3, \"Ibraim Mendonça / Colinas\"),    (4, \"Sebastião Adolfo / Granjaria\"),         (5, \"Independência / Colinas\"), (6, \"Dico Leite / Alto Bairro Haidée\"),      (7, \"Primavera / Isabel Tavares\"),          (8, \"São Vicente / Leonardo\"),(9, \"São Marcos / Hermenegildo Marote\"),      (10, \"São Diniz / Taquara Preta\"),     (11, \"São Vicente / Bandeirantes\");'"
      ]
     },
     "execution_count": 151,
     "metadata": {},
     "output_type": "execute_result"
    }
   ],
   "source": [
    "insert_Linha"
   ]
  },
  {
   "cell_type": "code",
   "execution_count": 152,
   "metadata": {},
   "outputs": [],
   "source": [
    "def insertRegistrosTabelaLinha(clientMySQL, cursorMySQL, insert_Linha)->any:\n",
    "    InsertTabelaLinhaStart = time.time()\n",
    "    ExecutarInsert(clientMySQL, cursorMySQL, insert_Linha)\n",
    "    InsertTabelaLinhaEnd = time.time()\n",
    "    timeDifInsertTabelaLinha = round(InsertTabelaLinhaEnd - InsertTabelaLinhaStart,3)\n",
    "    return timeDifInsertTabelaLinha"
   ]
  },
  {
   "cell_type": "code",
   "execution_count": 153,
   "metadata": {},
   "outputs": [
    {
     "name": "stdout",
     "output_type": "stream",
     "text": [
      "Tempo para inserir registros na tabela Linha: 0.003 segundos\n",
      "\n",
      "\n"
     ]
    }
   ],
   "source": [
    "timeDifInsertTabelaLinha = insertRegistrosTabelaLinha(clientMySQL, cursorMySQL, insert_Linha) # Loop\n",
    "print(f\"Tempo para inserir registros na tabela Linha: {timeDifInsertTabelaLinha} segundos\")\n",
    "print(\"\\n\")"
   ]
  },
  {
   "cell_type": "markdown",
   "metadata": {
    "id": "UKLw7C0qMxD6"
   },
   "source": [
    "**4.5.4.4) Script de inserção de dados na tabela Posicao**"
   ]
  },
  {
   "cell_type": "code",
   "execution_count": 154,
   "metadata": {
    "id": "ch4d0wnUNOiT"
   },
   "outputs": [],
   "source": [
    "insert_Posicao = 'insert into Posicao (IdPosicao, DataHora, IdEmpresa, IdLinha, Latitude, Longitude) values ' + df_LocalizacaoTransporte['sql_command'].to_string(index=False)"
   ]
  },
  {
   "cell_type": "code",
   "execution_count": 155,
   "metadata": {
    "id": "RRV56ReQNObP"
   },
   "outputs": [],
   "source": [
    "insert_Posicao = insert_Posicao.replace(\"\\n\",\"\")"
   ]
  },
  {
   "cell_type": "code",
   "execution_count": 156,
   "metadata": {
    "colab": {
     "base_uri": "https://localhost:8080/",
     "height": 87
    },
    "id": "RnphwEqkNOUd",
    "outputId": "ec32802f-8d51-4051-e759-03ec955a0417"
   },
   "outputs": [],
   "source": [
    "#insert_Posicao"
   ]
  },
  {
   "cell_type": "code",
   "execution_count": 157,
   "metadata": {
    "colab": {
     "base_uri": "https://localhost:8080/"
    },
    "id": "pJipZGKSSDeg",
    "outputId": "5cf888dc-efd7-4e9e-f6f3-7c0f35f9160c"
   },
   "outputs": [],
   "source": [
    "def insertTabelaPosicao(clientMySQL, cursorMySQL, insert_Posicao)->any:\n",
    "    InsertTabelaPosicaoStart = time.time()\n",
    "    ExecutarInsert(clientMySQL, cursorMySQL, insert_Posicao)\n",
    "    InsertTabelaPosicaoEnd = time.time()\n",
    "    timeDifInsertTabelaPosicao = round(InsertTabelaPosicaoEnd - InsertTabelaPosicaoStart,3)\n",
    "    return timeDifInsertTabelaPosicao"
   ]
  },
  {
   "cell_type": "code",
   "execution_count": 158,
   "metadata": {},
   "outputs": [
    {
     "name": "stdout",
     "output_type": "stream",
     "text": [
      "Tempo para inserir registros na tabela Posicao: 0.02 segundos\n",
      "\n",
      "\n"
     ]
    }
   ],
   "source": [
    "timeDifInsertTabelaPosicao = insertTabelaPosicao(clientMySQL, cursorMySQL, insert_Posicao) # Loop\n",
    "print(f\"Tempo para inserir registros na tabela Posicao: {timeDifInsertTabelaPosicao} segundos\")\n",
    "print(\"\\n\")"
   ]
  },
  {
   "cell_type": "markdown",
   "metadata": {
    "id": "Is1rJeJ-MwsU"
   },
   "source": [
    "**4.5.4.5) Script de inserção de dados na tabela PesquisaSatisfacao**"
   ]
  },
  {
   "cell_type": "code",
   "execution_count": 159,
   "metadata": {},
   "outputs": [
    {
     "data": {
      "text/plain": [
       "(1100, 6)"
      ]
     },
     "execution_count": 159,
     "metadata": {},
     "output_type": "execute_result"
    }
   ],
   "source": [
    "df_PesquisaSatisfacaoCliente.shape"
   ]
  },
  {
   "cell_type": "code",
   "execution_count": 160,
   "metadata": {
    "id": "ZS7gBA4TNNCb"
   },
   "outputs": [],
   "source": [
    "insert_PesquisaSatisfacao = 'insert into PesquisaSatisfacao (IdPesquisa, DataHora, IdEmpresa, IdLinha, Nota) values ' + df_PesquisaSatisfacaoCliente['sql_command'].to_string(index=False)"
   ]
  },
  {
   "cell_type": "code",
   "execution_count": 161,
   "metadata": {
    "id": "NQfld7vPNM62"
   },
   "outputs": [],
   "source": [
    "sinsert_PesquisaSatisfacao = insert_PesquisaSatisfacao.replace(\"\\n\",\"\")"
   ]
  },
  {
   "cell_type": "code",
   "execution_count": 162,
   "metadata": {
    "colab": {
     "base_uri": "https://localhost:8080/",
     "height": 87
    },
    "id": "3vBWglNENMu4",
    "outputId": "0bcbc3c3-dc88-45f7-8e41-88f9457fef9e"
   },
   "outputs": [],
   "source": [
    "#insert_PesquisaSatisfacao"
   ]
  },
  {
   "cell_type": "code",
   "execution_count": 163,
   "metadata": {
    "colab": {
     "base_uri": "https://localhost:8080/"
    },
    "id": "rscLcTOXSJ8g",
    "outputId": "0672a5b3-1bd9-4be3-8388-b483b4a0d123"
   },
   "outputs": [],
   "source": [
    "def insertTabelaPesquisaSatisfacao(clientMySQL, cursorMySQL, insert_PesquisaSatisfacao)->any:\n",
    "    InsertTabelaPesquisaSatisfacaoStart = time.time()\n",
    "    ExecutarInsert(clientMySQL, cursorMySQL, insert_PesquisaSatisfacao)\n",
    "    InsertTabelaPesquisaSatisfacaoEnd = time.time()\n",
    "    timeDifInsertTabelaPesquisaSatisfacao = round(InsertTabelaPesquisaSatisfacaoEnd - InsertTabelaPesquisaSatisfacaoStart,3)\n",
    "    return timeDifInsertTabelaPesquisaSatisfacao"
   ]
  },
  {
   "cell_type": "code",
   "execution_count": 164,
   "metadata": {},
   "outputs": [
    {
     "name": "stdout",
     "output_type": "stream",
     "text": [
      "Tempo para inserir registros na tabela PesquisaSatisfacao: 0.023 segundos\n",
      "\n",
      "\n"
     ]
    }
   ],
   "source": [
    "timeDifInsertTabelaPesquisaSatisfacao = insertTabelaPesquisaSatisfacao(clientMySQL, cursorMySQL, insert_PesquisaSatisfacao) # Loop\n",
    "print(f\"Tempo para inserir registros na tabela PesquisaSatisfacao: {timeDifInsertTabelaPesquisaSatisfacao} segundos\")\n",
    "print(\"\\n\")"
   ]
  },
  {
   "cell_type": "markdown",
   "metadata": {
    "id": "MS5kZUbJNmg7"
   },
   "source": [
    "**4.5.4.6) Tempo total de inserção nas tabelas**"
   ]
  },
  {
   "cell_type": "code",
   "execution_count": 165,
   "metadata": {
    "colab": {
     "base_uri": "https://localhost:8080/"
    },
    "id": "9MN4aQl0Np42",
    "outputId": "057b3bf4-675a-4186-8fd0-74ef77882398"
   },
   "outputs": [
    {
     "name": "stdout",
     "output_type": "stream",
     "text": [
      "Tempo total para inserir nas tabelas do MySQL:: 0.051 segundos\n",
      "\n",
      "\n"
     ]
    }
   ],
   "source": [
    "totalTimeInsertMySQL = timeDifInsertTabelaClassificacaoNPS + timeDifInsertTabelaPosicao + timeDifInsertTabelaEmpresa + timeDifInsertTabelaLinha + timeDifInsertTabelaPesquisaSatisfacao\n",
    "print(f\"Tempo total para inserir nas tabelas do MySQL:: {round(totalTimeInsertMySQL,3)} segundos\")\n",
    "print(\"\\n\")"
   ]
  },
  {
   "cell_type": "markdown",
   "metadata": {
    "id": "ef-ZPyVJYSz6"
   },
   "source": [
    "**4.6) Listar os documentos (Read)**"
   ]
  },
  {
   "cell_type": "markdown",
   "metadata": {
    "id": "ay6ljsTMPCWP"
   },
   "source": [
    "**4.6.1) Questão 1 - Qual é a localização do transporte de interesse em tempo real?**"
   ]
  },
  {
   "cell_type": "code",
   "execution_count": 166,
   "metadata": {
    "id": "0igBKnDeN02H"
   },
   "outputs": [],
   "source": [
    "def Question1MySQL(cursor)->float:\n",
    "        Question1Start = time.time()\n",
    "        cursor.execute(\"\"\"select e.Nome, l.Nome, p.Latitude, p.Longitude, p.DataHora from Posicao p\n",
    "                        inner join Empresa e on p.IdEmpresa  = e.IdEmpresa\n",
    "                        inner join Linha l on p.IdLinha  = l.IdLinha\n",
    "                        where\n",
    "                        e.Nome = 'Viação Bonança' and\n",
    "                        l.Nome = 'São Vicente / Bandeirantes' and\n",
    "                        p.DataHora = '2023-10-18 01:39:37';\n",
    "                       \"\"\")\n",
    "        result = cursor.fetchall()        \n",
    "        Question1End = time.time()\n",
    "        timeDif = round(Question1End - Question1Start,3)        \n",
    "        return timeDif, result"
   ]
  },
  {
   "cell_type": "code",
   "execution_count": 167,
   "metadata": {
    "colab": {
     "base_uri": "https://localhost:8080/"
    },
    "id": "kLaP5Qb1PI1P",
    "outputId": "e3ccbc00-eb32-4994-aef7-281ad9702f41"
   },
   "outputs": [
    {
     "name": "stdout",
     "output_type": "stream",
     "text": [
      "<<< Questão 1 >>> Qual é a localização do transporte de interesse em tempo real?\n",
      "('Viação Bonança', 'São Vicente / Bandeirantes', '-6.4071', '94.4551', datetime.datetime(2023, 10, 18, 1, 39, 37))\n",
      "Tempo da Questão 1: 0.001 segundos\n",
      "\n",
      "\n"
     ]
    }
   ],
   "source": [
    "timeDifQuestion1MySQL, result = Question1MySQL(cursorMySQL) # Loop\n",
    "print(\"<<< Questão 1 >>> Qual é a localização do transporte de interesse em tempo real?\")\n",
    "for value in result:\n",
    "    print(value)\n",
    "print(f\"Tempo da Questão 1: {timeDifQuestion1MySQL} segundos\")\n",
    "print(\"\\n\")"
   ]
  },
  {
   "cell_type": "markdown",
   "metadata": {
    "id": "WdNu-uqhPFkq"
   },
   "source": [
    "**4.6.2) Questão 2 - Qual linha teve sua localização mais compartilhada?**"
   ]
  },
  {
   "cell_type": "code",
   "execution_count": 168,
   "metadata": {
    "id": "L91MMbwhPIaP"
   },
   "outputs": [],
   "source": [
    "def Question2MySQL(client)->float:\n",
    "        Question2Start = time.time()\n",
    "        cursor = client.cursor()\n",
    "        cursor.execute(\"\"\"select l.Nome, count(p.IdLinha) from Posicao p\n",
    "                        inner join Linha l on p.IdLinha  = l.IdLinha\n",
    "                        group by 1\n",
    "                        order by 2 desc\n",
    "                        limit 1;\n",
    "                       \"\"\")\n",
    "        result = cursor.fetchall()        \n",
    "        Question2End = time.time()\n",
    "        timeDif = round(Question2End - Question2Start,2)\n",
    "        return timeDif, result"
   ]
  },
  {
   "cell_type": "code",
   "execution_count": 169,
   "metadata": {
    "colab": {
     "base_uri": "https://localhost:8080/"
    },
    "id": "JLH-lsMSPJN0",
    "outputId": "f854b5e1-47b4-447c-8652-c182df53c711"
   },
   "outputs": [
    {
     "name": "stdout",
     "output_type": "stream",
     "text": [
      "<<< Questão 2 >>> Qual linha teve sua localização mais compartilhada?\n",
      "('Primavera / Isabel Tavares', 95)\n",
      "Tempo da Questão 2: 0.0 segundos\n",
      "\n",
      "\n"
     ]
    }
   ],
   "source": [
    "timeDifQuestion2MySQL, result = Question2MySQL(clientMySQL) # Loop\n",
    "print(\"<<< Questão 2 >>> Qual linha teve sua localização mais compartilhada?\")\n",
    "for value in result:\n",
    "    print(value)\n",
    "print(f\"Tempo da Questão 2: {timeDifQuestion2MySQL} segundos\")\n",
    "print(\"\\n\")    "
   ]
  },
  {
   "cell_type": "markdown",
   "metadata": {
    "id": "_fHJN1sKPKfV"
   },
   "source": [
    "**4.6.3) Questão 3 - Qual empresa teve a localização de seus ônibus mais compartilhada?**"
   ]
  },
  {
   "cell_type": "code",
   "execution_count": 170,
   "metadata": {
    "id": "9olwkP0uPMlz"
   },
   "outputs": [],
   "source": [
    "def Question3MySQL(client)->float:       \n",
    "        Question3Start = time.time()\n",
    "        cursor = client.cursor()\n",
    "        cursor.execute(\"\"\"select e.Nome, count(p.IdEmpresa) from Posicao p\n",
    "                        inner join Empresa e on p.IdEmpresa = e.IdEmpresa\n",
    "                        group by 1\n",
    "                        order by 2 desc\n",
    "                        limit 1;\n",
    "                        \"\"\")\n",
    "        result = cursor.fetchall()        \n",
    "        Question3End = time.time()\n",
    "        timeDif = round(Question3End - Question3Start,3)        \n",
    "        return timeDif,result"
   ]
  },
  {
   "cell_type": "code",
   "execution_count": 171,
   "metadata": {
    "colab": {
     "base_uri": "https://localhost:8080/"
    },
    "id": "LLQYWhLlPMbu",
    "outputId": "cd2ff8fd-3f66-41d1-f6b4-2435aeb5e8ec"
   },
   "outputs": [
    {
     "name": "stdout",
     "output_type": "stream",
     "text": [
      "<<< Questão 3 >>> Qual empresa teve a localização de seus ônibus mais compartilhada?\n",
      "('T.C.L. - Transportes Coletivos Léo', 511)\n",
      "Tempo da Questão 3: 0.001 segundos\n",
      "\n",
      "\n"
     ]
    }
   ],
   "source": [
    "timeDifQuestion3MySQL,result = Question3MySQL(clientMySQL) # Loop\n",
    "print(\"<<< Questão 3 >>> Qual empresa teve a localização de seus ônibus mais compartilhada?\")\n",
    "for value in result:\n",
    "    print(value)\n",
    "print(f\"Tempo da Questão 3: {timeDifQuestion3MySQL} segundos\")\n",
    "print(\"\\n\")"
   ]
  },
  {
   "cell_type": "markdown",
   "metadata": {
    "id": "iau96NsPPM51"
   },
   "source": [
    "**4.6.4) Questão 4 - Qual horário concentrou o maior volume de compartilhamentos?**"
   ]
  },
  {
   "cell_type": "code",
   "execution_count": 172,
   "metadata": {
    "id": "j-XCL8s6PPpA"
   },
   "outputs": [],
   "source": [
    "def Question4MySQL(client)->float:        \n",
    "        Question4Start = time.time()\n",
    "        cursor = client.cursor()\n",
    "        cursor.execute(\"\"\"select hour(DataHora), count(hour(DataHora)) from Posicao p\n",
    "                            group by 1\n",
    "                            order by 2 desc\n",
    "                            limit 1;\n",
    "                        \"\"\")\n",
    "        result = cursor.fetchall()        \n",
    "        Question4End = time.time()\n",
    "        timeDif = round(Question4End - Question4Start,3)        \n",
    "        return timeDif,result"
   ]
  },
  {
   "cell_type": "code",
   "execution_count": 173,
   "metadata": {
    "colab": {
     "base_uri": "https://localhost:8080/"
    },
    "id": "MKv3azUzPPdw",
    "outputId": "fca8ec8b-1559-411d-9e15-04b7c7a3c648"
   },
   "outputs": [
    {
     "name": "stdout",
     "output_type": "stream",
     "text": [
      "<<< Questão 4 >>> Qual horário concentrou o maior volume de compartilhamentos?\n",
      "(19, 53)\n",
      "Tempo da Questão 4: 0.001 segundos\n",
      "\n",
      "\n"
     ]
    }
   ],
   "source": [
    "timeDifQuestion4MySQL,result = Question4MySQL(clientMySQL) # Loop\n",
    "print(\"<<< Questão 4 >>> Qual horário concentrou o maior volume de compartilhamentos?\")\n",
    "for value in result:\n",
    "    print(value)\n",
    "print(f\"Tempo da Questão 4: {timeDifQuestion4MySQL} segundos\")\n",
    "print(\"\\n\")"
   ]
  },
  {
   "cell_type": "markdown",
   "metadata": {
    "id": "OcU9HJ54PQON"
   },
   "source": [
    "**4.6.5) Questão 5 - Qual empresa obteve o maior total de pontos na pesquisa de satisfação de seus clientes?**"
   ]
  },
  {
   "cell_type": "code",
   "execution_count": 174,
   "metadata": {
    "id": "u8q_MPiIPSca"
   },
   "outputs": [],
   "source": [
    "def Question5MySQL(client)->float:        \n",
    "        Question5Start = time.time()\n",
    "        cursor = client.cursor()\n",
    "        cursor.execute(\"\"\"select e.Nome, sum(ps.Nota) from PesquisaSatisfacao ps\n",
    "                            inner join Empresa e on ps.IdEmpresa = e.IdEmpresa\n",
    "                            group by 1\n",
    "                            order by 2 desc\n",
    "                            limit 1;\n",
    "                        \"\"\")\n",
    "        result = cursor.fetchall()        \n",
    "        Question5End = time.time()\n",
    "        timeDif = round(Question5End - Question5Start,3)\n",
    "        return timeDif, result"
   ]
  },
  {
   "cell_type": "code",
   "execution_count": 175,
   "metadata": {
    "colab": {
     "base_uri": "https://localhost:8080/"
    },
    "id": "6lKAkSBVPS2h",
    "outputId": "a2411bcd-ac31-4947-bf8b-459b034e24fe"
   },
   "outputs": [
    {
     "name": "stdout",
     "output_type": "stream",
     "text": [
      "<<< Questão 5 >>> Qual empresa obteve o maior total de pontos na pesquisa de satisfação de seus clientes?\n",
      "('T.C.L. - Transportes Coletivos Léo', Decimal('2953'))\n",
      "Tempo da Questão 5: 0.003 segundos\n",
      "\n",
      "\n"
     ]
    }
   ],
   "source": [
    "timeDifQuestion5MySQL,result = Question5MySQL(clientMySQL) # Loop\n",
    "print(\"<<< Questão 5 >>> Qual empresa obteve o maior total de pontos na pesquisa de satisfação de seus clientes?\")\n",
    "for value in result:\n",
    "    print(value)\n",
    "print(f\"Tempo da Questão 5: {timeDifQuestion5MySQL} segundos\")\n",
    "print(\"\\n\")"
   ]
  },
  {
   "cell_type": "markdown",
   "metadata": {
    "id": "bUraQFEynKAM"
   },
   "source": [
    "**4.6.6) Tempo total de leitura das tabelas**"
   ]
  },
  {
   "cell_type": "code",
   "execution_count": 176,
   "metadata": {
    "colab": {
     "base_uri": "https://localhost:8080/"
    },
    "id": "GgSIZVAEQw4u",
    "outputId": "e275362c-05cd-43e1-db40-61d4b6f2bc58"
   },
   "outputs": [
    {
     "name": "stdout",
     "output_type": "stream",
     "text": [
      "Tempo total para leitura das Questões no MySQL: 0.006 segundos\n"
     ]
    }
   ],
   "source": [
    "totalTimeSelectMySQL = timeDifQuestion1MySQL + timeDifQuestion2MySQL + timeDifQuestion3MySQL + timeDifQuestion4MySQL + timeDifQuestion5MySQL\n",
    "print(f\"Tempo total para leitura das Questões no MySQL: {round(totalTimeSelectMySQL,3)} segundos\")"
   ]
  },
  {
   "cell_type": "markdown",
   "metadata": {
    "id": "txGrB93Mveqm"
   },
   "source": [
    "**4.7) Atualizar as tabelas (Update)**"
   ]
  },
  {
   "cell_type": "code",
   "execution_count": 177,
   "metadata": {
    "id": "HEvyJOpJvujr"
   },
   "outputs": [],
   "source": [
    "def ExecutarUpdate(client, cursor, scriptDML)->None:\n",
    "      cursor.execute(scriptDML)\n",
    "      client.commit()"
   ]
  },
  {
   "cell_type": "markdown",
   "metadata": {
    "id": "fiISQObMxoeR"
   },
   "source": [
    "**4.7.1) Atualiza registros da tabela Posicao**"
   ]
  },
  {
   "cell_type": "code",
   "execution_count": 178,
   "metadata": {
    "id": "JEjim0lJx9i9"
   },
   "outputs": [],
   "source": [
    "update_Posicao = 'update Posicao set IdEmpresa = 0 where IdEmpresa = 2'"
   ]
  },
  {
   "cell_type": "code",
   "execution_count": 179,
   "metadata": {
    "colab": {
     "base_uri": "https://localhost:8080/"
    },
    "id": "P_hJhKdRz-Wt",
    "outputId": "7b88b984-c4d2-487d-a539-c4eeb4ab5a0f"
   },
   "outputs": [],
   "source": [
    "def updateRegistrosTabelaPosicao(clientMySQL, cursorMySQL, update_Posicao) -> any:\n",
    "    UpdateTabelaPosicaoStart = time.time()\n",
    "    ExecutarUpdate(clientMySQL, cursorMySQL, update_Posicao)\n",
    "    UpdateTabelaPosicaoEnd = time.time()\n",
    "    timeDifUpdateTabelaPosicao = round(UpdateTabelaPosicaoEnd - UpdateTabelaPosicaoStart,3)\n",
    "    return timeDifUpdateTabelaPosicao"
   ]
  },
  {
   "cell_type": "code",
   "execution_count": 180,
   "metadata": {},
   "outputs": [
    {
     "name": "stdout",
     "output_type": "stream",
     "text": [
      "Tempo para atualizar registros da tabela Posicao: 0.004 segundos\n",
      "\n",
      "\n"
     ]
    }
   ],
   "source": [
    "timeDifUpdateTabelaPosicao = updateRegistrosTabelaPosicao(clientMySQL, cursorMySQL, update_Posicao) # Loop\n",
    "print(f\"Tempo para atualizar registros da tabela Posicao: {timeDifUpdateTabelaPosicao} segundos\")\n",
    "print(\"\\n\")"
   ]
  },
  {
   "cell_type": "markdown",
   "metadata": {
    "id": "t1Bha44VxxC7"
   },
   "source": [
    "**4.7.2) Atualiza registros da tabela PesquisaSatisfacao**"
   ]
  },
  {
   "cell_type": "code",
   "execution_count": 181,
   "metadata": {
    "id": "LghAGj6x1XnE"
   },
   "outputs": [],
   "source": [
    "update_PesquisaSatisfacao = 'update PesquisaSatisfacao set IdEmpresa = 0 where IdEmpresa = 2'"
   ]
  },
  {
   "cell_type": "code",
   "execution_count": 182,
   "metadata": {
    "colab": {
     "base_uri": "https://localhost:8080/"
    },
    "id": "TLpNvBTZ1Xch",
    "outputId": "677f9dab-bcde-4752-deaf-ad7fb32f286b"
   },
   "outputs": [],
   "source": [
    "def updateRegistrosTabelaPesquisaSatisfacao(clientMySQL, cursorMySQL, update_PesquisaSatisfacao) -> any:\n",
    "    UpdateTabelaPesquisaSatisfacaoStart = time.time()\n",
    "    ExecutarUpdate(clientMySQL, cursorMySQL, update_PesquisaSatisfacao)\n",
    "    UpdateTabelaPesquisaSatisfacaoEnd = time.time()\n",
    "    timeDifUpdateTabelaPesquisaSatisfacao= round(UpdateTabelaPesquisaSatisfacaoEnd - UpdateTabelaPesquisaSatisfacaoStart,3)\n",
    "    return timeDifUpdateTabelaPesquisaSatisfacao"
   ]
  },
  {
   "cell_type": "code",
   "execution_count": 183,
   "metadata": {},
   "outputs": [
    {
     "name": "stdout",
     "output_type": "stream",
     "text": [
      "Tempo para atualizar registros da tabela PesquisaSatisfacao: 0.006 segundos\n",
      "\n",
      "\n"
     ]
    }
   ],
   "source": [
    "timeDifUpdateTabelaPesquisaSatisfacao = updateRegistrosTabelaPesquisaSatisfacao(clientMySQL, cursorMySQL, update_PesquisaSatisfacao) # Loop\n",
    "print(f\"Tempo para atualizar registros da tabela PesquisaSatisfacao: {timeDifUpdateTabelaPesquisaSatisfacao} segundos\")\n",
    "print(\"\\n\")"
   ]
  },
  {
   "cell_type": "markdown",
   "metadata": {
    "id": "W6xQSOcUx19s"
   },
   "source": [
    "**4.7.3) Tempo total de atualização das tabelas**"
   ]
  },
  {
   "cell_type": "code",
   "execution_count": 184,
   "metadata": {
    "colab": {
     "base_uri": "https://localhost:8080/"
    },
    "id": "N7yWTCmS108K",
    "outputId": "9190e9d2-6994-405a-d909-f322b9d763e7"
   },
   "outputs": [
    {
     "name": "stdout",
     "output_type": "stream",
     "text": [
      "Tempo total para atualização das tabelas no MySQL:: 0.01 segundos\n",
      "\n",
      "\n"
     ]
    }
   ],
   "source": [
    "totalTimeUpdateMySQL = timeDifUpdateTabelaPosicao + timeDifUpdateTabelaPesquisaSatisfacao\n",
    "print(f\"Tempo total para atualização das tabelas no MySQL:: {round(totalTimeUpdateMySQL,3)} segundos\")\n",
    "print(\"\\n\")"
   ]
  },
  {
   "cell_type": "markdown",
   "metadata": {
    "id": "dYU-4xQU4J31"
   },
   "source": [
    "**4.8) Deletar as tabelas (Delete)**"
   ]
  },
  {
   "cell_type": "code",
   "execution_count": 185,
   "metadata": {
    "id": "ALSnqW7O5Xpo"
   },
   "outputs": [],
   "source": [
    "def ExecutarDelete(client, cursor, scriptDML)->None:\n",
    "      cursor.execute(scriptDML)\n",
    "      client.commit()"
   ]
  },
  {
   "cell_type": "markdown",
   "metadata": {
    "id": "LxNKoR3P4KtO"
   },
   "source": [
    "**4.8.1) Deleta registros da tabela Posicao**"
   ]
  },
  {
   "cell_type": "code",
   "execution_count": 186,
   "metadata": {
    "id": "9bdd6jFD5eC5"
   },
   "outputs": [],
   "source": [
    "delete_Posicao = 'delete from Posicao'"
   ]
  },
  {
   "cell_type": "code",
   "execution_count": 187,
   "metadata": {
    "id": "e0nKc6Ar8SYH"
   },
   "outputs": [],
   "source": [
    "drop_Posicao = 'drop table Posicao'"
   ]
  },
  {
   "cell_type": "code",
   "execution_count": 188,
   "metadata": {
    "colab": {
     "base_uri": "https://localhost:8080/"
    },
    "id": "FZVUGmAI5eiw",
    "outputId": "6e38736c-141d-4101-cc78-081b53916b95"
   },
   "outputs": [],
   "source": [
    "def deleteRegistrosTabelaPosicao(clientMySQL, cursorMySQL, delete_Posicao) -> any:\n",
    "    DeleteTabelaPosicaoStart = time.time()\n",
    "    ExecutarDelete(clientMySQL, cursorMySQL, delete_Posicao)\n",
    "    ExecutarDelete(clientMySQL, cursorMySQL, drop_Posicao)\n",
    "    DeleteTabelaPosicaoEnd = time.time()\n",
    "    timeDifDeleteTabelaPosicao = round(DeleteTabelaPosicaoEnd - DeleteTabelaPosicaoStart,3)\n",
    "    return timeDifDeleteTabelaPosicao"
   ]
  },
  {
   "cell_type": "code",
   "execution_count": 189,
   "metadata": {},
   "outputs": [
    {
     "name": "stdout",
     "output_type": "stream",
     "text": [
      "Tempo para exclusão dos registros da tabela Posicao: 0.019 segundos\n",
      "\n",
      "\n"
     ]
    }
   ],
   "source": [
    "timeDifDeleteTabelaPosicao = deleteRegistrosTabelaPosicao(clientMySQL, cursorMySQL, delete_Posicao) # Loop\n",
    "print(f\"Tempo para exclusão dos registros da tabela Posicao: {timeDifDeleteTabelaPosicao} segundos\")\n",
    "print(\"\\n\")"
   ]
  },
  {
   "cell_type": "markdown",
   "metadata": {
    "id": "wbyAUWyJ4L1R"
   },
   "source": [
    "**4.8.2) Deleta registros da tabela PesquisaSatisfacao**"
   ]
  },
  {
   "cell_type": "code",
   "execution_count": 190,
   "metadata": {
    "id": "qgDy3Fx96Gbc"
   },
   "outputs": [],
   "source": [
    "delete_PesquisaSatisfacao = 'delete from PesquisaSatisfacao'"
   ]
  },
  {
   "cell_type": "code",
   "execution_count": 191,
   "metadata": {
    "id": "9sOn7R1q8Wn7"
   },
   "outputs": [],
   "source": [
    "drop_PesquisaSatisfacao = 'drop table PesquisaSatisfacao'"
   ]
  },
  {
   "cell_type": "code",
   "execution_count": 192,
   "metadata": {
    "colab": {
     "base_uri": "https://localhost:8080/"
    },
    "id": "92uzDz0U6GS0",
    "outputId": "74f4b67a-7170-4596-bea6-0430671b0e7f"
   },
   "outputs": [],
   "source": [
    "def deleteRegistrosTabelaPesquisaSatisfacao(clientMySQL, cursorMySQL, delete_PesquisaSatisfacao) -> any:\n",
    "    DeleteTabelaPesquisaSatisfacaoStart = time.time()\n",
    "    ExecutarDelete(clientMySQL, cursorMySQL, delete_PesquisaSatisfacao)\n",
    "    ExecutarDelete(clientMySQL, cursorMySQL, drop_PesquisaSatisfacao)\n",
    "    DeleteTabelaPesquisaSatisfacaoEnd = time.time()\n",
    "    timeDifDeleteTabelaPesquisaSatisfacao = round(DeleteTabelaPesquisaSatisfacaoEnd - DeleteTabelaPesquisaSatisfacaoStart,3)\n",
    "    return timeDifDeleteTabelaPesquisaSatisfacao"
   ]
  },
  {
   "cell_type": "code",
   "execution_count": 193,
   "metadata": {},
   "outputs": [
    {
     "name": "stdout",
     "output_type": "stream",
     "text": [
      "Tempo para exclusão dos registros da tabela PesquisaSatisfacao: 0.017 segundos\n",
      "\n",
      "\n"
     ]
    }
   ],
   "source": [
    "timeDifDeleteTabelaPesquisaSatisfacao = deleteRegistrosTabelaPesquisaSatisfacao(clientMySQL, cursorMySQL, delete_PesquisaSatisfacao) # Loop\n",
    "print(f\"Tempo para exclusão dos registros da tabela PesquisaSatisfacao: {timeDifDeleteTabelaPesquisaSatisfacao} segundos\")\n",
    "print(\"\\n\")"
   ]
  },
  {
   "cell_type": "markdown",
   "metadata": {
    "id": "exY9ACAx4MYP"
   },
   "source": [
    "**4.8.3) Deleta registros da tabela Empresa**"
   ]
  },
  {
   "cell_type": "code",
   "execution_count": 194,
   "metadata": {
    "id": "i0hQhGGZ6HBo"
   },
   "outputs": [],
   "source": [
    "delete_Empresa= 'delete from Empresa'"
   ]
  },
  {
   "cell_type": "code",
   "execution_count": 195,
   "metadata": {
    "id": "Sbs8u8kC8b4k"
   },
   "outputs": [],
   "source": [
    "drop_Empresa= 'drop table Empresa'"
   ]
  },
  {
   "cell_type": "code",
   "execution_count": 196,
   "metadata": {
    "colab": {
     "base_uri": "https://localhost:8080/"
    },
    "id": "s40uVnA_6G5V",
    "outputId": "aaa71172-786d-46c9-f52e-d91f143c9561"
   },
   "outputs": [],
   "source": [
    "def deleteRegistrosTabelaEmpresa(clientMySQL, cursorMySQL, delete_Empresa) -> any:\n",
    "    DeleteTabelaEmpresaStart = time.time()\n",
    "    ExecutarDelete(clientMySQL, cursorMySQL, delete_Empresa)\n",
    "    ExecutarDelete(clientMySQL, cursorMySQL, drop_Empresa)\n",
    "    DeleteTabelaEmpresaEnd = time.time()\n",
    "    timeDifDeleteTabelaEmpresa = round(DeleteTabelaEmpresaEnd - DeleteTabelaEmpresaStart,3)\n",
    "    return timeDifDeleteTabelaEmpresa"
   ]
  },
  {
   "cell_type": "code",
   "execution_count": 197,
   "metadata": {},
   "outputs": [
    {
     "name": "stdout",
     "output_type": "stream",
     "text": [
      "Tempo para exclusão dos registros da tabela Empresa: 0.008 segundos\n",
      "\n",
      "\n"
     ]
    }
   ],
   "source": [
    "timeDifDeleteTabelaEmpresa = deleteRegistrosTabelaEmpresa(clientMySQL, cursorMySQL, delete_Empresa) # Loop\n",
    "print(f\"Tempo para exclusão dos registros da tabela Empresa: {timeDifDeleteTabelaEmpresa} segundos\")\n",
    "print(\"\\n\")"
   ]
  },
  {
   "cell_type": "markdown",
   "metadata": {
    "id": "OE2OgbMc4Mps"
   },
   "source": [
    "**4.8.4) Deleta registros da tabela Linha**"
   ]
  },
  {
   "cell_type": "code",
   "execution_count": 198,
   "metadata": {
    "id": "Nzv7Z1oz6HsT"
   },
   "outputs": [],
   "source": [
    "delete_Linha= 'delete from Linha'"
   ]
  },
  {
   "cell_type": "code",
   "execution_count": 199,
   "metadata": {
    "id": "8SsB-u3M8Gim"
   },
   "outputs": [],
   "source": [
    "drop_Linha= 'drop table Linha'"
   ]
  },
  {
   "cell_type": "code",
   "execution_count": 200,
   "metadata": {
    "colab": {
     "base_uri": "https://localhost:8080/"
    },
    "id": "u_8wQRkH6Hc1",
    "outputId": "869d907f-ca69-4def-bd6a-8a0f0acc3ad3"
   },
   "outputs": [],
   "source": [
    "def deleteRegistrosTabelaLinha(clientMySQL, cursorMySQL, delete_Linha) -> any:\n",
    "    DeleteTabelaLinhaStart = time.time()\n",
    "    ExecutarDelete(clientMySQL, cursorMySQL, delete_Linha)\n",
    "    ExecutarDelete(clientMySQL, cursorMySQL, drop_Linha)\n",
    "    DeleteTabelaLinhaEnd = time.time()\n",
    "    timeDifDeleteTabelaLinha = round(DeleteTabelaLinhaEnd - DeleteTabelaLinhaStart,3)\n",
    "    return timeDifDeleteTabelaLinha"
   ]
  },
  {
   "cell_type": "code",
   "execution_count": 201,
   "metadata": {},
   "outputs": [
    {
     "name": "stdout",
     "output_type": "stream",
     "text": [
      "Tempo para exclusão dos registros da tabela Linha: 0.008 segundos\n",
      "\n",
      "\n"
     ]
    }
   ],
   "source": [
    "timeDifDeleteTabelaLinha = deleteRegistrosTabelaLinha(clientMySQL, cursorMySQL, delete_Linha) # Loop\n",
    "print(f\"Tempo para exclusão dos registros da tabela Linha: {timeDifDeleteTabelaLinha} segundos\")\n",
    "print(\"\\n\")"
   ]
  },
  {
   "cell_type": "markdown",
   "metadata": {
    "id": "_XXbYOBw4M-z"
   },
   "source": [
    "**4.8.5) Deleta registros da tabela ClassificacaoNPS**"
   ]
  },
  {
   "cell_type": "code",
   "execution_count": 202,
   "metadata": {
    "id": "2rfLZMiZ6IZN"
   },
   "outputs": [],
   "source": [
    "delete_ClassificacaoNPS= 'delete from ClassificacaoNPS'"
   ]
  },
  {
   "cell_type": "code",
   "execution_count": 203,
   "metadata": {
    "id": "mKyy9Mvu8LrG"
   },
   "outputs": [],
   "source": [
    "drop_ClassificacaoNPS= 'drop table ClassificacaoNPS'"
   ]
  },
  {
   "cell_type": "code",
   "execution_count": 204,
   "metadata": {
    "colab": {
     "base_uri": "https://localhost:8080/"
    },
    "id": "VwbR6atW6IQx",
    "outputId": "0f78b7bb-7b5e-4313-dbb5-532619dbccda"
   },
   "outputs": [],
   "source": [
    "def deleteRegistrosTabelaClassificacaoNPS(clientMySQL, cursorMySQL, delete_ClassificacaoNPS) -> any:\n",
    "    DeleteTabelaClassificacaoNPSStart = time.time()\n",
    "    ExecutarDelete(clientMySQL, cursorMySQL, delete_ClassificacaoNPS)\n",
    "    ExecutarDelete(clientMySQL, cursorMySQL, drop_ClassificacaoNPS)\n",
    "    DeleteTabelaClassificacaoNPSEnd = time.time()\n",
    "    timeDifDeleteTabelaClassificacaoNPS = round(DeleteTabelaClassificacaoNPSEnd - DeleteTabelaClassificacaoNPSStart,3)\n",
    "    return timeDifDeleteTabelaClassificacaoNPS"
   ]
  },
  {
   "cell_type": "code",
   "execution_count": 205,
   "metadata": {},
   "outputs": [
    {
     "name": "stdout",
     "output_type": "stream",
     "text": [
      "Tempo para exclusão dos registros da tabela ClassificacaoNPS: 0.007 segundos\n",
      "\n",
      "\n"
     ]
    }
   ],
   "source": [
    "timeDifDeleteTabelaClassificacaoNPS = deleteRegistrosTabelaClassificacaoNPS(clientMySQL, cursorMySQL, delete_ClassificacaoNPS) # Loop\n",
    "print(f\"Tempo para exclusão dos registros da tabela ClassificacaoNPS: {timeDifDeleteTabelaClassificacaoNPS} segundos\")\n",
    "print(\"\\n\")"
   ]
  },
  {
   "cell_type": "markdown",
   "metadata": {
    "id": "6r2GF9lO4Nm4"
   },
   "source": [
    "**4.8.4) Tempo total de exclusão dos registros e tabelas**"
   ]
  },
  {
   "cell_type": "code",
   "execution_count": 206,
   "metadata": {
    "colab": {
     "base_uri": "https://localhost:8080/"
    },
    "id": "tz0ZPcB97DiA",
    "outputId": "327edbb1-0222-49d5-b394-58b4a6ec1987"
   },
   "outputs": [
    {
     "name": "stdout",
     "output_type": "stream",
     "text": [
      "Tempo total para exclusão dos registros das tabelas no MySQL:: 0.059 segundos\n",
      "\n",
      "\n"
     ]
    }
   ],
   "source": [
    "totalTimeDeleteMySQL = timeDifDeleteTabelaPosicao + timeDifDeleteTabelaPesquisaSatisfacao + timeDifDeleteTabelaEmpresa + timeDifDeleteTabelaLinha + timeDifDeleteTabelaClassificacaoNPS\n",
    "print(f\"Tempo total para exclusão dos registros das tabelas no MySQL:: {round(totalTimeDeleteMySQL,3)} segundos\")\n",
    "print(\"\\n\")"
   ]
  },
  {
   "cell_type": "markdown",
   "metadata": {
    "id": "5M4HQpD44OAc"
   },
   "source": [
    "**4.9) Desconectar do Banco de Dados**"
   ]
  },
  {
   "cell_type": "code",
   "execution_count": 207,
   "metadata": {
    "id": "lw_JFfeB6_A0"
   },
   "outputs": [],
   "source": [
    "DisconnectMySQLClient(clientMySQL, cursorMySQL)"
   ]
  },
  {
   "cell_type": "markdown",
   "metadata": {
    "id": "_dFoEsgc4OV9"
   },
   "source": [
    "**4.10) Performance do MySQL**"
   ]
  },
  {
   "cell_type": "code",
   "execution_count": 208,
   "metadata": {},
   "outputs": [],
   "source": [
    "host=\"localhost\"\n",
    "user=\"root\"\n",
    "password=\"linux-00\"\n",
    "bd=\"projeto_mestrado\"\n",
    "\n",
    "clientMySQL = CreateMySQLClient(host, user, password, bd)\n",
    "cursorMySQL = clientMySQL.cursor()\n",
    "EscolherBD(cursorMySQL)"
   ]
  },
  {
   "cell_type": "code",
   "execution_count": 209,
   "metadata": {},
   "outputs": [],
   "source": [
    "def stressTestMySQL(iteracoes)->any:\n",
    "    listTotalTimeInsertMySql = []\n",
    "    listTotalTimeFindMySql = []\n",
    "    listTotalTimeUpdateMySql = []\n",
    "    listTotalTimeDeleteMySql = []\n",
    "    try:\n",
    "        for i in range(iteracoes):    \n",
    "            ExecutarScriptDDL(clientMySQL,cursorMySQL,scriptDDL_list)    \n",
    "            # MySQL Create\n",
    "            timeDifInsertTabelaClassificacaoNPS = insertRegistrosTabelaClassificacaoNPS(clientMySQL, cursorMySQL, insert_ClassificacaoNPS) # Loop        \n",
    "            timeDifInsertTabelaEmpresa = insertRegistrosTabelaEmpresa(clientMySQL, cursorMySQL, insert_Empresa) # Loop\n",
    "            timeDifInsertTabelaLinha = insertRegistrosTabelaLinha(clientMySQL, cursorMySQL, insert_Linha) # Loop\n",
    "            timeDifInsertTabelaPosicao = insertTabelaPosicao(clientMySQL, cursorMySQL, insert_Posicao) # Loop\n",
    "            timeDifInsertTabelaPesquisaSatisfacao = insertTabelaPesquisaSatisfacao(clientMySQL, cursorMySQL, insert_PesquisaSatisfacao) # Loop\n",
    "            totalTimeInsertMySql = timeDifInsertTabelaClassificacaoNPS + timeDifInsertTabelaEmpresa + timeDifInsertTabelaLinha + timeDifInsertTabelaPosicao + timeDifInsertTabelaPesquisaSatisfacao\n",
    "            listTotalTimeInsertMySql.append(round(totalTimeInsertMySql,3))\n",
    "            # MongoDB Read\n",
    "            timeDifQuestion1MySQL, result = Question1MySQL(cursorMySQL) # Loop\n",
    "            timeDifQuestion2MySQL, result = Question2MySQL(clientMySQL) # Loop\n",
    "            timeDifQuestion3MySQL,result = Question3MySQL(clientMySQL) # Loop\n",
    "            timeDifQuestion4MySQL,result = Question4MySQL(clientMySQL) # Loop\n",
    "            timeDifQuestion5MySQL,result = Question5MySQL(clientMySQL) # Loop\n",
    "            totalTimeFindMySql = timeDifQuestion1MySQL + timeDifQuestion2MySQL + timeDifQuestion3MySQL + timeDifQuestion4MySQL + timeDifQuestion5MySQL\n",
    "            listTotalTimeFindMySql.append(round(totalTimeFindMySql,3))\n",
    "            # MongoDB Update\n",
    "            timeDifUpdateTabelaPosicao = updateRegistrosTabelaPosicao(clientMySQL, cursorMySQL, update_Posicao) # Loop\n",
    "            timeDifUpdateTabelaPesquisaSatisfacao = updateRegistrosTabelaPesquisaSatisfacao(clientMySQL, cursorMySQL, update_PesquisaSatisfacao) # Loop\n",
    "            totalTimeUpdateMySql = timeDifUpdateTabelaPosicao + timeDifUpdateTabelaPesquisaSatisfacao\n",
    "            listTotalTimeUpdateMySql.append(round(totalTimeUpdateMySql,3))\n",
    "            # MongoDB Delete\n",
    "            timeDifDeleteTabelaPosicao = deleteRegistrosTabelaPosicao(clientMySQL, cursorMySQL, delete_Posicao) # Loop\n",
    "            timeDifDeleteTabelaPesquisaSatisfacao = deleteRegistrosTabelaPesquisaSatisfacao(clientMySQL, cursorMySQL, delete_PesquisaSatisfacao) # Loop\n",
    "            timeDifDeleteTabelaEmpresa = deleteRegistrosTabelaEmpresa(clientMySQL, cursorMySQL, delete_Empresa) # Loop\n",
    "            timeDifDeleteTabelaLinha = deleteRegistrosTabelaLinha(clientMySQL, cursorMySQL, delete_Linha) # Loop\n",
    "            timeDifDeleteTabelaClassificacaoNPS = deleteRegistrosTabelaClassificacaoNPS(clientMySQL, cursorMySQL, delete_ClassificacaoNPS) # Loop\n",
    "            totalTimeDeleteMySql = timeDifDeleteTabelaPosicao + timeDifDeleteTabelaPesquisaSatisfacao + timeDifDeleteTabelaEmpresa + timeDifDeleteTabelaLinha + timeDifDeleteTabelaClassificacaoNPS\n",
    "            listTotalTimeDeleteMySql.append(round(totalTimeDeleteMySql,3))\n",
    "    except Exception as e:\n",
    "        print(e)\n",
    "    return listTotalTimeInsertMySql, listTotalTimeFindMySql, listTotalTimeUpdateMySql, listTotalTimeDeleteMySql\n",
    "        "
   ]
  },
  {
   "cell_type": "code",
   "execution_count": 210,
   "metadata": {},
   "outputs": [],
   "source": [
    "listTotalTimeInsertMySql, listTotalTimeFindMySql, listTotalTimeUpdateMySql, listTotalTimeDeleteMySql = stressTestMySQL(iteracoes)"
   ]
  },
  {
   "cell_type": "code",
   "execution_count": 211,
   "metadata": {},
   "outputs": [],
   "source": [
    "DisconnectMySQLClient(clientMySQL, cursorMySQL)"
   ]
  },
  {
   "cell_type": "code",
   "execution_count": 212,
   "metadata": {
    "colab": {
     "base_uri": "https://localhost:8080/"
    },
    "id": "ErhMwxoV9Ioy",
    "outputId": "4ae70e24-d36f-4eb5-c447-dd1ed2f481d9"
   },
   "outputs": [
    {
     "name": "stdout",
     "output_type": "stream",
     "text": [
      "Tempos totais em segundos para inserir nas tabelas do MySQL\n",
      "[0.046, 0.042, 0.04, 0.041, 0.042, 0.046, 0.046, 0.042, 0.041, 0.044, 0.042, 0.04, 0.053, 0.043, 0.043, 0.174, 0.057, 0.052, 0.043, 0.044, 0.046, 0.045, 0.041, 0.044, 0.054, 0.052, 0.045, 0.045, 0.043, 0.041, 0.043, 0.045, 0.045, 0.043, 0.045, 0.042, 0.058, 0.066, 0.044, 0.042, 0.044, 0.042, 0.042, 0.041, 0.042, 0.043, 0.044, 0.044, 0.043, 0.047, 0.052, 0.045, 0.043, 0.045, 0.045, 0.045, 0.045, 0.069, 0.051, 0.042, 0.044, 0.046, 0.046, 0.046, 0.046, 0.045, 0.044, 0.041, 0.044, 0.046, 0.051, 0.052, 0.046, 0.048, 0.051, 0.047, 0.051, 0.052, 0.051, 0.044, 0.043, 0.054, 0.054, 0.046, 0.047, 0.05, 0.044, 0.047, 0.046, 0.047, 0.043, 0.041, 0.043, 0.043, 0.046, 0.046, 0.047, 0.05, 0.055, 0.05, 0.045, 0.045, 0.051, 0.043, 0.042, 0.045, 0.043, 0.044, 0.045, 0.044, 0.051, 0.047, 0.043, 0.043, 0.042, 0.042, 0.045, 0.042, 0.049, 0.071, 0.077, 0.046, 0.042, 0.041, 0.043, 0.042, 0.042, 0.046, 0.046, 0.044, 0.046, 0.048, 0.051, 0.048, 0.049, 0.055, 0.047, 0.048, 0.05, 0.057, 0.066, 0.061, 0.049, 0.047, 0.057, 0.043, 0.053, 0.055, 0.053, 0.049, 0.048, 0.044, 0.043, 0.041, 0.052, 0.046, 0.052, 0.042, 0.067, 0.062, 0.07, 0.044, 0.052, 0.049, 0.047, 0.046, 0.047, 0.044, 0.042, 0.041, 0.046, 0.046, 0.046, 0.059, 0.046, 0.047, 0.046, 0.059, 0.06, 0.047, 0.061, 0.045, 0.046, 0.044, 0.044, 0.05, 0.043, 0.046, 0.053, 0.056, 0.048, 0.044, 0.042, 0.045, 0.044, 0.042, 0.044, 0.042, 0.05, 0.063]\n",
      "\n",
      "\n"
     ]
    }
   ],
   "source": [
    "#Tempo total de inserção nas tabelas\n",
    "print(f\"Tempos totais em segundos para inserir nas tabelas do MySQL\")\n",
    "print (listTotalTimeInsertMySql)\n",
    "print(\"\\n\")"
   ]
  },
  {
   "cell_type": "code",
   "execution_count": 213,
   "metadata": {},
   "outputs": [
    {
     "name": "stdout",
     "output_type": "stream",
     "text": [
      "0.046,0.05,0.043,0.052,0.043,0.037,0.046,0.035,0.046,0.05,0.044,0.043,0.066,0.042,0.032,0.033,0.032,0.032,0.053,0.059,0.053,0.052,0.056,0.036,0.036,0.032,0.032,0.042,0.044,0.042,0.041,0.045,0.042,0.035,0.07,0.05,0.041,0.041,0.046,0.064,0.043,0.039,0.055,0.045,0.044,0.032,0.034,0.038,0.038,0.036,0.033,0.034,0.034,0.043,0.05,0.044,0.04,0.039,0.039,0.037,0.032,0.037,0.038,0.039,0.032,0.038,0.039,0.083,0.036,0.045,0.043,0.036,0.034,0.045,0.061,0.079,0.047,0.054,0.042,0.04,0.038,0.039,0.035,0.035,0.032,0.035,0.033,0.034,0.037,0.032,0.031,0.031,0.032,0.04,0.037,0.037,0.033,0.039,0.036,0.043,0.037,0.031,0.036,0.04,0.046,0.038,0.038,0.032,0.035,0.037,0.031,0.032,0.045,0.032,0.038,0.036,0.04,0.04,0.041,0.046,0.041,0.047,0.036,0.032,0.031,0.044,0.032,0.034,0.032,0.032,0.032,0.032,0.033,0.036,0.038,0.033,0.036,0.039,0.035,0.034,0.034,0.036,0.103,0.038,0.039,0.032,0.033,0.033,0.032,0.033,0.033,0.036,0.034,0.037,0.054,0.038,0.038,0.037,0.038,0.04,0.042,0.045,0.041,0.048,0.055,0.038,0.032,0.033,0.037,0.034,0.035,0.033,0.032,0.032,0.032,0.033,0.031,0.039,0.038,0.066,0.038,0.038,0.037,0.035,0.038,0.033,0.037,0.035,0.033,0.033,0.034,0.035,0.033,0.062,0.032,0.044,0.058,0.038,0.062,0.034\n"
     ]
    }
   ],
   "source": [
    "print (*listTotalTimeInsertMongo, sep=\",\")"
   ]
  },
  {
   "cell_type": "code",
   "execution_count": 214,
   "metadata": {
    "colab": {
     "base_uri": "https://localhost:8080/"
    },
    "id": "EuVgTctb9aDS",
    "outputId": "dd4132c1-590d-46bb-81e8-5e030e4e40ff"
   },
   "outputs": [
    {
     "name": "stdout",
     "output_type": "stream",
     "text": [
      "Tempos totais em segundos para leitura das Questões no MySQL\n",
      "0.005,0.005,0.005,0.005,0.005,0.005,0.005,0.005,0.005,0.005,0.005,0.005,0.005,0.005,0.005,0.006,0.005,0.006,0.005,0.005,0.005,0.005,0.005,0.005,0.005,0.005,0.005,0.005,0.005,0.005,0.005,0.005,0.005,0.005,0.005,0.005,0.005,0.005,0.005,0.005,0.005,0.005,0.005,0.005,0.005,0.005,0.005,0.005,0.005,0.005,0.005,0.005,0.005,0.005,0.005,0.005,0.005,0.01,0.005,0.005,0.005,0.005,0.005,0.005,0.005,0.005,0.005,0.005,0.006,0.005,0.005,0.005,0.005,0.005,0.005,0.005,0.005,0.005,0.005,0.005,0.005,0.005,0.005,0.005,0.005,0.007,0.005,0.005,0.005,0.006,0.005,0.005,0.005,0.005,0.005,0.005,0.005,0.005,0.005,0.005,0.006,0.005,0.005,0.005,0.005,0.005,0.005,0.005,0.005,0.005,0.005,0.005,0.005,0.005,0.005,0.005,0.005,0.005,0.005,0.005,0.007,0.005,0.005,0.005,0.005,0.005,0.005,0.006,0.005,0.005,0.005,0.005,0.005,0.005,0.005,0.005,0.005,0.005,0.006,0.005,0.005,0.005,0.005,0.005,0.005,0.005,0.006,0.005,0.005,0.005,0.005,0.005,0.005,0.005,0.005,0.005,0.005,0.005,0.005,0.005,0.006,0.005,0.006,0.005,0.006,0.005,0.006,0.005,0.005,0.005,0.005,0.005,0.005,0.007,0.005,0.005,0.005,0.005,0.005,0.005,0.005,0.005,0.005,0.005,0.006,0.005,0.005,0.005,0.005,0.009,0.007,0.005,0.005,0.005,0.005,0.005,0.005,0.005,0.005,0.009\n",
      "\n",
      "\n"
     ]
    }
   ],
   "source": [
    "#Tempo total de leitura das tabelas\n",
    "print(f\"Tempos totais em segundos para leitura das Questões no MySQL\")\n",
    "print (*listTotalTimeFindMySql, sep=\",\")\n",
    "print(\"\\n\")"
   ]
  },
  {
   "cell_type": "code",
   "execution_count": 215,
   "metadata": {
    "colab": {
     "base_uri": "https://localhost:8080/"
    },
    "id": "jBq842Ux9Z7U",
    "outputId": "d45bec18-c9ca-4e7a-9c6e-77b046ff1ad1"
   },
   "outputs": [
    {
     "name": "stdout",
     "output_type": "stream",
     "text": [
      "Tempos totais em segundos para atualização das tabelas no MySQL\n",
      "0.008,0.008,0.008,0.009,0.008,0.009,0.009,0.008,0.008,0.009,0.009,0.008,0.008,0.009,0.008,0.01,0.01,0.01,0.009,0.01,0.011,0.01,0.009,0.008,0.009,0.011,0.009,0.009,0.008,0.008,0.01,0.009,0.008,0.009,0.01,0.009,0.012,0.01,0.009,0.009,0.008,0.009,0.008,0.008,0.008,0.009,0.009,0.01,0.01,0.008,0.009,0.008,0.009,0.009,0.009,0.01,0.009,0.015,0.011,0.008,0.009,0.008,0.009,0.009,0.01,0.008,0.008,0.008,0.01,0.009,0.009,0.009,0.009,0.01,0.01,0.01,0.01,0.01,0.01,0.008,0.008,0.009,0.009,0.009,0.01,0.009,0.044,0.01,0.01,0.01,0.009,0.009,0.009,0.009,0.009,0.009,0.01,0.011,0.01,0.01,0.009,0.008,0.008,0.008,0.008,0.01,0.009,0.01,0.009,0.009,0.009,0.011,0.009,0.008,0.008,0.008,0.008,0.008,0.01,0.01,0.013,0.01,0.008,0.008,0.011,0.008,0.008,0.012,0.009,0.008,0.01,0.01,0.01,0.01,0.009,0.01,0.01,0.009,0.011,0.011,0.01,0.01,0.01,0.012,0.011,0.009,0.009,0.013,0.011,0.008,0.01,0.01,0.008,0.009,0.009,0.01,0.009,0.009,0.01,0.014,0.012,0.008,0.01,0.011,0.01,0.009,0.01,0.009,0.01,0.009,0.01,0.009,0.01,0.01,0.009,0.009,0.01,0.01,0.01,0.011,0.011,0.009,0.009,0.009,0.01,0.01,0.016,0.009,0.009,0.011,0.012,0.008,0.008,0.008,0.011,0.009,0.008,0.008,0.01,0.013\n",
      "\n",
      "\n"
     ]
    }
   ],
   "source": [
    "#Tempo total de atualização das tabelas\n",
    "print(f\"Tempos totais em segundos para atualização das tabelas no MySQL\")\n",
    "print (*listTotalTimeUpdateMySql, sep=\",\")\n",
    "print(\"\\n\")"
   ]
  },
  {
   "cell_type": "code",
   "execution_count": 216,
   "metadata": {
    "colab": {
     "base_uri": "https://localhost:8080/"
    },
    "id": "Cfom3eyq9ZzA",
    "outputId": "e1ebf3f7-c538-4475-fed7-448ddb802568"
   },
   "outputs": [
    {
     "name": "stdout",
     "output_type": "stream",
     "text": [
      "Tempos totais em segundos para exclusão do registros das tabelas no MySQL\n",
      "0.051,0.052,0.05,0.052,0.057,0.054,0.052,0.048,0.051,0.048,0.059,0.051,0.051,0.05,0.052,0.057,0.058,0.057,0.051,0.053,0.058,0.053,0.051,0.054,0.052,0.051,0.051,0.05,0.054,0.055,0.047,0.051,0.051,0.051,0.052,0.05,0.061,0.057,0.049,0.047,0.058,0.061,0.05,0.047,0.05,0.053,0.052,0.058,0.052,0.052,0.053,0.051,0.049,0.056,0.071,0.054,0.12,0.096,0.059,0.05,0.054,0.052,0.052,0.052,0.051,0.051,0.052,0.051,0.064,0.065,0.053,0.056,0.057,0.058,0.055,0.057,0.058,0.059,0.059,0.048,0.053,0.052,0.054,0.054,0.053,0.053,0.057,0.054,0.05,0.057,0.067,0.052,0.048,0.05,0.054,0.051,0.054,0.078,0.063,0.061,0.051,0.051,0.052,0.052,0.05,0.05,0.049,0.049,0.054,0.052,0.05,0.052,0.052,0.049,0.054,0.049,0.053,0.049,0.059,0.063,0.071,0.052,0.055,0.05,0.051,0.05,0.048,0.055,0.054,0.051,0.053,0.053,0.056,0.055,0.05,0.054,0.051,0.056,0.067,0.056,0.056,0.065,0.064,0.072,0.057,0.06,0.054,0.064,0.06,0.053,0.056,0.05,0.051,0.054,0.049,0.052,0.051,0.056,0.056,0.056,0.058,0.049,0.056,0.062,0.062,0.051,0.06,0.063,0.054,0.051,0.057,0.057,0.053,0.052,0.053,0.051,0.052,0.054,0.056,0.066,0.07,0.054,0.06,0.063,0.063,0.06,0.064,0.066,0.058,0.062,0.058,0.068,0.054,0.051,0.06,0.052,0.052,0.052,0.077,0.064\n",
      "\n",
      "\n"
     ]
    }
   ],
   "source": [
    "#Tempo total de exclusão das tabelas\n",
    "print(f\"Tempos totais em segundos para exclusão do registros das tabelas no MySQL\")\n",
    "print (*listTotalTimeDeleteMySql, sep=\",\")\n",
    "print(\"\\n\")"
   ]
  },
  {
   "cell_type": "markdown",
   "metadata": {
    "id": "ecGrBA04_gjv"
   },
   "source": [
    "**5) Gráficos comparativos**"
   ]
  },
  {
   "cell_type": "code",
   "execution_count": 217,
   "metadata": {
    "id": "hY-l7jWnYlhC"
   },
   "outputs": [],
   "source": [
    "%matplotlib inline"
   ]
  },
  {
   "cell_type": "markdown",
   "metadata": {
    "id": "yZ_EJMNfAKKL"
   },
   "source": [
    "**5.1) Operação de inserção**"
   ]
  },
  {
   "cell_type": "code",
   "execution_count": 218,
   "metadata": {},
   "outputs": [],
   "source": [
    "df_Create = pd.DataFrame([])"
   ]
  },
  {
   "cell_type": "code",
   "execution_count": 219,
   "metadata": {},
   "outputs": [],
   "source": [
    "df_Create['MongoDB'] = pd.DataFrame(np.array([listTotalTimeInsertMongo]).T)"
   ]
  },
  {
   "cell_type": "code",
   "execution_count": 220,
   "metadata": {},
   "outputs": [],
   "source": [
    "df_Create['MySQL'] = pd.DataFrame(np.array([listTotalTimeInsertMySql]).T)"
   ]
  },
  {
   "cell_type": "code",
   "execution_count": 221,
   "metadata": {},
   "outputs": [
    {
     "data": {
      "image/png": "[encoded data removed]",
      "text/plain": [
       "<Figure size 640x480 with 1 Axes>"
      ]
     },
     "metadata": {},
     "output_type": "display_data"
    }
   ],
   "source": [
    "ax = sns.lineplot(data = df_Create)\n",
    "ax.set_title('Operação de inserção')\n",
    "ax.set(xlabel='Iterações', ylabel='Segundos')\n",
    "plt.show()"
   ]
  },
  {
   "cell_type": "markdown",
   "metadata": {
    "id": "hI0mT88XAPlL"
   },
   "source": [
    "**5.2) Operação de leitura**"
   ]
  },
  {
   "cell_type": "code",
   "execution_count": 222,
   "metadata": {},
   "outputs": [],
   "source": [
    "df_Read = pd.DataFrame([])"
   ]
  },
  {
   "cell_type": "code",
   "execution_count": 223,
   "metadata": {},
   "outputs": [],
   "source": [
    "df_Read['MongoDB'] = pd.DataFrame(np.array([listTotalTimeFindMongo]).T)"
   ]
  },
  {
   "cell_type": "code",
   "execution_count": 224,
   "metadata": {},
   "outputs": [],
   "source": [
    "df_Read['MySQL'] = pd.DataFrame(np.array([listTotalTimeFindMySql]).T)"
   ]
  },
  {
   "cell_type": "code",
   "execution_count": 225,
   "metadata": {},
   "outputs": [
    {
     "data": {
      "image/png": "[encoded data removed]",
      "text/plain": [
       "<Figure size 640x480 with 1 Axes>"
      ]
     },
     "metadata": {},
     "output_type": "display_data"
    }
   ],
   "source": [
    "ax = sns.lineplot(data = df_Read)\n",
    "ax.set_title('Operação de leitura')\n",
    "ax.set(xlabel='Iterações', ylabel='Segundos')\n",
    "plt.show()"
   ]
  },
  {
   "cell_type": "markdown",
   "metadata": {
    "id": "eVYZ8pGxAWA3"
   },
   "source": [
    "**5.3) Operação de atualização**"
   ]
  },
  {
   "cell_type": "code",
   "execution_count": 226,
   "metadata": {},
   "outputs": [],
   "source": [
    "df_Update = pd.DataFrame([])"
   ]
  },
  {
   "cell_type": "code",
   "execution_count": 227,
   "metadata": {},
   "outputs": [],
   "source": [
    "df_Update['MongoDB'] = pd.DataFrame(np.array([listTotalTimeUpdateMongo]).T)"
   ]
  },
  {
   "cell_type": "code",
   "execution_count": 228,
   "metadata": {},
   "outputs": [],
   "source": [
    "df_Update['MySQL'] = pd.DataFrame(np.array([listTotalTimeUpdateMySql]).T)"
   ]
  },
  {
   "cell_type": "code",
   "execution_count": 229,
   "metadata": {},
   "outputs": [
    {
     "data": {
      "image/png": "[encoded data removed]",
      "text/plain": [
       "<Figure size 640x480 with 1 Axes>"
      ]
     },
     "metadata": {},
     "output_type": "display_data"
    }
   ],
   "source": [
    "ax = sns.lineplot(data = df_Update)\n",
    "ax.set_title('Operação de atualização')\n",
    "ax.set(xlabel='Iterações', ylabel='Segundos')\n",
    "plt.show()"
   ]
  },
  {
   "cell_type": "markdown",
   "metadata": {
    "id": "kGdTe6cbAWZZ"
   },
   "source": [
    "**5.4) Operação de exclusão**"
   ]
  },
  {
   "cell_type": "code",
   "execution_count": 230,
   "metadata": {},
   "outputs": [],
   "source": [
    "df_Delete = pd.DataFrame([])"
   ]
  },
  {
   "cell_type": "code",
   "execution_count": 231,
   "metadata": {},
   "outputs": [],
   "source": [
    "df_Delete['MongoDB'] = pd.DataFrame(np.array([listTotalTimeDeleteMongo]).T)"
   ]
  },
  {
   "cell_type": "code",
   "execution_count": 232,
   "metadata": {},
   "outputs": [],
   "source": [
    "df_Delete['MySQL'] = pd.DataFrame(np.array([listTotalTimeDeleteMySql]).T)"
   ]
  },
  {
   "cell_type": "code",
   "execution_count": 233,
   "metadata": {},
   "outputs": [
    {
     "data": {
      "image/png": "[encoded data removed]",
      "text/plain": [
       "<Figure size 640x480 with 1 Axes>"
      ]
     },
     "metadata": {},
     "output_type": "display_data"
    }
   ],
   "source": [
    "ax = sns.lineplot(data = df_Delete)\n",
    "ax.set_title('Operação de exclusão')\n",
    "ax.set(xlabel='Iterações', ylabel='Segundos')\n",
    "plt.show()"
   ]
  }
 ],
 "metadata": {
  "colab": {
   "provenance": []
  },
  "kernelspec": {
   "display_name": "Python 3 (ipykernel)",
   "language": "python",
   "name": "python3"
  },
  "language_info": {
   "codemirror_mode": {
    "name": "ipython",
    "version": 3
   },
   "file_extension": ".py",
   "mimetype": "text/x-python",
   "name": "python",
   "nbconvert_exporter": "python",
   "pygments_lexer": "ipython3",
   "version": "3.10.12"
  }
 },
 "nbformat": 4,
 "nbformat_minor": 4
}
